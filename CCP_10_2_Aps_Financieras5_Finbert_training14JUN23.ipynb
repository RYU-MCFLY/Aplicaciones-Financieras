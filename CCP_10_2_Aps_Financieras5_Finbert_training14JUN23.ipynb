{
  "cells": [
    {
      "cell_type": "markdown",
      "metadata": {
        "id": "view-in-github",
        "colab_type": "text"
      },
      "source": [
        "<a href=\"https://colab.research.google.com/github/RYU-MCFLY/Aplicaciones-Financieras/blob/main/CCP_10_2_Aps_Financieras5_Finbert_training14JUN23.ipynb\" target=\"_parent\"><img src=\"https://colab.research.google.com/assets/colab-badge.svg\" alt=\"Open In Colab\"/></a>"
      ]
    },
    {
      "cell_type": "markdown",
      "source": [
        "[![Open In Colab](https://colab.research.google.com/assets/colab-badge.svg)](https://colab.research.google.com/github/MaxMitre/Aplicaciones-Financieras/blob/main/Semana9/2_FINBERT_Entrenamiento.ipynb)"
      ],
      "metadata": {
        "id": "GhEixCGMI4vA"
      }
    },
    {
      "cell_type": "markdown",
      "source": [
        "# Instalaciones"
      ],
      "metadata": {
        "id": "DVxzdGPJI7_8"
      }
    },
    {
      "cell_type": "code",
      "source": [
        "!pip install transformers\n",
        "!pip install datasets"
      ],
      "metadata": {
        "id": "0Q0PMWTrsgWL"
      },
      "execution_count": null,
      "outputs": []
    },
    {
      "cell_type": "markdown",
      "metadata": {
        "id": "sYG3oyiDEJOM"
      },
      "source": [
        "# FinBERT\n",
        "\n",
        "En esta clase, mejoraremos lo hecho en la clase anterior (una regresión logística multiclase para clasificación de sentimiento)\n",
        "\n",
        "Esto se hará utilizando un modelo BERT con ligeros cambios, ha sido entrenado refinadamente para tomar en cuenta términos financieros y posteriormente compararemos los resultados con la regresión."
      ]
    },
    {
      "cell_type": "code",
      "source": [
        "from google.colab import drive\n",
        "drive.mount('/content/drive')"
      ],
      "metadata": {
        "id": "S8Jz_6lnEJON"
      },
      "execution_count": null,
      "outputs": []
    },
    {
      "cell_type": "code",
      "source": [
        "# Ver todos los módulos instalados y sus versiones\n",
        "!pip list"
      ],
      "metadata": {
        "id": "aA3bL8bKkTW9"
      },
      "execution_count": null,
      "outputs": []
    },
    {
      "cell_type": "code",
      "source": [
        "!pip install accelerate -U"
      ],
      "metadata": {
        "id": "jVcsMAzX74OY"
      },
      "execution_count": null,
      "outputs": []
    },
    {
      "cell_type": "code",
      "source": [
        "# Info de un módulo en específico\n",
        "!pip show transformers"
      ],
      "metadata": {
        "id": "w870ELW7kfFN"
      },
      "execution_count": null,
      "outputs": []
    },
    {
      "cell_type": "code",
      "source": [
        "from transformers import BertTokenizer, BertForSequenceClassification, pipeline"
      ],
      "metadata": {
        "id": "vdH7_5f3kI2d"
      },
      "execution_count": null,
      "outputs": []
    },
    {
      "cell_type": "code",
      "source": [
        "import numpy as np\n",
        "import pandas as pd\n",
        "from transformers import Trainer, TrainingArguments\n",
        "from datasets import Dataset\n",
        "import torch\n",
        "from sklearn.model_selection import train_test_split\n",
        "from sklearn.metrics import accuracy_score"
      ],
      "metadata": {
        "id": "GPSYB4JiQkrp"
      },
      "execution_count": null,
      "outputs": []
    },
    {
      "cell_type": "code",
      "source": [
        "# tested in transformers==4.18.0, pytorch==1.7.1\n",
        "import torch\n",
        "import transformers\n",
        "torch.__version__, transformers.__version__"
      ],
      "metadata": {
        "id": "3-i1dYI8E9ip"
      },
      "execution_count": null,
      "outputs": []
    },
    {
      "cell_type": "code",
      "source": [
        "torch.cuda.is_available()"
      ],
      "metadata": {
        "id": "y-yMEZokQorM"
      },
      "execution_count": null,
      "outputs": []
    },
    {
      "cell_type": "markdown",
      "source": [
        "# Predicción con finBERT precargado"
      ],
      "metadata": {
        "id": "biEvnhw_EZfr"
      }
    },
    {
      "cell_type": "code",
      "source": [
        "finbert = BertForSequenceClassification.from_pretrained('yiyanghkust/finbert-tone',num_labels=3)\n",
        "tokenizer = BertTokenizer.from_pretrained('yiyanghkust/finbert-tone')"
      ],
      "metadata": {
        "id": "N8H1hlbEky_G"
      },
      "execution_count": null,
      "outputs": []
    },
    {
      "cell_type": "code",
      "source": [
        "# Tareas a ejecutar\n",
        "nlp = pipeline(\"text-classification\", model=finbert, tokenizer=tokenizer)"
      ],
      "metadata": {
        "id": "9dY-deAIrU90"
      },
      "execution_count": null,
      "outputs": []
    },
    {
      "cell_type": "markdown",
      "source": [
        "Primer predicción:"
      ],
      "metadata": {
        "id": "uVrkQ6XMEmd1"
      }
    },
    {
      "cell_type": "code",
      "source": [
        "results = nlp('Growth is strong but we do not have liquidity.')  # 'Growth is strong and we have plenty of liquidity.'\n",
        "print(results)"
      ],
      "metadata": {
        "id": "rOfqF0yarU7g"
      },
      "execution_count": null,
      "outputs": []
    },
    {
      "cell_type": "markdown",
      "source": [
        "## ¿Qué significa Tokenizar?"
      ],
      "metadata": {
        "id": "GPw0sNXoEqGt"
      }
    },
    {
      "cell_type": "code",
      "source": [
        "tokenizer.tokenize('Growth is strong but we do not have liquidity.')"
      ],
      "metadata": {
        "id": "_yw4HRNdlGCw"
      },
      "execution_count": null,
      "outputs": []
    },
    {
      "cell_type": "markdown",
      "source": [
        "## Para que sirven los Tokens?"
      ],
      "metadata": {
        "id": "SESmGiwbEvTk"
      }
    },
    {
      "cell_type": "code",
      "source": [
        "tokenizer.convert_tokens_to_ids(['growth', 'is', 'strong', 'but', 'we', 'do', 'not', 'have', 'liquidity', '.'])"
      ],
      "metadata": {
        "id": "dFmnKmpwrU0u"
      },
      "execution_count": null,
      "outputs": []
    },
    {
      "cell_type": "markdown",
      "source": [
        "Primer paso al procesar los textos."
      ],
      "metadata": {
        "id": "UgKu9mhEE1NR"
      }
    },
    {
      "cell_type": "code",
      "source": [
        "tokenizer('Growth is strong but we do not have liquidity.')['input_ids']"
      ],
      "metadata": {
        "id": "Pd-Rr6FYrUyW"
      },
      "execution_count": null,
      "outputs": []
    },
    {
      "cell_type": "markdown",
      "source": [
        "# Carga de datos"
      ],
      "metadata": {
        "id": "DFSD7mIGQthE"
      }
    },
    {
      "cell_type": "code",
      "source": [
        "data = pd.read_csv('/content/drive/MyDrive/Cruso-ApsFinancieras/semana10/data/sentiment_data/Sentences_50Agree.txt', sep='.@', names=['text','label'], encoding='latin1', engine='python')\n",
        "data"
      ],
      "metadata": {
        "id": "E7fPNkwYE9eM"
      },
      "execution_count": null,
      "outputs": []
    },
    {
      "cell_type": "code",
      "source": [
        "data = data.dropna(subset=['text', 'label'])"
      ],
      "metadata": {
        "id": "zHDxg5N0E9Zj"
      },
      "execution_count": null,
      "outputs": []
    },
    {
      "cell_type": "code",
      "source": [
        "data = data.replace(['negative','neutral','positive'],[0,1,2])"
      ],
      "metadata": {
        "id": "2Gqixf00IN_m"
      },
      "execution_count": null,
      "outputs": []
    },
    {
      "cell_type": "code",
      "source": [
        "df_train, df_test, = train_test_split(data, stratify=data['label'], test_size=0.1, random_state=42)\n",
        "df_train, df_val = train_test_split(df_train, stratify=df_train['label'],test_size=0.1, random_state=42)\n",
        "print(df_train.shape, df_test.shape, df_val.shape)"
      ],
      "metadata": {
        "id": "Ko_oU4_mE9Xd"
      },
      "execution_count": null,
      "outputs": []
    },
    {
      "cell_type": "code",
      "source": [
        "dataset_train = Dataset.from_pandas(df_train)\n",
        "dataset_val = Dataset.from_pandas(df_val)\n",
        "dataset_test = Dataset.from_pandas(df_test)\n",
        "\n",
        "dataset_train = dataset_train.map(lambda e: tokenizer(e['text'], truncation=True, padding='max_length', max_length=128), batched=True)\n",
        "dataset_val = dataset_val.map(lambda e: tokenizer(e['text'], truncation=True, padding='max_length', max_length=128), batched=True)\n",
        "dataset_test = dataset_test.map(lambda e: tokenizer(e['text'], truncation=True, padding='max_length' , max_length=128), batched=True)\n",
        "\n",
        "dataset_train.set_format(type='torch', columns=['input_ids', 'token_type_ids', 'attention_mask', 'label'])\n",
        "dataset_val.set_format(type='torch', columns=['input_ids', 'token_type_ids', 'attention_mask', 'label'])\n",
        "dataset_test.set_format(type='torch', columns=['input_ids', 'token_type_ids', 'attention_mask', 'label'])"
      ],
      "metadata": {
        "id": "WG2j9C53E9VI"
      },
      "execution_count": null,
      "outputs": []
    },
    {
      "cell_type": "markdown",
      "source": [
        "## Ejercicio\n",
        "\n",
        "¿Como se ven los datasets preparados?\n",
        "\n",
        "Traten de inspeccionar los datos y ver como son"
      ],
      "metadata": {
        "id": "kq5jecaXHWhP"
      }
    },
    {
      "cell_type": "code",
      "source": [
        "#@title Antes de preprocesar el objeto Dataset\n",
        "\n",
        "Dataset.from_pandas(df_train)[0]"
      ],
      "metadata": {
        "cellView": "form",
        "id": "LTu3WjmRRWzz"
      },
      "execution_count": null,
      "outputs": []
    },
    {
      "cell_type": "code",
      "source": [
        "#@title Procesado\n",
        "dataset_train[0]"
      ],
      "metadata": {
        "cellView": "form",
        "id": "fa_j2KyYQw3V"
      },
      "execution_count": null,
      "outputs": []
    },
    {
      "cell_type": "markdown",
      "source": [
        "# Configuración para entrenamiento"
      ],
      "metadata": {
        "id": "blP-8fEEQxL3"
      }
    },
    {
      "cell_type": "code",
      "source": [
        "def compute_metrics(eval_pred):\n",
        "    predictions, labels = eval_pred\n",
        "    predictions = np.argmax(predictions, axis=1)\n",
        "    return {'accuracy' : accuracy_score(predictions, labels)}\n",
        "\n",
        "args = TrainingArguments(\n",
        "        output_dir = 'temp/',\n",
        "        evaluation_strategy = 'epoch',\n",
        "        save_strategy = 'epoch',\n",
        "        learning_rate=2e-5,\n",
        "        per_device_train_batch_size=32,\n",
        "        per_device_eval_batch_size=32,\n",
        "        num_train_epochs=5,\n",
        "        weight_decay=0.01,\n",
        "        load_best_model_at_end=True,\n",
        "        metric_for_best_model='accuracy',\n",
        ")\n",
        "\n",
        "trainer = Trainer(\n",
        "        model=finbert,                         # the instantiated 🤗 Transformers model to be trained\n",
        "        args=args,                  # training arguments, defined above\n",
        "        train_dataset=dataset_train,         # training dataset\n",
        "        eval_dataset=dataset_val,            # evaluation dataset\n",
        "        compute_metrics=compute_metrics\n",
        ")"
      ],
      "metadata": {
        "id": "mzluz6FTE9S5"
      },
      "execution_count": null,
      "outputs": []
    },
    {
      "cell_type": "code",
      "source": [
        "trainer.train()\n"
      ],
      "metadata": {
        "id": "t5p8OkRIE9Qp"
      },
      "execution_count": null,
      "outputs": []
    },
    {
      "cell_type": "markdown",
      "source": [
        "Evaluación"
      ],
      "metadata": {
        "id": "8MXFnmUrIpKJ"
      }
    },
    {
      "cell_type": "code",
      "source": [
        "finbert.eval()\n",
        "trainer.predict(dataset_test).metrics"
      ],
      "metadata": {
        "id": "p-fhThAiE9OU"
      },
      "execution_count": null,
      "outputs": []
    },
    {
      "cell_type": "code",
      "source": [
        "trainer.predict(dataset_test)"
      ],
      "metadata": {
        "id": "iDkFy_h4KsnI"
      },
      "execution_count": null,
      "outputs": []
    },
    {
      "cell_type": "code",
      "source": [
        "y_pred = trainer.predict(dataset_test).predictions"
      ],
      "metadata": {
        "id": "1nNU9UMOKxNl"
      },
      "execution_count": null,
      "outputs": []
    },
    {
      "cell_type": "code",
      "source": [
        "y_pred"
      ],
      "metadata": {
        "id": "lNPW643tLzJ9"
      },
      "execution_count": null,
      "outputs": []
    },
    {
      "cell_type": "code",
      "source": [
        "y_pred.argmax(axis=1)"
      ],
      "metadata": {
        "id": "bM_ory10LZnh"
      },
      "execution_count": null,
      "outputs": []
    },
    {
      "cell_type": "code",
      "source": [
        "comparativo = df_test.copy()"
      ],
      "metadata": {
        "id": "fjnHAtrbK4nj"
      },
      "execution_count": null,
      "outputs": []
    },
    {
      "cell_type": "code",
      "source": [
        "comparativo['predicted'] = y_pred.argmax(axis=1)"
      ],
      "metadata": {
        "id": "RvPMTay3LHv-"
      },
      "execution_count": null,
      "outputs": []
    },
    {
      "cell_type": "code",
      "source": [
        "comparativo"
      ],
      "metadata": {
        "id": "9oSvy5FbLLtx"
      },
      "execution_count": null,
      "outputs": []
    },
    {
      "cell_type": "code",
      "source": [
        "from sklearn.metrics import ConfusionMatrixDisplay, classification_report, log_loss"
      ],
      "metadata": {
        "id": "_fagKWh4Avoh"
      },
      "execution_count": null,
      "outputs": []
    },
    {
      "cell_type": "code",
      "source": [
        "print(classification_report(comparativo['label'], comparativo['predicted']))"
      ],
      "metadata": {
        "id": "FruYorcJA0ki"
      },
      "execution_count": null,
      "outputs": []
    },
    {
      "cell_type": "code",
      "source": [
        "ConfusionMatrixDisplay.from_predictions(comparativo['label'], comparativo['predicted'])"
      ],
      "metadata": {
        "id": "2uXquvj2ex74"
      },
      "execution_count": null,
      "outputs": []
    },
    {
      "cell_type": "code",
      "source": [
        "comparativo['label'].value_counts()"
      ],
      "metadata": {
        "id": "iCS4E35wBsaB"
      },
      "execution_count": null,
      "outputs": []
    },
    {
      "cell_type": "code",
      "source": [
        "comparativo['predicted'].value_counts()"
      ],
      "metadata": {
        "id": "QgJCfNQjBivv"
      },
      "execution_count": null,
      "outputs": []
    },
    {
      "cell_type": "markdown",
      "source": [
        "Guardar el modelo refinado (fine tuned)"
      ],
      "metadata": {
        "id": "DHzbA7fkIqsm"
      }
    },
    {
      "cell_type": "code",
      "source": [
        "# Ojo, lo guardo en una carpeta que se borrará, es su decisión guardarlo en otro lado\n",
        "trainer.save_model('finbert-sentiment/')"
      ],
      "metadata": {
        "id": "3-cvhafyE9MT"
      },
      "execution_count": null,
      "outputs": []
    },
    {
      "cell_type": "markdown",
      "source": [
        "# Método \"antiguo\": TextBlob"
      ],
      "metadata": {
        "id": "RDWh-ClTJDFU"
      }
    },
    {
      "cell_type": "code",
      "execution_count": null,
      "metadata": {
        "ExecuteTime": {
          "end_time": "2020-03-23T15:59:03.875213Z",
          "start_time": "2020-03-23T15:59:03.857612Z"
        },
        "id": "kOtiACscfKgX"
      },
      "outputs": [],
      "source": [
        "text = \"Later that day Apple said it was revising down its earnings expectations in \\\n",
        "the fourth quarter of 2018, largely because of lower sales and signs of economic weakness in China. \\\n",
        "The news rapidly infected financial markets. Apple’s share price fell by around 7% in after-hours \\\n",
        "trading and the decline was extended to more than 10% when the market opened. The dollar fell \\\n",
        "by 3.7% against the yen in a matter of minutes after the announcement, before rapidly recovering \\\n",
        "some ground. Asian stockmarkets closed down on January 3rd and European ones opened lower. \\\n",
        "Yields on government bonds fell as investors fled to the traditional haven in a market storm.\""
      ]
    },
    {
      "cell_type": "code",
      "execution_count": null,
      "metadata": {
        "id": "Z8jwxcQgfKgX"
      },
      "outputs": [],
      "source": [
        "import nltk\n",
        "nltk.download('punkt')"
      ]
    },
    {
      "cell_type": "code",
      "execution_count": null,
      "metadata": {
        "ExecuteTime": {
          "end_time": "2020-03-23T15:59:19.531663Z",
          "start_time": "2020-03-23T15:59:17.744984Z"
        },
        "scrolled": true,
        "id": "NDTi4fq2fKgY"
      },
      "outputs": [],
      "source": [
        "result = pd.DataFrame()"
      ]
    },
    {
      "cell_type": "code",
      "source": [
        "from textblob import TextBlob"
      ],
      "metadata": {
        "id": "0qyF-ciwJGIi"
      },
      "execution_count": null,
      "outputs": []
    },
    {
      "cell_type": "code",
      "execution_count": null,
      "metadata": {
        "ExecuteTime": {
          "end_time": "2020-03-23T15:59:20.519047Z",
          "start_time": "2020-03-23T15:59:20.440450Z"
        },
        "id": "V3bF9UsWfKgY"
      },
      "outputs": [],
      "source": [
        "blob = TextBlob(text)\n",
        "result['textblob_prediction'] = [sentence.sentiment.polarity for sentence in blob.sentences]\n",
        "result"
      ]
    },
    {
      "cell_type": "code",
      "source": [
        "blob.sentences"
      ],
      "metadata": {
        "id": "qTHPkpGuNLcy"
      },
      "execution_count": null,
      "outputs": []
    },
    {
      "cell_type": "code",
      "execution_count": null,
      "metadata": {
        "ExecuteTime": {
          "end_time": "2020-03-23T15:59:38.737969Z",
          "start_time": "2020-03-23T15:59:38.718255Z"
        },
        "id": "HADXSxmgfKgY"
      },
      "outputs": [],
      "source": [
        "print(f'Average sentiment is %.2f.' % (result.textblob_prediction.mean()))"
      ]
    },
    {
      "cell_type": "markdown",
      "metadata": {
        "id": "1S7fmuRifKgY"
      },
      "source": [
        "Otro ejemplo"
      ]
    },
    {
      "cell_type": "code",
      "execution_count": null,
      "metadata": {
        "ExecuteTime": {
          "end_time": "2020-03-23T15:59:45.922058Z",
          "start_time": "2020-03-23T15:59:45.904622Z"
        },
        "id": "2kscYSzIfKgZ"
      },
      "outputs": [],
      "source": [
        "text2 = \"Shares in the spin-off of South African e-commerce group Naspers surged more than 25% \\\n",
        "in the first minutes of their market debut in Amsterdam on Wednesday. Bob van Dijk, CEO of \\\n",
        "Naspers and Prosus Group poses at Amsterdam's stock exchange, as Prosus begins trading on the \\\n",
        "Euronext stock exchange in Amsterdam, Netherlands, September 11, 2019. REUTERS/Piroschka van de Wouw \\\n",
        "Prosus comprises Naspers’ global empire of consumer internet assets, with the jewel in the crown a \\\n",
        "31% stake in Chinese tech titan Tencent. There is 'way more demand than is even available, so that’s \\\n",
        "good,' said the CEO of Euronext Amsterdam, Maurice van Tilburg. 'It’s going to be an interesting \\\n",
        "hour of trade after opening this morning.' Euronext had given an indicative price of 58.70 euros \\\n",
        "per share for Prosus, implying a market value of 95.3 billion euros ($105 billion). The shares \\\n",
        "jumped to 76 euros on opening and were trading at 75 euros at 0719 GMT.\""
      ]
    },
    {
      "cell_type": "code",
      "execution_count": null,
      "metadata": {
        "ExecuteTime": {
          "end_time": "2020-03-23T15:59:48.152474Z",
          "start_time": "2020-03-23T15:59:47.028417Z"
        },
        "id": "gyv0M3_sfKgZ"
      },
      "outputs": [],
      "source": [
        "result2 = pd.DataFrame()\n",
        "blob = TextBlob(text2)\n",
        "result2['textblob_prediction'] = [sentence.sentiment.polarity for sentence in blob.sentences]"
      ]
    },
    {
      "cell_type": "code",
      "execution_count": null,
      "metadata": {
        "ExecuteTime": {
          "end_time": "2020-03-23T15:59:50.428951Z",
          "start_time": "2020-03-23T15:59:50.402385Z"
        },
        "id": "FFnDOQj1fKgZ"
      },
      "outputs": [],
      "source": [
        "result2"
      ]
    },
    {
      "cell_type": "code",
      "source": [
        "blob.sentences"
      ],
      "metadata": {
        "id": "iYwOvwI0NVHt"
      },
      "execution_count": null,
      "outputs": []
    },
    {
      "cell_type": "code",
      "execution_count": null,
      "metadata": {
        "ExecuteTime": {
          "end_time": "2020-03-23T16:00:27.031491Z",
          "start_time": "2020-03-23T16:00:27.012639Z"
        },
        "id": "yyfFmIpHfKgZ"
      },
      "outputs": [],
      "source": [
        "print(f'Average sentiment is %.2f.' % (result2.textblob_prediction.mean()))"
      ]
    },
    {
      "cell_type": "markdown",
      "source": [
        "# Referencias\n",
        "\n",
        "- Paper: https://arxiv.org/pdf/1908.10063.pdf\n",
        "- https://github.com/yya518/FinBERT/blob/master/finetune.ipynb\n",
        "- https://huggingface.co/yiyanghkust/finbert-tone\n",
        "- https://www.tensorflow.org/text/tutorials/classify_text_with_bert"
      ],
      "metadata": {
        "id": "9uMHd9TPyvin"
      }
    },
    {
      "cell_type": "markdown",
      "source": [
        "Paper con código:\n",
        "- http://nlp.seas.harvard.edu/annotated-transformer/"
      ],
      "metadata": {
        "id": "IAYngtfBcMZp"
      }
    }
  ],
  "metadata": {
    "kernelspec": {
      "display_name": "Python 3",
      "name": "python3"
    },
    "language_info": {
      "name": "python"
    },
    "pycharm": {
      "stem_cell": {
        "cell_type": "raw",
        "metadata": {
          "collapsed": false
        },
        "source": []
      }
    },
    "toc": {
      "base_numbering": 1,
      "nav_menu": {},
      "number_sections": true,
      "sideBar": true,
      "skip_h1_title": true,
      "title_cell": "Table of Contents",
      "title_sidebar": "Contents",
      "toc_cell": false,
      "toc_position": {},
      "toc_section_display": true,
      "toc_window_display": true
    },
    "colab": {
      "provenance": [],
      "include_colab_link": true
    },
    "accelerator": "GPU",
    "gpuClass": "standard"
  },
  "nbformat": 4,
  "nbformat_minor": 0
}