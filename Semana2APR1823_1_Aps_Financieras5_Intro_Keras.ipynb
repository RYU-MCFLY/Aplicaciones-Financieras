{
  "nbformat": 4,
  "nbformat_minor": 0,
  "metadata": {
    "colab": {
      "provenance": [],
      "include_colab_link": true
    },
    "kernelspec": {
      "name": "python3",
      "display_name": "Python 3"
    },
    "language_info": {
      "name": "python"
    }
  },
  "cells": [
    {
      "cell_type": "markdown",
      "metadata": {
        "id": "view-in-github",
        "colab_type": "text"
      },
      "source": [
        "<a href=\"https://colab.research.google.com/github/RYU-MCFLY/Aplicaciones-Financieras/blob/main/Semana2APR1823_1_Aps_Financieras5_Intro_Keras.ipynb\" target=\"_parent\"><img src=\"https://colab.research.google.com/assets/colab-badge.svg\" alt=\"Open In Colab\"/></a>"
      ]
    },
    {
      "cell_type": "markdown",
      "source": [
        "[![Open In Colab](https://colab.research.google.com/assets/colab-badge.svg)](https://colab.research.google.com/github/MaxMitre/Aplicaciones-Financieras/blob/main/Semana2/Intro_Keras..ipynb)"
      ],
      "metadata": {
        "id": "7349NUkNQQWW"
      }
    },
    {
      "cell_type": "markdown",
      "source": [
        "# Problema\n",
        "\n",
        "Esta semana utilizaremos el mismo DataSet para ambas sesiones. Ésta primera sesión será para analizar un problema de fraude de modo sencillo, es decir, con un clasificador binario sencillo (que nos servirá para introducir algunas herramientas).\n",
        "\n",
        "Podemos encontrar la base de datos en https://www.kaggle.com/datasets/mlg-ulb/creditcardfraud\n",
        "\n",
        "Los datos contienen transacciones realizadas mediante trarjeta de crédito en Septiembre del 2013 por titulares de tarjeta en Europa. Ocurrieron en 2 días en los que hubo 492 fraudes de 284,807 transacciones.\n",
        "\n",
        "Solo contiene variables numéricas y ya pasó por un proceso de PCA para solo quedarse con las mejores características.\n",
        "\n",
        "La columna de \"Time\" contiene los segundos ocurridos entre transacciones. \"Amount\" es la cantidad de la transacción y \"Class\" es la variable que tiene 1 en caso de fraude y 0 en caso contrario."
      ],
      "metadata": {
        "id": "uudpvvkIIXwm"
      }
    },
    {
      "cell_type": "code",
      "source": [
        "from google.colab import drive\n",
        "drive.mount('/content/drive')"
      ],
      "metadata": {
        "id": "aYYkRFOwE9HG",
        "colab": {
          "base_uri": "https://localhost:8080/"
        },
        "outputId": "d262ac71-ab01-4f4f-a7ef-73245c03c123"
      },
      "execution_count": 1,
      "outputs": [
        {
          "output_type": "stream",
          "name": "stdout",
          "text": [
            "Mounted at /content/drive\n"
          ]
        }
      ]
    },
    {
      "cell_type": "markdown",
      "source": [
        "# Leer Datos usando un método distinto al que estamos acostumbrados"
      ],
      "metadata": {
        "id": "Lk9av5KKHYgC"
      }
    },
    {
      "cell_type": "code",
      "execution_count": 3,
      "metadata": {
        "id": "EQUuvtmbEqpK",
        "colab": {
          "base_uri": "https://localhost:8080/"
        },
        "outputId": "7e007fb9-39c5-4b08-9d32-f4c8e84e9cde"
      },
      "outputs": [
        {
          "output_type": "stream",
          "name": "stdout",
          "text": [
            "HEADER: \"Time\",\"V1\",\"V2\",\"V3\",\"V4\",\"V5\",\"V6\",\"V7\",\"V8\",\"V9\",\"V10\",\"V11\",\"V12\",\"V13\",\"V14\",\"V15\",\"V16\",\"V17\",\"V18\",\"V19\",\"V20\",\"V21\",\"V22\",\"V23\",\"V24\",\"V25\",\"V26\",\"V27\",\"V28\",\"Amount\",\"Class\"\n",
            "EJEMPLO DE CARACTERÍSTICAS: [0.0, -1.3598071336738, -0.0727811733098497, 2.53634673796914, 1.37815522427443, -0.338320769942518, 0.462387777762292, 0.239598554061257, 0.0986979012610507, 0.363786969611213, 0.0907941719789316, -0.551599533260813, -0.617800855762348, -0.991389847235408, -0.311169353699879, 1.46817697209427, -0.470400525259478, 0.207971241929242, 0.0257905801985591, 0.403992960255733, 0.251412098239705, -0.018306777944153, 0.277837575558899, -0.110473910188767, 0.0669280749146731, 0.128539358273528, -0.189114843888824, 0.133558376740387, -0.0210530534538215, 149.62]\n",
            "features.shape: (284807, 30)\n",
            "targets.shape: (284807, 1)\n"
          ]
        }
      ],
      "source": [
        "import numpy as np\n",
        "\n",
        "# Datos disponibles en https://www.kaggle.com/mlg-ulb/creditcardfraud/\n",
        "\n",
        "all_features = []\n",
        "all_targets = []\n",
        "with open('/content/drive/MyDrive/semana3/creditcard.csv') as f:\n",
        "    for i, line in enumerate(f):\n",
        "        if i == 0:\n",
        "            print(\"HEADER:\", line.strip())\n",
        "            continue  # Skip header\n",
        "        fields = line.strip().split(\",\")\n",
        "        all_features.append([float(v.replace('\"', \"\")) for v in fields[:-1]])\n",
        "        all_targets.append([int(fields[-1].replace('\"', \"\"))])\n",
        "        if i == 1:\n",
        "            print(\"EJEMPLO DE CARACTERÍSTICAS:\", all_features[-1])\n",
        "\n",
        "features = np.array(all_features, dtype=\"float32\")\n",
        "targets = np.array(all_targets, dtype=\"uint8\")\n",
        "print(\"features.shape:\", features.shape)\n",
        "print(\"targets.shape:\", targets.shape)"
      ]
    },
    {
      "cell_type": "code",
      "source": [
        "import pandas as pd\n",
        "\n",
        "en_dataframe = pd.read_csv('/content/drive/MyDrive/Cruso-ApsFinancieras/semana3/creditcard.csv')"
      ],
      "metadata": {
        "id": "FQ6OYI_RRu7F"
      },
      "execution_count": null,
      "outputs": []
    },
    {
      "cell_type": "code",
      "source": [
        "en_dataframe"
      ],
      "metadata": {
        "colab": {
          "base_uri": "https://localhost:8080/",
          "height": 488
        },
        "id": "hhkH6A1exRcf",
        "outputId": "6e2b503d-5fc0-4690-dea6-e7c30d2a5872"
      },
      "execution_count": null,
      "outputs": [
        {
          "output_type": "execute_result",
          "data": {
            "text/plain": [
              "            Time         V1         V2        V3        V4        V5  \\\n",
              "0            0.0  -1.359807  -0.072781  2.536347  1.378155 -0.338321   \n",
              "1            0.0   1.191857   0.266151  0.166480  0.448154  0.060018   \n",
              "2            1.0  -1.358354  -1.340163  1.773209  0.379780 -0.503198   \n",
              "3            1.0  -0.966272  -0.185226  1.792993 -0.863291 -0.010309   \n",
              "4            2.0  -1.158233   0.877737  1.548718  0.403034 -0.407193   \n",
              "...          ...        ...        ...       ...       ...       ...   \n",
              "284802  172786.0 -11.881118  10.071785 -9.834783 -2.066656 -5.364473   \n",
              "284803  172787.0  -0.732789  -0.055080  2.035030 -0.738589  0.868229   \n",
              "284804  172788.0   1.919565  -0.301254 -3.249640 -0.557828  2.630515   \n",
              "284805  172788.0  -0.240440   0.530483  0.702510  0.689799 -0.377961   \n",
              "284806  172792.0  -0.533413  -0.189733  0.703337 -0.506271 -0.012546   \n",
              "\n",
              "              V6        V7        V8        V9  ...       V21       V22  \\\n",
              "0       0.462388  0.239599  0.098698  0.363787  ... -0.018307  0.277838   \n",
              "1      -0.082361 -0.078803  0.085102 -0.255425  ... -0.225775 -0.638672   \n",
              "2       1.800499  0.791461  0.247676 -1.514654  ...  0.247998  0.771679   \n",
              "3       1.247203  0.237609  0.377436 -1.387024  ... -0.108300  0.005274   \n",
              "4       0.095921  0.592941 -0.270533  0.817739  ... -0.009431  0.798278   \n",
              "...          ...       ...       ...       ...  ...       ...       ...   \n",
              "284802 -2.606837 -4.918215  7.305334  1.914428  ...  0.213454  0.111864   \n",
              "284803  1.058415  0.024330  0.294869  0.584800  ...  0.214205  0.924384   \n",
              "284804  3.031260 -0.296827  0.708417  0.432454  ...  0.232045  0.578229   \n",
              "284805  0.623708 -0.686180  0.679145  0.392087  ...  0.265245  0.800049   \n",
              "284806 -0.649617  1.577006 -0.414650  0.486180  ...  0.261057  0.643078   \n",
              "\n",
              "             V23       V24       V25       V26       V27       V28  Amount  \\\n",
              "0      -0.110474  0.066928  0.128539 -0.189115  0.133558 -0.021053  149.62   \n",
              "1       0.101288 -0.339846  0.167170  0.125895 -0.008983  0.014724    2.69   \n",
              "2       0.909412 -0.689281 -0.327642 -0.139097 -0.055353 -0.059752  378.66   \n",
              "3      -0.190321 -1.175575  0.647376 -0.221929  0.062723  0.061458  123.50   \n",
              "4      -0.137458  0.141267 -0.206010  0.502292  0.219422  0.215153   69.99   \n",
              "...          ...       ...       ...       ...       ...       ...     ...   \n",
              "284802  1.014480 -0.509348  1.436807  0.250034  0.943651  0.823731    0.77   \n",
              "284803  0.012463 -1.016226 -0.606624 -0.395255  0.068472 -0.053527   24.79   \n",
              "284804 -0.037501  0.640134  0.265745 -0.087371  0.004455 -0.026561   67.88   \n",
              "284805 -0.163298  0.123205 -0.569159  0.546668  0.108821  0.104533   10.00   \n",
              "284806  0.376777  0.008797 -0.473649 -0.818267 -0.002415  0.013649  217.00   \n",
              "\n",
              "        Class  \n",
              "0           0  \n",
              "1           0  \n",
              "2           0  \n",
              "3           0  \n",
              "4           0  \n",
              "...       ...  \n",
              "284802      0  \n",
              "284803      0  \n",
              "284804      0  \n",
              "284805      0  \n",
              "284806      0  \n",
              "\n",
              "[284807 rows x 31 columns]"
            ],
            "text/html": [
              "\n",
              "  <div id=\"df-39d44774-10eb-4d18-8f16-8503a7ff6bea\">\n",
              "    <div class=\"colab-df-container\">\n",
              "      <div>\n",
              "<style scoped>\n",
              "    .dataframe tbody tr th:only-of-type {\n",
              "        vertical-align: middle;\n",
              "    }\n",
              "\n",
              "    .dataframe tbody tr th {\n",
              "        vertical-align: top;\n",
              "    }\n",
              "\n",
              "    .dataframe thead th {\n",
              "        text-align: right;\n",
              "    }\n",
              "</style>\n",
              "<table border=\"1\" class=\"dataframe\">\n",
              "  <thead>\n",
              "    <tr style=\"text-align: right;\">\n",
              "      <th></th>\n",
              "      <th>Time</th>\n",
              "      <th>V1</th>\n",
              "      <th>V2</th>\n",
              "      <th>V3</th>\n",
              "      <th>V4</th>\n",
              "      <th>V5</th>\n",
              "      <th>V6</th>\n",
              "      <th>V7</th>\n",
              "      <th>V8</th>\n",
              "      <th>V9</th>\n",
              "      <th>...</th>\n",
              "      <th>V21</th>\n",
              "      <th>V22</th>\n",
              "      <th>V23</th>\n",
              "      <th>V24</th>\n",
              "      <th>V25</th>\n",
              "      <th>V26</th>\n",
              "      <th>V27</th>\n",
              "      <th>V28</th>\n",
              "      <th>Amount</th>\n",
              "      <th>Class</th>\n",
              "    </tr>\n",
              "  </thead>\n",
              "  <tbody>\n",
              "    <tr>\n",
              "      <th>0</th>\n",
              "      <td>0.0</td>\n",
              "      <td>-1.359807</td>\n",
              "      <td>-0.072781</td>\n",
              "      <td>2.536347</td>\n",
              "      <td>1.378155</td>\n",
              "      <td>-0.338321</td>\n",
              "      <td>0.462388</td>\n",
              "      <td>0.239599</td>\n",
              "      <td>0.098698</td>\n",
              "      <td>0.363787</td>\n",
              "      <td>...</td>\n",
              "      <td>-0.018307</td>\n",
              "      <td>0.277838</td>\n",
              "      <td>-0.110474</td>\n",
              "      <td>0.066928</td>\n",
              "      <td>0.128539</td>\n",
              "      <td>-0.189115</td>\n",
              "      <td>0.133558</td>\n",
              "      <td>-0.021053</td>\n",
              "      <td>149.62</td>\n",
              "      <td>0</td>\n",
              "    </tr>\n",
              "    <tr>\n",
              "      <th>1</th>\n",
              "      <td>0.0</td>\n",
              "      <td>1.191857</td>\n",
              "      <td>0.266151</td>\n",
              "      <td>0.166480</td>\n",
              "      <td>0.448154</td>\n",
              "      <td>0.060018</td>\n",
              "      <td>-0.082361</td>\n",
              "      <td>-0.078803</td>\n",
              "      <td>0.085102</td>\n",
              "      <td>-0.255425</td>\n",
              "      <td>...</td>\n",
              "      <td>-0.225775</td>\n",
              "      <td>-0.638672</td>\n",
              "      <td>0.101288</td>\n",
              "      <td>-0.339846</td>\n",
              "      <td>0.167170</td>\n",
              "      <td>0.125895</td>\n",
              "      <td>-0.008983</td>\n",
              "      <td>0.014724</td>\n",
              "      <td>2.69</td>\n",
              "      <td>0</td>\n",
              "    </tr>\n",
              "    <tr>\n",
              "      <th>2</th>\n",
              "      <td>1.0</td>\n",
              "      <td>-1.358354</td>\n",
              "      <td>-1.340163</td>\n",
              "      <td>1.773209</td>\n",
              "      <td>0.379780</td>\n",
              "      <td>-0.503198</td>\n",
              "      <td>1.800499</td>\n",
              "      <td>0.791461</td>\n",
              "      <td>0.247676</td>\n",
              "      <td>-1.514654</td>\n",
              "      <td>...</td>\n",
              "      <td>0.247998</td>\n",
              "      <td>0.771679</td>\n",
              "      <td>0.909412</td>\n",
              "      <td>-0.689281</td>\n",
              "      <td>-0.327642</td>\n",
              "      <td>-0.139097</td>\n",
              "      <td>-0.055353</td>\n",
              "      <td>-0.059752</td>\n",
              "      <td>378.66</td>\n",
              "      <td>0</td>\n",
              "    </tr>\n",
              "    <tr>\n",
              "      <th>3</th>\n",
              "      <td>1.0</td>\n",
              "      <td>-0.966272</td>\n",
              "      <td>-0.185226</td>\n",
              "      <td>1.792993</td>\n",
              "      <td>-0.863291</td>\n",
              "      <td>-0.010309</td>\n",
              "      <td>1.247203</td>\n",
              "      <td>0.237609</td>\n",
              "      <td>0.377436</td>\n",
              "      <td>-1.387024</td>\n",
              "      <td>...</td>\n",
              "      <td>-0.108300</td>\n",
              "      <td>0.005274</td>\n",
              "      <td>-0.190321</td>\n",
              "      <td>-1.175575</td>\n",
              "      <td>0.647376</td>\n",
              "      <td>-0.221929</td>\n",
              "      <td>0.062723</td>\n",
              "      <td>0.061458</td>\n",
              "      <td>123.50</td>\n",
              "      <td>0</td>\n",
              "    </tr>\n",
              "    <tr>\n",
              "      <th>4</th>\n",
              "      <td>2.0</td>\n",
              "      <td>-1.158233</td>\n",
              "      <td>0.877737</td>\n",
              "      <td>1.548718</td>\n",
              "      <td>0.403034</td>\n",
              "      <td>-0.407193</td>\n",
              "      <td>0.095921</td>\n",
              "      <td>0.592941</td>\n",
              "      <td>-0.270533</td>\n",
              "      <td>0.817739</td>\n",
              "      <td>...</td>\n",
              "      <td>-0.009431</td>\n",
              "      <td>0.798278</td>\n",
              "      <td>-0.137458</td>\n",
              "      <td>0.141267</td>\n",
              "      <td>-0.206010</td>\n",
              "      <td>0.502292</td>\n",
              "      <td>0.219422</td>\n",
              "      <td>0.215153</td>\n",
              "      <td>69.99</td>\n",
              "      <td>0</td>\n",
              "    </tr>\n",
              "    <tr>\n",
              "      <th>...</th>\n",
              "      <td>...</td>\n",
              "      <td>...</td>\n",
              "      <td>...</td>\n",
              "      <td>...</td>\n",
              "      <td>...</td>\n",
              "      <td>...</td>\n",
              "      <td>...</td>\n",
              "      <td>...</td>\n",
              "      <td>...</td>\n",
              "      <td>...</td>\n",
              "      <td>...</td>\n",
              "      <td>...</td>\n",
              "      <td>...</td>\n",
              "      <td>...</td>\n",
              "      <td>...</td>\n",
              "      <td>...</td>\n",
              "      <td>...</td>\n",
              "      <td>...</td>\n",
              "      <td>...</td>\n",
              "      <td>...</td>\n",
              "      <td>...</td>\n",
              "    </tr>\n",
              "    <tr>\n",
              "      <th>284802</th>\n",
              "      <td>172786.0</td>\n",
              "      <td>-11.881118</td>\n",
              "      <td>10.071785</td>\n",
              "      <td>-9.834783</td>\n",
              "      <td>-2.066656</td>\n",
              "      <td>-5.364473</td>\n",
              "      <td>-2.606837</td>\n",
              "      <td>-4.918215</td>\n",
              "      <td>7.305334</td>\n",
              "      <td>1.914428</td>\n",
              "      <td>...</td>\n",
              "      <td>0.213454</td>\n",
              "      <td>0.111864</td>\n",
              "      <td>1.014480</td>\n",
              "      <td>-0.509348</td>\n",
              "      <td>1.436807</td>\n",
              "      <td>0.250034</td>\n",
              "      <td>0.943651</td>\n",
              "      <td>0.823731</td>\n",
              "      <td>0.77</td>\n",
              "      <td>0</td>\n",
              "    </tr>\n",
              "    <tr>\n",
              "      <th>284803</th>\n",
              "      <td>172787.0</td>\n",
              "      <td>-0.732789</td>\n",
              "      <td>-0.055080</td>\n",
              "      <td>2.035030</td>\n",
              "      <td>-0.738589</td>\n",
              "      <td>0.868229</td>\n",
              "      <td>1.058415</td>\n",
              "      <td>0.024330</td>\n",
              "      <td>0.294869</td>\n",
              "      <td>0.584800</td>\n",
              "      <td>...</td>\n",
              "      <td>0.214205</td>\n",
              "      <td>0.924384</td>\n",
              "      <td>0.012463</td>\n",
              "      <td>-1.016226</td>\n",
              "      <td>-0.606624</td>\n",
              "      <td>-0.395255</td>\n",
              "      <td>0.068472</td>\n",
              "      <td>-0.053527</td>\n",
              "      <td>24.79</td>\n",
              "      <td>0</td>\n",
              "    </tr>\n",
              "    <tr>\n",
              "      <th>284804</th>\n",
              "      <td>172788.0</td>\n",
              "      <td>1.919565</td>\n",
              "      <td>-0.301254</td>\n",
              "      <td>-3.249640</td>\n",
              "      <td>-0.557828</td>\n",
              "      <td>2.630515</td>\n",
              "      <td>3.031260</td>\n",
              "      <td>-0.296827</td>\n",
              "      <td>0.708417</td>\n",
              "      <td>0.432454</td>\n",
              "      <td>...</td>\n",
              "      <td>0.232045</td>\n",
              "      <td>0.578229</td>\n",
              "      <td>-0.037501</td>\n",
              "      <td>0.640134</td>\n",
              "      <td>0.265745</td>\n",
              "      <td>-0.087371</td>\n",
              "      <td>0.004455</td>\n",
              "      <td>-0.026561</td>\n",
              "      <td>67.88</td>\n",
              "      <td>0</td>\n",
              "    </tr>\n",
              "    <tr>\n",
              "      <th>284805</th>\n",
              "      <td>172788.0</td>\n",
              "      <td>-0.240440</td>\n",
              "      <td>0.530483</td>\n",
              "      <td>0.702510</td>\n",
              "      <td>0.689799</td>\n",
              "      <td>-0.377961</td>\n",
              "      <td>0.623708</td>\n",
              "      <td>-0.686180</td>\n",
              "      <td>0.679145</td>\n",
              "      <td>0.392087</td>\n",
              "      <td>...</td>\n",
              "      <td>0.265245</td>\n",
              "      <td>0.800049</td>\n",
              "      <td>-0.163298</td>\n",
              "      <td>0.123205</td>\n",
              "      <td>-0.569159</td>\n",
              "      <td>0.546668</td>\n",
              "      <td>0.108821</td>\n",
              "      <td>0.104533</td>\n",
              "      <td>10.00</td>\n",
              "      <td>0</td>\n",
              "    </tr>\n",
              "    <tr>\n",
              "      <th>284806</th>\n",
              "      <td>172792.0</td>\n",
              "      <td>-0.533413</td>\n",
              "      <td>-0.189733</td>\n",
              "      <td>0.703337</td>\n",
              "      <td>-0.506271</td>\n",
              "      <td>-0.012546</td>\n",
              "      <td>-0.649617</td>\n",
              "      <td>1.577006</td>\n",
              "      <td>-0.414650</td>\n",
              "      <td>0.486180</td>\n",
              "      <td>...</td>\n",
              "      <td>0.261057</td>\n",
              "      <td>0.643078</td>\n",
              "      <td>0.376777</td>\n",
              "      <td>0.008797</td>\n",
              "      <td>-0.473649</td>\n",
              "      <td>-0.818267</td>\n",
              "      <td>-0.002415</td>\n",
              "      <td>0.013649</td>\n",
              "      <td>217.00</td>\n",
              "      <td>0</td>\n",
              "    </tr>\n",
              "  </tbody>\n",
              "</table>\n",
              "<p>284807 rows × 31 columns</p>\n",
              "</div>\n",
              "      <button class=\"colab-df-convert\" onclick=\"convertToInteractive('df-39d44774-10eb-4d18-8f16-8503a7ff6bea')\"\n",
              "              title=\"Convert this dataframe to an interactive table.\"\n",
              "              style=\"display:none;\">\n",
              "        \n",
              "  <svg xmlns=\"http://www.w3.org/2000/svg\" height=\"24px\"viewBox=\"0 0 24 24\"\n",
              "       width=\"24px\">\n",
              "    <path d=\"M0 0h24v24H0V0z\" fill=\"none\"/>\n",
              "    <path d=\"M18.56 5.44l.94 2.06.94-2.06 2.06-.94-2.06-.94-.94-2.06-.94 2.06-2.06.94zm-11 1L8.5 8.5l.94-2.06 2.06-.94-2.06-.94L8.5 2.5l-.94 2.06-2.06.94zm10 10l.94 2.06.94-2.06 2.06-.94-2.06-.94-.94-2.06-.94 2.06-2.06.94z\"/><path d=\"M17.41 7.96l-1.37-1.37c-.4-.4-.92-.59-1.43-.59-.52 0-1.04.2-1.43.59L10.3 9.45l-7.72 7.72c-.78.78-.78 2.05 0 2.83L4 21.41c.39.39.9.59 1.41.59.51 0 1.02-.2 1.41-.59l7.78-7.78 2.81-2.81c.8-.78.8-2.07 0-2.86zM5.41 20L4 18.59l7.72-7.72 1.47 1.35L5.41 20z\"/>\n",
              "  </svg>\n",
              "      </button>\n",
              "      \n",
              "  <style>\n",
              "    .colab-df-container {\n",
              "      display:flex;\n",
              "      flex-wrap:wrap;\n",
              "      gap: 12px;\n",
              "    }\n",
              "\n",
              "    .colab-df-convert {\n",
              "      background-color: #E8F0FE;\n",
              "      border: none;\n",
              "      border-radius: 50%;\n",
              "      cursor: pointer;\n",
              "      display: none;\n",
              "      fill: #1967D2;\n",
              "      height: 32px;\n",
              "      padding: 0 0 0 0;\n",
              "      width: 32px;\n",
              "    }\n",
              "\n",
              "    .colab-df-convert:hover {\n",
              "      background-color: #E2EBFA;\n",
              "      box-shadow: 0px 1px 2px rgba(60, 64, 67, 0.3), 0px 1px 3px 1px rgba(60, 64, 67, 0.15);\n",
              "      fill: #174EA6;\n",
              "    }\n",
              "\n",
              "    [theme=dark] .colab-df-convert {\n",
              "      background-color: #3B4455;\n",
              "      fill: #D2E3FC;\n",
              "    }\n",
              "\n",
              "    [theme=dark] .colab-df-convert:hover {\n",
              "      background-color: #434B5C;\n",
              "      box-shadow: 0px 1px 3px 1px rgba(0, 0, 0, 0.15);\n",
              "      filter: drop-shadow(0px 1px 2px rgba(0, 0, 0, 0.3));\n",
              "      fill: #FFFFFF;\n",
              "    }\n",
              "  </style>\n",
              "\n",
              "      <script>\n",
              "        const buttonEl =\n",
              "          document.querySelector('#df-39d44774-10eb-4d18-8f16-8503a7ff6bea button.colab-df-convert');\n",
              "        buttonEl.style.display =\n",
              "          google.colab.kernel.accessAllowed ? 'block' : 'none';\n",
              "\n",
              "        async function convertToInteractive(key) {\n",
              "          const element = document.querySelector('#df-39d44774-10eb-4d18-8f16-8503a7ff6bea');\n",
              "          const dataTable =\n",
              "            await google.colab.kernel.invokeFunction('convertToInteractive',\n",
              "                                                     [key], {});\n",
              "          if (!dataTable) return;\n",
              "\n",
              "          const docLinkHtml = 'Like what you see? Visit the ' +\n",
              "            '<a target=\"_blank\" href=https://colab.research.google.com/notebooks/data_table.ipynb>data table notebook</a>'\n",
              "            + ' to learn more about interactive tables.';\n",
              "          element.innerHTML = '';\n",
              "          dataTable['output_type'] = 'display_data';\n",
              "          await google.colab.output.renderOutput(dataTable, element);\n",
              "          const docLink = document.createElement('div');\n",
              "          docLink.innerHTML = docLinkHtml;\n",
              "          element.appendChild(docLink);\n",
              "        }\n",
              "      </script>\n",
              "    </div>\n",
              "  </div>\n",
              "  "
            ]
          },
          "metadata": {},
          "execution_count": 7
        }
      ]
    },
    {
      "cell_type": "code",
      "source": [
        "features2 = np.array(en_dataframe.iloc[:, :-1])\n",
        "targets2 = np.array(en_dataframe.iloc[:,-1])"
      ],
      "metadata": {
        "id": "_yDZ1O9PSOGt"
      },
      "execution_count": null,
      "outputs": []
    },
    {
      "cell_type": "code",
      "source": [
        "np.allclose(features, features2, rtol=0.0000001)"
      ],
      "metadata": {
        "colab": {
          "base_uri": "https://localhost:8080/"
        },
        "id": "mXJEP3BVS0nK",
        "outputId": "af54abe2-b9e6-4dbd-a8a2-9e3a1804a594"
      },
      "execution_count": null,
      "outputs": [
        {
          "output_type": "execute_result",
          "data": {
            "text/plain": [
              "True"
            ]
          },
          "metadata": {},
          "execution_count": 14
        }
      ]
    },
    {
      "cell_type": "markdown",
      "source": [
        "## Cuidado con las dimensiones, pueden crear problemas extraños\n",
        "\n",
        "Rompemos la RAM, solo para mostrar cosas que pueden fallar, despues no ejecutaremos esta linea"
      ],
      "metadata": {
        "id": "wDyHjQyiatJh"
      }
    },
    {
      "cell_type": "code",
      "source": [
        "# Si está descomentada, supera nuestra RAM disponible\n",
        "# np.allclose(targets, targets2)"
      ],
      "metadata": {
        "id": "IPL463L8akIu"
      },
      "execution_count": null,
      "outputs": []
    },
    {
      "cell_type": "code",
      "source": [
        "# Esta variable casi llena nuestra RAM, la borraremos abajo\n",
        "aux = (targets[:100000] == targets2[:100000])"
      ],
      "metadata": {
        "id": "1MePrUupTkmq"
      },
      "execution_count": null,
      "outputs": []
    },
    {
      "cell_type": "code",
      "source": [
        "aux.shape"
      ],
      "metadata": {
        "colab": {
          "base_uri": "https://localhost:8080/"
        },
        "id": "arH09wX8agPl",
        "outputId": "769798cb-558d-4633-d7a8-5bf246f00b5b"
      },
      "execution_count": null,
      "outputs": [
        {
          "output_type": "execute_result",
          "data": {
            "text/plain": [
              "(100000, 100000)"
            ]
          },
          "metadata": {},
          "execution_count": 16
        }
      ]
    },
    {
      "cell_type": "code",
      "source": [
        "del aux"
      ],
      "metadata": {
        "id": "Bcg42dsHaWyG"
      },
      "execution_count": null,
      "outputs": []
    },
    {
      "cell_type": "markdown",
      "source": [
        "# Corrección\n",
        "\n",
        "La manera correcta para poder llevar a cabo esta comparación es cuidando las dimensiones de los objetos que estamos comparando"
      ],
      "metadata": {
        "id": "Xx4odlCpi2jS"
      }
    },
    {
      "cell_type": "code",
      "source": [
        "targets.shape"
      ],
      "metadata": {
        "colab": {
          "base_uri": "https://localhost:8080/"
        },
        "id": "Yy_JLStyymJD",
        "outputId": "03b86fef-90ef-4b78-b9b2-6b9aa97d769c"
      },
      "execution_count": null,
      "outputs": [
        {
          "output_type": "execute_result",
          "data": {
            "text/plain": [
              "(284807, 1)"
            ]
          },
          "metadata": {},
          "execution_count": 20
        }
      ]
    },
    {
      "cell_type": "code",
      "source": [
        "targets2.shape"
      ],
      "metadata": {
        "colab": {
          "base_uri": "https://localhost:8080/"
        },
        "id": "IvDbovUiyn7q",
        "outputId": "2cba28a8-a9fc-463d-882f-c12cd8109496"
      },
      "execution_count": null,
      "outputs": [
        {
          "output_type": "execute_result",
          "data": {
            "text/plain": [
              "(284807,)"
            ]
          },
          "metadata": {},
          "execution_count": 21
        }
      ]
    },
    {
      "cell_type": "code",
      "source": [
        "features2 = np.array(en_dataframe.iloc[:, :-1])\n",
        "targets2 = np.array(en_dataframe.iloc[:,-1]).reshape(-1, 1)  # Cambio aqui"
      ],
      "metadata": {
        "id": "sxV440Coi_gD"
      },
      "execution_count": null,
      "outputs": []
    },
    {
      "cell_type": "code",
      "source": [
        "np.allclose(targets, targets2, rtol=1e-05)"
      ],
      "metadata": {
        "colab": {
          "base_uri": "https://localhost:8080/"
        },
        "id": "G9GdBgCmjFt0",
        "outputId": "68fcaaaf-7577-4697-93b3-a3ff0c42e19d"
      },
      "execution_count": null,
      "outputs": [
        {
          "output_type": "execute_result",
          "data": {
            "text/plain": [
              "True"
            ]
          },
          "metadata": {},
          "execution_count": 25
        }
      ]
    },
    {
      "cell_type": "markdown",
      "source": [
        "# Preparar conjunto de validación\n",
        "\n",
        "Lo haremos manual (es decir, no aleatorio)"
      ],
      "metadata": {
        "id": "q9fjnHFwHd-t"
      }
    },
    {
      "cell_type": "code",
      "source": [
        "num_val_samples = int(len(features) * 0.2)\n",
        "\n",
        "# 80% datos para entrenamiento\n",
        "train_features = features[:-num_val_samples]\n",
        "train_targets = targets[:-num_val_samples]\n",
        "\n",
        "# 20% de datos para test\n",
        "val_features = features[-num_val_samples:]\n",
        "val_targets = targets[-num_val_samples:]\n",
        "\n",
        "print(\"Número de muestras para entrenamiento:\", len(train_features))\n",
        "print(\"Número de muestras para validación:\", len(val_features))"
      ],
      "metadata": {
        "id": "OmgJqltqHS1Q",
        "colab": {
          "base_uri": "https://localhost:8080/"
        },
        "outputId": "c237a4c6-cfa3-4a2a-ffee-dd442131e645"
      },
      "execution_count": null,
      "outputs": [
        {
          "output_type": "stream",
          "name": "stdout",
          "text": [
            "Número de muestras para entrenamiento: 227846\n",
            "Número de muestras para validación: 56961\n"
          ]
        }
      ]
    },
    {
      "cell_type": "code",
      "source": [
        "num_val_samples"
      ],
      "metadata": {
        "colab": {
          "base_uri": "https://localhost:8080/"
        },
        "id": "IjbLCEs9-Gbq",
        "outputId": "e30ffd7c-b7a3-437e-e258-afd1e178a3b1"
      },
      "execution_count": null,
      "outputs": [
        {
          "output_type": "execute_result",
          "data": {
            "text/plain": [
              "56961"
            ]
          },
          "metadata": {},
          "execution_count": 28
        }
      ]
    },
    {
      "cell_type": "markdown",
      "source": [
        "# Analizar desbalance de los datos"
      ],
      "metadata": {
        "id": "YNybjc6VH4Lh"
      }
    },
    {
      "cell_type": "code",
      "source": [
        "counts = np.bincount(train_targets[:, 0])\n",
        "print(f\"Número de valores 1 en muestra de entrenamiento: {counts[1]} ({100 * float(counts[1]) / len(train_targets):.2f}% of total)\")"
      ],
      "metadata": {
        "id": "Oj6xVYvHHUfs",
        "colab": {
          "base_uri": "https://localhost:8080/"
        },
        "outputId": "18e7f676-caf5-4543-f7ce-9416aa2e9b66"
      },
      "execution_count": null,
      "outputs": [
        {
          "output_type": "stream",
          "name": "stdout",
          "text": [
            "Número de valores 1 en muestra de entrenamiento: 417 (0.18% of total)\n"
          ]
        }
      ]
    },
    {
      "cell_type": "markdown",
      "source": [
        "Asignaremos pesos de una manera balanceada (es una clase de peso \"balanced\" utilizada en keras). Manualmente se calcula como:"
      ],
      "metadata": {
        "id": "uMNmSSg7RKaN"
      }
    },
    {
      "cell_type": "code",
      "source": [
        "total_counts = np.bincount(train_targets[:, 0])\n",
        "n_samples = len(train_targets)\n",
        "\n",
        "weight_for_0 = n_samples / (total_counts[0]*2)\n",
        "weight_for_1 = n_samples / (total_counts[1]*2)\n",
        "\n",
        "#counts = np.bincount(train_targets[:, 0])\n",
        "\n",
        "#weight_for_0 = 1.0 / counts[0]\n",
        "#weight_for_1 = 1.0 / counts[1]\n",
        "\n",
        "print(f\"{weight_for_0: .6f}\")\n",
        "print(f\"{weight_for_1: .4f}\")"
      ],
      "metadata": {
        "id": "LVxboEzLP0qU",
        "colab": {
          "base_uri": "https://localhost:8080/"
        },
        "outputId": "3d1263bc-d72d-44e1-f97a-19897efeb134"
      },
      "execution_count": null,
      "outputs": [
        {
          "output_type": "stream",
          "name": "stdout",
          "text": [
            " 0.500917\n",
            " 273.1966\n"
          ]
        }
      ]
    },
    {
      "cell_type": "markdown",
      "source": [
        "Podemos ver que los pesos son practicamente una proporción de 500 a 1 aproximadamente"
      ],
      "metadata": {
        "id": "gB61dh8ITMUG"
      }
    },
    {
      "cell_type": "markdown",
      "source": [
        "# Estandarizar los datos"
      ],
      "metadata": {
        "id": "ChgxpOOuIB_V"
      }
    },
    {
      "cell_type": "code",
      "source": [
        "mean = np.mean(train_features, axis=0)\n",
        "train_features -= mean\n",
        "val_features -= mean\n",
        "std = np.std(train_features, axis=0)\n",
        "train_features /= std\n",
        "val_features /= std"
      ],
      "metadata": {
        "id": "_vnuRhp5HUdi"
      },
      "execution_count": null,
      "outputs": []
    },
    {
      "cell_type": "markdown",
      "source": [
        "# Modelo de clasificación binaria"
      ],
      "metadata": {
        "id": "BrhhaIPuIGKD"
      }
    },
    {
      "cell_type": "markdown",
      "source": [
        "## Slicing para arrays"
      ],
      "metadata": {
        "id": "xyPAgA0rSagz"
      }
    },
    {
      "cell_type": "code",
      "source": [
        "arreglo = np.array([[1,2,3], [4,5,6]])\n",
        "arreglo"
      ],
      "metadata": {
        "colab": {
          "base_uri": "https://localhost:8080/"
        },
        "id": "D6F5_y8pDY3r",
        "outputId": "326af3f7-c7f3-4bf9-c952-03f5bf2f7fec"
      },
      "execution_count": null,
      "outputs": [
        {
          "output_type": "execute_result",
          "data": {
            "text/plain": [
              "array([[1, 2, 3],\n",
              "       [4, 5, 6]])"
            ]
          },
          "metadata": {},
          "execution_count": 32
        }
      ]
    },
    {
      "cell_type": "code",
      "source": [
        "arreglo[:, 1:]"
      ],
      "metadata": {
        "colab": {
          "base_uri": "https://localhost:8080/"
        },
        "id": "X2kSTIvzDHPz",
        "outputId": "e3f6d57e-e732-4dc4-b563-bbab3012857a"
      },
      "execution_count": null,
      "outputs": [
        {
          "output_type": "execute_result",
          "data": {
            "text/plain": [
              "array([[2, 3],\n",
              "       [5, 6]])"
            ]
          },
          "metadata": {},
          "execution_count": 33
        }
      ]
    },
    {
      "cell_type": "code",
      "source": [
        "# Removemos la columnas correspondiente a tiempo\n",
        "train_features = train_features[:, 1:]\n",
        "val_features = val_features[:, 1:]"
      ],
      "metadata": {
        "id": "whfjNZTZDpW2"
      },
      "execution_count": null,
      "outputs": []
    },
    {
      "cell_type": "code",
      "source": [
        "train_features.shape[-1]"
      ],
      "metadata": {
        "colab": {
          "base_uri": "https://localhost:8080/"
        },
        "id": "otQUgpD4aHyV",
        "outputId": "5a4edd2c-130b-4c0e-bb3f-a21d7ffca934"
      },
      "execution_count": null,
      "outputs": [
        {
          "output_type": "execute_result",
          "data": {
            "text/plain": [
              "29"
            ]
          },
          "metadata": {},
          "execution_count": 36
        }
      ]
    },
    {
      "cell_type": "code",
      "source": [
        "from tensorflow import keras\n",
        "import tensorflow as tf\n",
        "\n",
        "model = keras.Sequential(\n",
        "    [\n",
        "        keras.layers.Dense(\n",
        "            256, activation=\"relu\", input_shape=(train_features.shape[-1],)\n",
        "        ),\n",
        "        keras.layers.Dense(256, activation=\"relu\"),\n",
        "        keras.layers.Dropout(0.3),\n",
        "        keras.layers.Dense(256, activation=\"relu\"),\n",
        "        keras.layers.Dropout(0.3),\n",
        "        keras.layers.Dense(1, activation=\"sigmoid\"),\n",
        "    ]\n",
        ")\n",
        "model.summary()"
      ],
      "metadata": {
        "id": "c7TZxGnwHUbN",
        "colab": {
          "base_uri": "https://localhost:8080/"
        },
        "outputId": "452264fc-8149-4854-ec7a-c4eeee90edf3"
      },
      "execution_count": null,
      "outputs": [
        {
          "output_type": "stream",
          "name": "stdout",
          "text": [
            "Model: \"sequential\"\n",
            "_________________________________________________________________\n",
            " Layer (type)                Output Shape              Param #   \n",
            "=================================================================\n",
            " dense (Dense)               (None, 256)               7680      \n",
            "                                                                 \n",
            " dense_1 (Dense)             (None, 256)               65792     \n",
            "                                                                 \n",
            " dropout (Dropout)           (None, 256)               0         \n",
            "                                                                 \n",
            " dense_2 (Dense)             (None, 256)               65792     \n",
            "                                                                 \n",
            " dropout_1 (Dropout)         (None, 256)               0         \n",
            "                                                                 \n",
            " dense_3 (Dense)             (None, 1)                 257       \n",
            "                                                                 \n",
            "=================================================================\n",
            "Total params: 139,521\n",
            "Trainable params: 139,521\n",
            "Non-trainable params: 0\n",
            "_________________________________________________________________\n"
          ]
        }
      ]
    },
    {
      "cell_type": "markdown",
      "source": [
        "# Entrenar modelo tomando en cuenta pesos para los datos\n"
      ],
      "metadata": {
        "id": "8iUdg7wmIIRA"
      }
    },
    {
      "cell_type": "code",
      "source": [
        "metrics = [\n",
        "    keras.metrics.FalseNegatives(name=\"fn\"),\n",
        "    keras.metrics.FalsePositives(name=\"fp\"),\n",
        "    keras.metrics.TrueNegatives(name=\"tn\"),\n",
        "    keras.metrics.TruePositives(name=\"tp\"),\n",
        "    keras.metrics.Precision(name=\"precision\"),\n",
        "    keras.metrics.Recall(name=\"recall\"),\n",
        "]\n",
        "\n",
        "model.compile(\n",
        "    optimizer=keras.optimizers.Adam(0.01), loss=\"binary_crossentropy\", metrics=metrics # El 0.01 es llamado \"learning rate\"\n",
        ")\n",
        "\n",
        "# Para poder guardar info del entranamiento\n",
        "callbacks = [keras.callbacks.ModelCheckpoint(\"fraud_model_at_epoch_{epoch}.h5\")]\n",
        "\n",
        "# Utilizada para asignar pesos que \"balanceen\" las clases\n",
        "class_weight = {0: weight_for_0, 1: weight_for_1}\n",
        "\n",
        "model.fit(\n",
        "    train_features,\n",
        "    train_targets,\n",
        "    batch_size=2048, # Cantidad de datos que optimizan pesos por cada pasada, \"batch size\"\n",
        "    epochs=30, # Cantidad de pasadas que dan todos los datos, para entrenamiento\n",
        "    verbose=2,\n",
        "    callbacks=callbacks,\n",
        "    validation_data=(val_features, val_targets), # Solo para medir como va avanzando el modelo, no utiliza estos datos para modificar pesos\n",
        "    class_weight=class_weight,\n",
        ")"
      ],
      "metadata": {
        "id": "ohsmPpHnHUZH",
        "colab": {
          "base_uri": "https://localhost:8080/"
        },
        "outputId": "42389c3f-538f-430f-b11c-dabd6ccfbb1d"
      },
      "execution_count": null,
      "outputs": [
        {
          "output_type": "stream",
          "name": "stdout",
          "text": [
            "Epoch 1/30\n",
            "112/112 - 6s - loss: 0.4478 - fn: 54.0000 - fp: 14595.0000 - tn: 212834.0000 - tp: 363.0000 - precision: 0.0243 - recall: 0.8705 - val_loss: 0.0553 - val_fn: 11.0000 - val_fp: 347.0000 - val_tn: 56539.0000 - val_tp: 64.0000 - val_precision: 0.1557 - val_recall: 0.8533 - 6s/epoch - 53ms/step\n",
            "Epoch 2/30\n",
            "112/112 - 4s - loss: 0.4393 - fn: 36.0000 - fp: 8495.0000 - tn: 218934.0000 - tp: 381.0000 - precision: 0.0429 - recall: 0.9137 - val_loss: 0.3064 - val_fn: 8.0000 - val_fp: 5205.0000 - val_tn: 51681.0000 - val_tp: 67.0000 - val_precision: 0.0127 - val_recall: 0.8933 - 4s/epoch - 36ms/step\n",
            "Epoch 3/30\n",
            "112/112 - 4s - loss: 0.5718 - fn: 37.0000 - fp: 9899.0000 - tn: 217530.0000 - tp: 380.0000 - precision: 0.0370 - recall: 0.9113 - val_loss: 0.1218 - val_fn: 8.0000 - val_fp: 2444.0000 - val_tn: 54442.0000 - val_tp: 67.0000 - val_precision: 0.0267 - val_recall: 0.8933 - 4s/epoch - 35ms/step\n",
            "Epoch 4/30\n",
            "112/112 - 4s - loss: 0.7701 - fn: 37.0000 - fp: 19315.0000 - tn: 208114.0000 - tp: 380.0000 - precision: 0.0193 - recall: 0.9113 - val_loss: 0.2824 - val_fn: 3.0000 - val_fp: 5598.0000 - val_tn: 51288.0000 - val_tp: 72.0000 - val_precision: 0.0127 - val_recall: 0.9600 - 4s/epoch - 35ms/step\n",
            "Epoch 5/30\n",
            "112/112 - 4s - loss: 0.6791 - fn: 32.0000 - fp: 14735.0000 - tn: 212694.0000 - tp: 385.0000 - precision: 0.0255 - recall: 0.9233 - val_loss: 0.1715 - val_fn: 12.0000 - val_fp: 1271.0000 - val_tn: 55615.0000 - val_tp: 63.0000 - val_precision: 0.0472 - val_recall: 0.8400 - 4s/epoch - 36ms/step\n",
            "Epoch 6/30\n",
            "112/112 - 4s - loss: 0.5503 - fn: 44.0000 - fp: 13392.0000 - tn: 214037.0000 - tp: 373.0000 - precision: 0.0271 - recall: 0.8945 - val_loss: 0.1457 - val_fn: 10.0000 - val_fp: 1120.0000 - val_tn: 55766.0000 - val_tp: 65.0000 - val_precision: 0.0549 - val_recall: 0.8667 - 4s/epoch - 36ms/step\n",
            "Epoch 7/30\n",
            "112/112 - 4s - loss: 0.2726 - fn: 44.0000 - fp: 6736.0000 - tn: 220693.0000 - tp: 373.0000 - precision: 0.0525 - recall: 0.8945 - val_loss: 0.0784 - val_fn: 11.0000 - val_fp: 287.0000 - val_tn: 56599.0000 - val_tp: 64.0000 - val_precision: 0.1823 - val_recall: 0.8533 - 4s/epoch - 35ms/step\n",
            "Epoch 8/30\n",
            "112/112 - 4s - loss: 0.3004 - fn: 35.0000 - fp: 9955.0000 - tn: 217474.0000 - tp: 382.0000 - precision: 0.0370 - recall: 0.9161 - val_loss: 0.1329 - val_fn: 10.0000 - val_fp: 1393.0000 - val_tn: 55493.0000 - val_tp: 65.0000 - val_precision: 0.0446 - val_recall: 0.8667 - 4s/epoch - 35ms/step\n",
            "Epoch 9/30\n",
            "112/112 - 4s - loss: 0.1957 - fn: 39.0000 - fp: 3964.0000 - tn: 223465.0000 - tp: 378.0000 - precision: 0.0871 - recall: 0.9065 - val_loss: 0.1369 - val_fn: 8.0000 - val_fp: 1820.0000 - val_tn: 55066.0000 - val_tp: 67.0000 - val_precision: 0.0355 - val_recall: 0.8933 - 4s/epoch - 36ms/step\n",
            "Epoch 10/30\n",
            "112/112 - 4s - loss: 0.2004 - fn: 33.0000 - fp: 4164.0000 - tn: 223265.0000 - tp: 384.0000 - precision: 0.0844 - recall: 0.9209 - val_loss: 0.0845 - val_fn: 11.0000 - val_fp: 437.0000 - val_tn: 56449.0000 - val_tp: 64.0000 - val_precision: 0.1277 - val_recall: 0.8533 - 4s/epoch - 36ms/step\n",
            "Epoch 11/30\n",
            "112/112 - 4s - loss: 0.2557 - fn: 35.0000 - fp: 4264.0000 - tn: 223165.0000 - tp: 382.0000 - precision: 0.0822 - recall: 0.9161 - val_loss: 0.0833 - val_fn: 8.0000 - val_fp: 1261.0000 - val_tn: 55625.0000 - val_tp: 67.0000 - val_precision: 0.0505 - val_recall: 0.8933 - 4s/epoch - 35ms/step\n",
            "Epoch 12/30\n",
            "112/112 - 4s - loss: 0.5722 - fn: 38.0000 - fp: 5462.0000 - tn: 221967.0000 - tp: 379.0000 - precision: 0.0649 - recall: 0.9089 - val_loss: 0.1319 - val_fn: 7.0000 - val_fp: 1031.0000 - val_tn: 55855.0000 - val_tp: 68.0000 - val_precision: 0.0619 - val_recall: 0.9067 - 4s/epoch - 35ms/step\n",
            "Epoch 13/30\n",
            "112/112 - 4s - loss: 0.3108 - fn: 36.0000 - fp: 7930.0000 - tn: 219499.0000 - tp: 381.0000 - precision: 0.0458 - recall: 0.9137 - val_loss: 0.1194 - val_fn: 8.0000 - val_fp: 1326.0000 - val_tn: 55560.0000 - val_tp: 67.0000 - val_precision: 0.0481 - val_recall: 0.8933 - 4s/epoch - 36ms/step\n",
            "Epoch 14/30\n",
            "112/112 - 4s - loss: 1.5408 - fn: 46.0000 - fp: 13888.0000 - tn: 213541.0000 - tp: 371.0000 - precision: 0.0260 - recall: 0.8897 - val_loss: 0.0845 - val_fn: 7.0000 - val_fp: 3437.0000 - val_tn: 53449.0000 - val_tp: 68.0000 - val_precision: 0.0194 - val_recall: 0.9067 - 4s/epoch - 36ms/step\n",
            "Epoch 15/30\n",
            "112/112 - 4s - loss: 0.2792 - fn: 38.0000 - fp: 13780.0000 - tn: 213649.0000 - tp: 379.0000 - precision: 0.0268 - recall: 0.9089 - val_loss: 0.1498 - val_fn: 10.0000 - val_fp: 840.0000 - val_tn: 56046.0000 - val_tp: 65.0000 - val_precision: 0.0718 - val_recall: 0.8667 - 4s/epoch - 36ms/step\n",
            "Epoch 16/30\n",
            "112/112 - 4s - loss: 0.3482 - fn: 39.0000 - fp: 4121.0000 - tn: 223308.0000 - tp: 378.0000 - precision: 0.0840 - recall: 0.9065 - val_loss: 0.1774 - val_fn: 10.0000 - val_fp: 763.0000 - val_tn: 56123.0000 - val_tp: 65.0000 - val_precision: 0.0785 - val_recall: 0.8667 - 4s/epoch - 36ms/step\n",
            "Epoch 17/30\n",
            "112/112 - 4s - loss: 0.3293 - fn: 37.0000 - fp: 3775.0000 - tn: 223654.0000 - tp: 380.0000 - precision: 0.0915 - recall: 0.9113 - val_loss: 0.1412 - val_fn: 12.0000 - val_fp: 357.0000 - val_tn: 56529.0000 - val_tp: 63.0000 - val_precision: 0.1500 - val_recall: 0.8400 - 4s/epoch - 36ms/step\n",
            "Epoch 18/30\n",
            "112/112 - 4s - loss: 0.3309 - fn: 51.0000 - fp: 2466.0000 - tn: 224963.0000 - tp: 366.0000 - precision: 0.1292 - recall: 0.8777 - val_loss: 0.1951 - val_fn: 10.0000 - val_fp: 573.0000 - val_tn: 56313.0000 - val_tp: 65.0000 - val_precision: 0.1019 - val_recall: 0.8667 - 4s/epoch - 36ms/step\n",
            "Epoch 19/30\n",
            "112/112 - 4s - loss: 0.2985 - fn: 45.0000 - fp: 21148.0000 - tn: 206281.0000 - tp: 372.0000 - precision: 0.0173 - recall: 0.8921 - val_loss: 0.1156 - val_fn: 4.0000 - val_fp: 5282.0000 - val_tn: 51604.0000 - val_tp: 71.0000 - val_precision: 0.0133 - val_recall: 0.9467 - 4s/epoch - 36ms/step\n",
            "Epoch 20/30\n",
            "112/112 - 4s - loss: 0.4368 - fn: 17.0000 - fp: 28608.0000 - tn: 198821.0000 - tp: 400.0000 - precision: 0.0138 - recall: 0.9592 - val_loss: 0.1522 - val_fn: 7.0000 - val_fp: 3557.0000 - val_tn: 53329.0000 - val_tp: 68.0000 - val_precision: 0.0188 - val_recall: 0.9067 - 4s/epoch - 36ms/step\n",
            "Epoch 21/30\n",
            "112/112 - 4s - loss: 0.5282 - fn: 21.0000 - fp: 25933.0000 - tn: 201496.0000 - tp: 396.0000 - precision: 0.0150 - recall: 0.9496 - val_loss: 0.1824 - val_fn: 3.0000 - val_fp: 7061.0000 - val_tn: 49825.0000 - val_tp: 72.0000 - val_precision: 0.0101 - val_recall: 0.9600 - 4s/epoch - 36ms/step\n",
            "Epoch 22/30\n",
            "112/112 - 4s - loss: 0.2837 - fn: 16.0000 - fp: 18511.0000 - tn: 208918.0000 - tp: 401.0000 - precision: 0.0212 - recall: 0.9616 - val_loss: 0.1398 - val_fn: 7.0000 - val_fp: 2317.0000 - val_tn: 54569.0000 - val_tp: 68.0000 - val_precision: 0.0285 - val_recall: 0.9067 - 4s/epoch - 35ms/step\n",
            "Epoch 23/30\n",
            "112/112 - 4s - loss: 0.6069 - fn: 19.0000 - fp: 21220.0000 - tn: 206209.0000 - tp: 398.0000 - precision: 0.0184 - recall: 0.9544 - val_loss: 0.1245 - val_fn: 7.0000 - val_fp: 2711.0000 - val_tn: 54175.0000 - val_tp: 68.0000 - val_precision: 0.0245 - val_recall: 0.9067 - 4s/epoch - 36ms/step\n",
            "Epoch 24/30\n",
            "112/112 - 4s - loss: 0.3281 - fn: 11.0000 - fp: 17118.0000 - tn: 210311.0000 - tp: 406.0000 - precision: 0.0232 - recall: 0.9736 - val_loss: 0.0989 - val_fn: 8.0000 - val_fp: 2305.0000 - val_tn: 54581.0000 - val_tp: 67.0000 - val_precision: 0.0282 - val_recall: 0.8933 - 4s/epoch - 35ms/step\n",
            "Epoch 25/30\n",
            "112/112 - 4s - loss: 0.3148 - fn: 11.0000 - fp: 21381.0000 - tn: 206048.0000 - tp: 406.0000 - precision: 0.0186 - recall: 0.9736 - val_loss: 0.0768 - val_fn: 10.0000 - val_fp: 1304.0000 - val_tn: 55582.0000 - val_tp: 65.0000 - val_precision: 0.0475 - val_recall: 0.8667 - 4s/epoch - 36ms/step\n",
            "Epoch 26/30\n",
            "112/112 - 4s - loss: 0.2750 - fn: 24.0000 - fp: 20210.0000 - tn: 207219.0000 - tp: 393.0000 - precision: 0.0191 - recall: 0.9424 - val_loss: 0.0388 - val_fn: 11.0000 - val_fp: 215.0000 - val_tn: 56671.0000 - val_tp: 64.0000 - val_precision: 0.2294 - val_recall: 0.8533 - 4s/epoch - 36ms/step\n",
            "Epoch 27/30\n",
            "112/112 - 4s - loss: 0.1772 - fn: 20.0000 - fp: 17925.0000 - tn: 209504.0000 - tp: 397.0000 - precision: 0.0217 - recall: 0.9520 - val_loss: 0.0500 - val_fn: 8.0000 - val_fp: 761.0000 - val_tn: 56125.0000 - val_tp: 67.0000 - val_precision: 0.0809 - val_recall: 0.8933 - 4s/epoch - 36ms/step\n",
            "Epoch 28/30\n",
            "112/112 - 4s - loss: 0.1800 - fn: 12.0000 - fp: 16480.0000 - tn: 210949.0000 - tp: 405.0000 - precision: 0.0240 - recall: 0.9712 - val_loss: 0.1091 - val_fn: 8.0000 - val_fp: 2169.0000 - val_tn: 54717.0000 - val_tp: 67.0000 - val_precision: 0.0300 - val_recall: 0.8933 - 4s/epoch - 36ms/step\n",
            "Epoch 29/30\n",
            "112/112 - 4s - loss: 0.1217 - fn: 11.0000 - fp: 12505.0000 - tn: 214924.0000 - tp: 406.0000 - precision: 0.0314 - recall: 0.9736 - val_loss: 0.0555 - val_fn: 9.0000 - val_fp: 946.0000 - val_tn: 55940.0000 - val_tp: 66.0000 - val_precision: 0.0652 - val_recall: 0.8800 - 4s/epoch - 36ms/step\n",
            "Epoch 30/30\n",
            "112/112 - 4s - loss: 0.1817 - fn: 12.0000 - fp: 14154.0000 - tn: 213275.0000 - tp: 405.0000 - precision: 0.0278 - recall: 0.9712 - val_loss: 0.0910 - val_fn: 7.0000 - val_fp: 1800.0000 - val_tn: 55086.0000 - val_tp: 68.0000 - val_precision: 0.0364 - val_recall: 0.9067 - 4s/epoch - 35ms/step\n"
          ]
        },
        {
          "output_type": "execute_result",
          "data": {
            "text/plain": [
              "<keras.callbacks.History at 0x7fa7535f98b0>"
            ]
          },
          "metadata": {},
          "execution_count": 38
        }
      ]
    },
    {
      "cell_type": "code",
      "source": [
        "tf.keras.utils.plot_model( \n",
        "    model,\n",
        "    #to_file=\"model.png\",\n",
        "    show_shapes=True,\n",
        "    show_dtype=False,\n",
        "    show_layer_names=True,\n",
        "    #dpi=96,\n",
        ")"
      ],
      "metadata": {
        "colab": {
          "base_uri": "https://localhost:8080/",
          "height": 754
        },
        "id": "jb_Am6LkfuqG",
        "outputId": "ba5989f4-9970-487e-a815-1baf11d57f74"
      },
      "execution_count": null,
      "outputs": [
        {
          "output_type": "execute_result",
          "data": {
            "image/png": "[encoded data removed]",
            "text/plain": [
              "<IPython.core.display.Image object>"
            ]
          },
          "metadata": {},
          "execution_count": 39
        }
      ]
    },
    {
      "cell_type": "code",
      "source": [
        "y_train_pred = model.predict(train_features)\n",
        "y_train_pred[y_train_pred < 0.5] = 0\n",
        "y_train_pred[y_train_pred >= 0.5] = 1"
      ],
      "metadata": {
        "id": "VpjKDeemyyR5",
        "colab": {
          "base_uri": "https://localhost:8080/"
        },
        "outputId": "0026bcd0-5ce4-432d-c549-2c004a57b26c"
      },
      "execution_count": null,
      "outputs": [
        {
          "output_type": "stream",
          "name": "stdout",
          "text": [
            "7121/7121 [==============================] - 9s 1ms/step\n"
          ]
        }
      ]
    },
    {
      "cell_type": "code",
      "source": [
        "y_test_pred = model.predict(val_features)\n",
        "y_test_pred[y_test_pred < 0.5] = 0\n",
        "y_test_pred[y_test_pred >= 0.5] = 1"
      ],
      "metadata": {
        "id": "N5wnrKyvHUSa",
        "colab": {
          "base_uri": "https://localhost:8080/"
        },
        "outputId": "370e20e6-d53a-4a86-9cd8-3f9d096f6ca1"
      },
      "execution_count": null,
      "outputs": [
        {
          "output_type": "stream",
          "name": "stdout",
          "text": [
            "1781/1781 [==============================] - 2s 1ms/step\n"
          ]
        }
      ]
    },
    {
      "cell_type": "code",
      "source": [
        "len(y_test_pred[:, 0])"
      ],
      "metadata": {
        "id": "7j-utPCXxdVh",
        "colab": {
          "base_uri": "https://localhost:8080/"
        },
        "outputId": "f0b84448-f0e0-4938-b9ac-6178b6879a2e"
      },
      "execution_count": null,
      "outputs": [
        {
          "output_type": "execute_result",
          "data": {
            "text/plain": [
              "56961"
            ]
          },
          "metadata": {},
          "execution_count": 42
        }
      ]
    },
    {
      "cell_type": "code",
      "source": [
        "y_test_pred[:, 0].sum()"
      ],
      "metadata": {
        "id": "Kyi7Q_VCyXfP",
        "colab": {
          "base_uri": "https://localhost:8080/"
        },
        "outputId": "2fa474f4-5378-4fed-c38c-689bea2a3654"
      },
      "execution_count": null,
      "outputs": [
        {
          "output_type": "execute_result",
          "data": {
            "text/plain": [
              "1868.0"
            ]
          },
          "metadata": {},
          "execution_count": 43
        }
      ]
    },
    {
      "cell_type": "code",
      "source": [
        "from sklearn.metrics import ConfusionMatrixDisplay\n",
        "import matplotlib.pyplot as plt"
      ],
      "metadata": {
        "id": "YWEa45ewynAx"
      },
      "execution_count": null,
      "outputs": []
    },
    {
      "cell_type": "code",
      "source": [
        "ConfusionMatrixDisplay.from_predictions(train_targets, y_train_pred, cmap=plt.cm.Greens)"
      ],
      "metadata": {
        "id": "A8pnRIIjyqOF",
        "colab": {
          "base_uri": "https://localhost:8080/",
          "height": 296
        },
        "outputId": "f0a8daeb-c07b-40fb-a243-a4408a73957e"
      },
      "execution_count": null,
      "outputs": [
        {
          "output_type": "execute_result",
          "data": {
            "text/plain": [
              "<sklearn.metrics._plot.confusion_matrix.ConfusionMatrixDisplay at 0x7fa74eb092e0>"
            ]
          },
          "metadata": {},
          "execution_count": 45
        },
        {
          "output_type": "display_data",
          "data": {
            "text/plain": [
              "<Figure size 432x288 with 2 Axes>"
            ],
            "image/png": "[encoded data removed]"
          },
          "metadata": {
            "needs_background": "light"
          }
        }
      ]
    },
    {
      "cell_type": "code",
      "source": [
        "# Recuperar \"pesos\" de los coeficientes en la epoca \"X\"\n",
        "# CUIDADO AL CORRER ESTA CELDA\n",
        "\n",
        "# model.load_weights(\"/content/fraud_model_at_epoch_25.h5\")"
      ],
      "metadata": {
        "id": "__GIroXqJvy9"
      },
      "execution_count": null,
      "outputs": []
    },
    {
      "cell_type": "code",
      "source": [
        "ConfusionMatrixDisplay.from_predictions(val_targets, y_test_pred, cmap=plt.cm.Greens)"
      ],
      "metadata": {
        "id": "5hoA_Ryf3LGE",
        "colab": {
          "base_uri": "https://localhost:8080/",
          "height": 296
        },
        "outputId": "e015a260-5a0a-4287-9423-9c6a7df251e0"
      },
      "execution_count": null,
      "outputs": [
        {
          "output_type": "execute_result",
          "data": {
            "text/plain": [
              "<sklearn.metrics._plot.confusion_matrix.ConfusionMatrixDisplay at 0x7fa74db5b790>"
            ]
          },
          "metadata": {},
          "execution_count": 46
        },
        {
          "output_type": "display_data",
          "data": {
            "text/plain": [
              "<Figure size 432x288 with 2 Axes>"
            ],
            "image/png": "[encoded data removed]"
          },
          "metadata": {
            "needs_background": "light"
          }
        }
      ]
    },
    {
      "cell_type": "code",
      "source": [
        "from sklearn.metrics import average_precision_score"
      ],
      "metadata": {
        "id": "G4FyL0lt1nwo"
      },
      "execution_count": null,
      "outputs": []
    },
    {
      "cell_type": "code",
      "source": [
        "y_test_prob = model.predict(val_features)"
      ],
      "metadata": {
        "id": "uLEe0C-b2y04",
        "colab": {
          "base_uri": "https://localhost:8080/"
        },
        "outputId": "9786e535-935f-4040-96cc-43e633dc60bf"
      },
      "execution_count": null,
      "outputs": [
        {
          "output_type": "stream",
          "name": "stdout",
          "text": [
            "1781/1781 [==============================] - 2s 1ms/step\n"
          ]
        }
      ]
    },
    {
      "cell_type": "code",
      "source": [
        "y_test_prob"
      ],
      "metadata": {
        "colab": {
          "base_uri": "https://localhost:8080/"
        },
        "id": "6rQH2yTel2_L",
        "outputId": "841cc458-b966-40ba-8a9d-807668ed77bd"
      },
      "execution_count": null,
      "outputs": [
        {
          "output_type": "execute_result",
          "data": {
            "text/plain": [
              "array([[0.0000000e+00],\n",
              "       [0.0000000e+00],\n",
              "       [0.0000000e+00],\n",
              "       ...,\n",
              "       [0.0000000e+00],\n",
              "       [1.5145877e-20],\n",
              "       [1.4284450e-01]], dtype=float32)"
            ]
          },
          "metadata": {},
          "execution_count": 52
        }
      ]
    },
    {
      "cell_type": "code",
      "source": [
        "auprc = average_precision_score(val_targets, y_test_prob)\n",
        "auprc"
      ],
      "metadata": {
        "id": "DykriQEB2rpT",
        "colab": {
          "base_uri": "https://localhost:8080/"
        },
        "outputId": "167e0438-a6bf-4802-c618-289bc5f46eb5"
      },
      "execution_count": null,
      "outputs": [
        {
          "output_type": "execute_result",
          "data": {
            "text/plain": [
              "0.05070567487680924"
            ]
          },
          "metadata": {},
          "execution_count": 53
        }
      ]
    },
    {
      "cell_type": "code",
      "source": [
        "from sklearn.metrics import classification_report"
      ],
      "metadata": {
        "id": "_dqZX_4g5icp"
      },
      "execution_count": null,
      "outputs": []
    },
    {
      "cell_type": "code",
      "source": [
        "print(classification_report(train_targets, y_train_pred))"
      ],
      "metadata": {
        "id": "7P-RIboL6QRL",
        "colab": {
          "base_uri": "https://localhost:8080/"
        },
        "outputId": "202ffdb0-fb16-40ad-dded-bd2b404897dd"
      },
      "execution_count": null,
      "outputs": [
        {
          "output_type": "stream",
          "name": "stdout",
          "text": [
            "              precision    recall  f1-score   support\n",
            "\n",
            "           0       1.00      0.96      0.98    227429\n",
            "           1       0.05      0.98      0.09       417\n",
            "\n",
            "    accuracy                           0.96    227846\n",
            "   macro avg       0.52      0.97      0.53    227846\n",
            "weighted avg       1.00      0.96      0.98    227846\n",
            "\n"
          ]
        }
      ]
    },
    {
      "cell_type": "code",
      "source": [
        "print(classification_report(val_targets, y_test_pred))"
      ],
      "metadata": {
        "id": "dwGZ2E21K8Lj",
        "colab": {
          "base_uri": "https://localhost:8080/"
        },
        "outputId": "65257675-a2ea-4449-bd2e-d2498d820705"
      },
      "execution_count": null,
      "outputs": [
        {
          "output_type": "stream",
          "name": "stdout",
          "text": [
            "              precision    recall  f1-score   support\n",
            "\n",
            "           0       1.00      0.97      0.98     56886\n",
            "           1       0.04      0.91      0.07        75\n",
            "\n",
            "    accuracy                           0.97     56961\n",
            "   macro avg       0.52      0.94      0.53     56961\n",
            "weighted avg       1.00      0.97      0.98     56961\n",
            "\n"
          ]
        }
      ]
    },
    {
      "cell_type": "markdown",
      "source": [
        "# Ejercicios:\n",
        "\n",
        "* ¿Que sucedería con el modelo si no usamos el parámetro \"class_weight\"?\n",
        "\n",
        "* ¿Podemos recuperar solo la mejor época de nuestro entrenamiento?\n",
        "\n",
        "* ¿Porque la matriz de confusión no parece dar mucha luz sobre lo que ocurre?"
      ],
      "metadata": {
        "id": "oQhYiG1VzGA8"
      }
    },
    {
      "cell_type": "markdown",
      "source": [
        " - Cargar los datos utilizando Pandas\n",
        " - Realizar la división de entrenamiento y prueba usando la función 'train_test_split' de sklearn"
      ],
      "metadata": {
        "id": "IPu2R9xXxXk-"
      }
    },
    {
      "cell_type": "code",
      "source": [
        "# Código de ejercicio, puede crear mas celdas\n",
        "\n"
      ],
      "metadata": {
        "id": "oC8Vlpv_xX7V"
      },
      "execution_count": null,
      "outputs": []
    }
  ]
}