{
  "nbformat": 4,
  "nbformat_minor": 0,
  "metadata": {
    "colab": {
      "provenance": [],
      "include_colab_link": true
    },
    "kernelspec": {
      "name": "python3",
      "display_name": "Python 3"
    },
    "language_info": {
      "name": "python"
    },
    "accelerator": "GPU",
    "gpuClass": "standard"
  },
  "cells": [
    {
      "cell_type": "markdown",
      "metadata": {
        "id": "view-in-github",
        "colab_type": "text"
      },
      "source": [
        "<a href=\"https://colab.research.google.com/github/RYU-MCFLY/Aplicaciones-Financieras/blob/main/Semana3_2_Aps_Financieras5_LSTM_Bitcoin_27abr23.ipynb\" target=\"_parent\"><img src=\"https://colab.research.google.com/assets/colab-badge.svg\" alt=\"Open In Colab\"/></a>"
      ]
    },
    {
      "cell_type": "markdown",
      "source": [
        "[![Open In Colab](https://colab.research.google.com/assets/colab-badge.svg)](https://colab.research.google.com/github/MaxMitre/Aplicaciones-Financieras/blob/main/Semana3/2_LSTM_Bitcoin.ipynb)\n",
        "\n"
      ],
      "metadata": {
        "id": "bkUeov5T9Hfv"
      }
    },
    {
      "cell_type": "markdown",
      "source": [
        "# Descripción del problema"
      ],
      "metadata": {
        "id": "6DuKgmeStDUT"
      }
    },
    {
      "cell_type": "markdown",
      "source": [
        "Datos originales: https://challengedata.ens.fr/participants/challenges/31/\n",
        "\n",
        "El problema trata de buscar un algoritmo de clasificación que ayude a crear estrategias de inversión en criptomonedas, basado en el \"sentimiento\" extraído de noticias y redes sociales.\n",
        "\n",
        "Por cada hora de trading se contabilizó la ocurrencia de algunos terminos, tales como 'adoption' y 'hack', en un selecto numero de cuentas influyentes de twitter y en algunos foros como 'Bitcointalk'.\n",
        "\n",
        "Se han creado 10 temas diferentes, algunos positivos y otros negativos y se han contabilizado las palabras antes mencionadas, antes de una normalización.\n",
        "\n",
        "Dado un tema y un tema, hemos visto los conteos de las últimas 48 horas y se estandarizaron esos conteos. El resultado se multiplicó por el conteo promedio por hora y se dividió por el conteo promedio por hora de todo el entrenamiento\n",
        "\n",
        "Para un tiempo T en el periodo de tiempo i, con lag k ($k\\in[\\![0;47]\\!]$) el valor F ode la característica será:\n",
        "\n",
        "$$\n",
        "F_{i,k}=\\frac{T_{i,k}-\\overline{T_{i}}}{\\sqrt{\\frac{1}{47}\\sum\\limits_{j=0}^{47}{(T_{i,j}-\\overline{T_{i}})^{2}}}}*\\frac{\\overline{T_i}}{\\overline{T}} \n",
        "$$\n",
        "\n",
        "\n",
        "Se agregaron 5 características correspondientes a los precios finales en periodos de 1 hr, 6 hrs, 12 hrs, 24 hrs y 48 hrs\n",
        "El objetivo es predecir si el precio del Bitcoin tendrá un retorno (en la próxima hora) que sea de mas del 0.2%, entre -0.2% y 0.2% o menos al -0.2%.\n",
        "\n",
        "La métrica utilizada para la perdida es la perdida logistica, definita como el negativo de la log-verosimilitud de las etiquetas verdaderas comparadas con las probabilidades predichas por el clasificador.\n",
        "\n",
        "Las verdaderas etiquetas están codificadas como una matríz de 3 columnas, donde hay unos o ceros dependiendo si el elemento pertenece a la categoría de una columna u otra.\n",
        " \n",
        "Dada una matriz P de probabilidades $p_{i,k}=Pr(t_{i,k}=1)'$ , la función de perdida se define como\n",
        "\n",
        "$$\n",
        "L_{log}(Y,P)=-log{Pr(Y|P)}=-\\frac{1}{N} \\sum_{i=1}^{N} \\sum_{k=1}^3{y_{i,k}log(p_{i,k})}\n",
        "$$\n",
        "\n",
        "Entre más bajo el score de ésta medida, mejor.\n",
        "\n"
      ],
      "metadata": {
        "id": "E454T2Z7s_Tb"
      }
    },
    {
      "cell_type": "markdown",
      "source": [
        "# Dependencias"
      ],
      "metadata": {
        "id": "I1za57pz8Mkz"
      }
    },
    {
      "cell_type": "code",
      "source": [
        "# !pip install -U plotly"
      ],
      "metadata": {
        "id": "tIthEMHkPBww"
      },
      "execution_count": 1,
      "outputs": []
    },
    {
      "cell_type": "code",
      "metadata": {
        "id": "b9Ifan8XrfuZ"
      },
      "source": [
        "import pandas as pd\n",
        "import numpy as np\n",
        "\n",
        "from sklearn.model_selection import train_test_split\n",
        "\n",
        "import tensorflow as tf\n",
        "from tensorflow import keras\n",
        "from keras import layers\n",
        "\n",
        "import plotly.graph_objects as go"
      ],
      "execution_count": 2,
      "outputs": []
    },
    {
      "cell_type": "code",
      "source": [
        "from google.colab import drive\n",
        "drive.mount('/content/drive')"
      ],
      "metadata": {
        "id": "HV21Dtfz0SF-",
        "colab": {
          "base_uri": "https://localhost:8080/"
        },
        "outputId": "b6556af5-0c3c-4577-d329-f3f9eed8955d"
      },
      "execution_count": 3,
      "outputs": [
        {
          "output_type": "stream",
          "name": "stdout",
          "text": [
            "Mounted at /content/drive\n"
          ]
        }
      ]
    },
    {
      "cell_type": "markdown",
      "source": [
        "# Funciones"
      ],
      "metadata": {
        "id": "sqFcegOL8N7w"
      }
    },
    {
      "cell_type": "code",
      "source": [
        "def evaluate_model(estimator, train, val, test):\n",
        "    print('train cross_entropy = ', estimator.evaluate(train[0], train[1], verbose = False))\n",
        "    print('  val cross_entropy = ', estimator.evaluate(val[0], val[1], verbose = False))\n",
        "    print(' test cross_entropy = ', estimator.evaluate(test[0], test[1], verbose = False))"
      ],
      "metadata": {
        "id": "Mv_00PdK2Wnx"
      },
      "execution_count": 4,
      "outputs": []
    },
    {
      "cell_type": "code",
      "source": [
        "# TODO: Modificar para seleccionar características cambiando n_features, no sólo las primeras n_features\n",
        "# TODO: Revisar los resultados generados cuando se seleccionan distintos parámetros\n",
        "# NOTE: Asuma que el dataframe tiene 5 X, y 48 columnas para cada una de las 10 I ordenadas de reciente a antigua\n",
        "def transform_dataframe(df, len_prices = 5, n_features = 10, len_features = 48):\n",
        "    if type(len_prices) != int or type(n_features) != int or type(len_features) != int:\n",
        "        raise ValueError(f'Los parámetros len_prices, n_features y len_features deben ser de tipo int. Recibibo {type(len_prices)},{type(n_features)} y {type(len_features)}')\n",
        "\n",
        "    assert 0 < len_prices <= 5, 'len_prices debe estar entre 1 y 5'\n",
        "    assert 0 < n_features <= 10, 'n_features debe estar entre 1 y 10'\n",
        "    assert 0 < len_features <= 48, 'len_features debe estar entre 1 y 48'\n",
        "\n",
        "    df.reset_index(inplace = True, drop = True)\n",
        "    \n",
        "    # Los nombres de las columnas están al reves para tener primer la observación más antigua\n",
        "    prices_cols = ['X5', 'X4', 'X3', 'X2', 'X1']\n",
        "\n",
        "    prices = np.zeros((len(df), len_prices, 1))\n",
        "    features = np.zeros((len(df), len_features, n_features))\n",
        "\n",
        "    for i in range(len(df)):\n",
        "        # Se transforman la forma de los precios\n",
        "        prices[i] = df.loc[i, prices_cols[-len_prices:]].values.reshape((len_prices, 1))\n",
        "        # Para cada característica\n",
        "        for j in range(n_features):\n",
        "            # Se obtiene los 48 rezagos y se voltea el arreglo para tener el más antiguo primero\n",
        "            # Aquí se aplica el supuesto de que el dataframe tiene 5 columnas de 5\n",
        "            features[i, :, j] = np.flip(df.iloc[i, 5+48*j:5+len_features + 48*j].values)\n",
        "    return prices, features"
      ],
      "metadata": {
        "id": "pZ-N7rf_9HJk"
      },
      "execution_count": 5,
      "outputs": []
    },
    {
      "cell_type": "markdown",
      "source": [
        "> The Input data contains 10 time series of 48 trading hours representing complementary features based on sentiment analysis from news extracted from twitter or forums like Bitcointalk on Bitcoin, and 5 time series based on the variation of Bitcoin price during the past 1, 6, 12, 24 and 48 hours normalised by volatility during the period. Input data, for training and testing, will be given by a .csv file, whose first line contains the header. Then each line corresponds to a sample, each column to a feature. The features are the following:\n",
        "\n",
        ">- ***ID***: Id of the sample which is linked to the ID of the output file;\n",
        "- ***I_1_lag(k)*** to ***I_10_lag(k)***: Values of Indicators *I_1* to *I_10* for each k lag ($k\\in[\\![0;47]\\!]$) representing the normalized value of Indicators *I_1* to *I_10* each hour of the past 48 trading hours;\n",
        "- ***X_1*** to ***X_5***: Values of 5 normalised indicators representing price variation of Bitcoin on the last 1, 6, 12, 24 and 48 hours.\n",
        "\n",
        "> There will be 14 000 samples for the train set and 5 000 for the test set. For a given sample, the time series (for the 10 sentiment indicators) are given over the same 48 trading hours.\n",
        "\n",
        ">The training outputs are given in a .csv file. Each line corresponds to a sample:\n",
        "\n",
        ">- ***ID***: Id of the sample;\n",
        "- ***Target_-1***: classification of the return of Bitcoin in the next hour. -1 signifies a down move of less than -0.2%;\n",
        "- ***Target_0***: classification of the return of Bitcoin in the next hour. 0 signifies a move between -0.2% and 0.2%;\n",
        "- ***Target_1***: classification of the return of Bitcoin in the next hour. 1 signifies a up move of more than 0.2%.\n",
        "\n"
      ],
      "metadata": {
        "id": "XT_-69IHrvk1"
      }
    },
    {
      "cell_type": "code",
      "source": [
        "X_raw = pd.read_csv('/content/drive/MyDrive/semana7/input_training_IrTAw7w.csv').set_index('ID')\n",
        "X_raw"
      ],
      "metadata": {
        "id": "x20PPm-uf29p",
        "colab": {
          "base_uri": "https://localhost:8080/",
          "height": 519
        },
        "outputId": "c6f73b39-c289-4690-d6d2-5b2a4fdbcbc4"
      },
      "execution_count": 6,
      "outputs": [
        {
          "output_type": "execute_result",
          "data": {
            "text/plain": [
              "             X1        X2        X3        X4         X5   I1_lag0   I1_lag1  \\\n",
              "ID                                                                             \n",
              "0      0.460020  0.620360 -0.972192  2.745197   4.177783  2.325865  2.060138   \n",
              "1     -0.347872 -2.199925 -0.222026  3.741888   8.608291 -4.091293 -3.502499   \n",
              "2     -2.152963 -0.432461  1.619057 -0.003912   3.870262 -0.598858 -0.412391   \n",
              "3     -1.827669 -1.881770 -4.214322  0.178225   0.992362  0.383757  2.512478   \n",
              "4      0.748761  1.799939  1.561006  5.204120   2.161637 -1.275226 -1.544131   \n",
              "...         ...       ...       ...       ...        ...       ...       ...   \n",
              "13995 -0.074522 -0.472044 -2.860659 -1.266230 -10.229167  0.583145 -0.051301   \n",
              "13996  1.730118  3.177408  0.816198  1.136877  -1.588960  1.011735 -0.185748   \n",
              "13997  2.093028  4.108092  1.056253  8.163642   8.916299  2.338713  2.554397   \n",
              "13998  1.483381 -1.602078 -2.851078 -2.639386  -4.805661 -2.252937  2.370613   \n",
              "13999 -1.305992  1.129081 -0.223061  0.248722   1.326936 -0.496556  1.432433   \n",
              "\n",
              "        I1_lag2   I1_lag3   I1_lag4  ...  I10_lag38  I10_lag39  I10_lag40  \\\n",
              "ID                                   ...                                    \n",
              "0      0.071162  2.360597 -0.611526  ...  -0.342912  -0.194165   0.122331   \n",
              "1     -1.463631  0.383153 -3.669962  ...   1.261341  -0.082428  -1.035813   \n",
              "2     -0.765354 -0.998152 -0.938755  ...   2.245204   3.002347   2.674186   \n",
              "3     -0.383434 -0.208506 -1.104289  ...   1.383203  -1.338892   0.298076   \n",
              "4     -1.802590 -1.128526 -0.469835  ...  -0.477313   0.742923  -0.273225   \n",
              "...         ...       ...       ...  ...        ...        ...        ...   \n",
              "13995 -0.584659  1.458945  2.004759  ...  -1.634290  -1.527111  -1.008016   \n",
              "13996 -0.522647  2.316802  1.219339  ...  -0.409750   0.840944  -1.804313   \n",
              "13997  1.665492  3.719985 -0.278893  ...  -0.531223  -1.249847  -1.288419   \n",
              "13998  4.450028  0.947600  2.364395  ...  -1.451115  -4.188150  -2.397168   \n",
              "13999 -0.012964  1.571311  0.053566  ...   0.488547  -0.480647   0.498861   \n",
              "\n",
              "       I10_lag41  I10_lag42  I10_lag43  I10_lag44  I10_lag45  I10_lag46  \\\n",
              "ID                                                                        \n",
              "0       0.028682  -0.093626  -0.559840   0.562584  -0.557868   1.424906   \n",
              "1      -0.249607  -0.971215  -0.058408   1.460632  -0.653394  -1.743487   \n",
              "2       2.656251   1.062974  -0.484619  -0.044594   1.579731   0.962836   \n",
              "3       1.808275   2.837975   2.054112   0.741138   1.701911   0.110082   \n",
              "4       1.311015   0.744330   2.914322   1.030602   0.480722  -0.492838   \n",
              "...          ...        ...        ...        ...        ...        ...   \n",
              "13995  -0.500519   1.277636   1.257714   0.502732   1.751844   0.150679   \n",
              "13996   0.357944  -1.058557  -0.196874  -2.507582   0.125756   1.532976   \n",
              "13997  -0.897649  -0.199824  -0.033545   0.240647   2.188396   0.039340   \n",
              "13998  -1.126340  -0.841850  -4.231824  -2.640152  -4.048115  -4.629418   \n",
              "13999   1.053732   2.121583   2.547515   2.029551   0.592872  -0.079870   \n",
              "\n",
              "       I10_lag47  \n",
              "ID                \n",
              "0      -0.016294  \n",
              "1       4.065305  \n",
              "2       1.146983  \n",
              "3       0.114980  \n",
              "4       1.377958  \n",
              "...          ...  \n",
              "13995  -0.533808  \n",
              "13996  -1.087343  \n",
              "13997   0.756515  \n",
              "13998  -3.566115  \n",
              "13999   0.142056  \n",
              "\n",
              "[14000 rows x 485 columns]"
            ],
            "text/html": [
              "\n",
              "  <div id=\"df-4cc8d368-8205-446f-9ca9-7cc16fa89f3c\">\n",
              "    <div class=\"colab-df-container\">\n",
              "      <div>\n",
              "<style scoped>\n",
              "    .dataframe tbody tr th:only-of-type {\n",
              "        vertical-align: middle;\n",
              "    }\n",
              "\n",
              "    .dataframe tbody tr th {\n",
              "        vertical-align: top;\n",
              "    }\n",
              "\n",
              "    .dataframe thead th {\n",
              "        text-align: right;\n",
              "    }\n",
              "</style>\n",
              "<table border=\"1\" class=\"dataframe\">\n",
              "  <thead>\n",
              "    <tr style=\"text-align: right;\">\n",
              "      <th></th>\n",
              "      <th>X1</th>\n",
              "      <th>X2</th>\n",
              "      <th>X3</th>\n",
              "      <th>X4</th>\n",
              "      <th>X5</th>\n",
              "      <th>I1_lag0</th>\n",
              "      <th>I1_lag1</th>\n",
              "      <th>I1_lag2</th>\n",
              "      <th>I1_lag3</th>\n",
              "      <th>I1_lag4</th>\n",
              "      <th>...</th>\n",
              "      <th>I10_lag38</th>\n",
              "      <th>I10_lag39</th>\n",
              "      <th>I10_lag40</th>\n",
              "      <th>I10_lag41</th>\n",
              "      <th>I10_lag42</th>\n",
              "      <th>I10_lag43</th>\n",
              "      <th>I10_lag44</th>\n",
              "      <th>I10_lag45</th>\n",
              "      <th>I10_lag46</th>\n",
              "      <th>I10_lag47</th>\n",
              "    </tr>\n",
              "    <tr>\n",
              "      <th>ID</th>\n",
              "      <th></th>\n",
              "      <th></th>\n",
              "      <th></th>\n",
              "      <th></th>\n",
              "      <th></th>\n",
              "      <th></th>\n",
              "      <th></th>\n",
              "      <th></th>\n",
              "      <th></th>\n",
              "      <th></th>\n",
              "      <th></th>\n",
              "      <th></th>\n",
              "      <th></th>\n",
              "      <th></th>\n",
              "      <th></th>\n",
              "      <th></th>\n",
              "      <th></th>\n",
              "      <th></th>\n",
              "      <th></th>\n",
              "      <th></th>\n",
              "      <th></th>\n",
              "    </tr>\n",
              "  </thead>\n",
              "  <tbody>\n",
              "    <tr>\n",
              "      <th>0</th>\n",
              "      <td>0.460020</td>\n",
              "      <td>0.620360</td>\n",
              "      <td>-0.972192</td>\n",
              "      <td>2.745197</td>\n",
              "      <td>4.177783</td>\n",
              "      <td>2.325865</td>\n",
              "      <td>2.060138</td>\n",
              "      <td>0.071162</td>\n",
              "      <td>2.360597</td>\n",
              "      <td>-0.611526</td>\n",
              "      <td>...</td>\n",
              "      <td>-0.342912</td>\n",
              "      <td>-0.194165</td>\n",
              "      <td>0.122331</td>\n",
              "      <td>0.028682</td>\n",
              "      <td>-0.093626</td>\n",
              "      <td>-0.559840</td>\n",
              "      <td>0.562584</td>\n",
              "      <td>-0.557868</td>\n",
              "      <td>1.424906</td>\n",
              "      <td>-0.016294</td>\n",
              "    </tr>\n",
              "    <tr>\n",
              "      <th>1</th>\n",
              "      <td>-0.347872</td>\n",
              "      <td>-2.199925</td>\n",
              "      <td>-0.222026</td>\n",
              "      <td>3.741888</td>\n",
              "      <td>8.608291</td>\n",
              "      <td>-4.091293</td>\n",
              "      <td>-3.502499</td>\n",
              "      <td>-1.463631</td>\n",
              "      <td>0.383153</td>\n",
              "      <td>-3.669962</td>\n",
              "      <td>...</td>\n",
              "      <td>1.261341</td>\n",
              "      <td>-0.082428</td>\n",
              "      <td>-1.035813</td>\n",
              "      <td>-0.249607</td>\n",
              "      <td>-0.971215</td>\n",
              "      <td>-0.058408</td>\n",
              "      <td>1.460632</td>\n",
              "      <td>-0.653394</td>\n",
              "      <td>-1.743487</td>\n",
              "      <td>4.065305</td>\n",
              "    </tr>\n",
              "    <tr>\n",
              "      <th>2</th>\n",
              "      <td>-2.152963</td>\n",
              "      <td>-0.432461</td>\n",
              "      <td>1.619057</td>\n",
              "      <td>-0.003912</td>\n",
              "      <td>3.870262</td>\n",
              "      <td>-0.598858</td>\n",
              "      <td>-0.412391</td>\n",
              "      <td>-0.765354</td>\n",
              "      <td>-0.998152</td>\n",
              "      <td>-0.938755</td>\n",
              "      <td>...</td>\n",
              "      <td>2.245204</td>\n",
              "      <td>3.002347</td>\n",
              "      <td>2.674186</td>\n",
              "      <td>2.656251</td>\n",
              "      <td>1.062974</td>\n",
              "      <td>-0.484619</td>\n",
              "      <td>-0.044594</td>\n",
              "      <td>1.579731</td>\n",
              "      <td>0.962836</td>\n",
              "      <td>1.146983</td>\n",
              "    </tr>\n",
              "    <tr>\n",
              "      <th>3</th>\n",
              "      <td>-1.827669</td>\n",
              "      <td>-1.881770</td>\n",
              "      <td>-4.214322</td>\n",
              "      <td>0.178225</td>\n",
              "      <td>0.992362</td>\n",
              "      <td>0.383757</td>\n",
              "      <td>2.512478</td>\n",
              "      <td>-0.383434</td>\n",
              "      <td>-0.208506</td>\n",
              "      <td>-1.104289</td>\n",
              "      <td>...</td>\n",
              "      <td>1.383203</td>\n",
              "      <td>-1.338892</td>\n",
              "      <td>0.298076</td>\n",
              "      <td>1.808275</td>\n",
              "      <td>2.837975</td>\n",
              "      <td>2.054112</td>\n",
              "      <td>0.741138</td>\n",
              "      <td>1.701911</td>\n",
              "      <td>0.110082</td>\n",
              "      <td>0.114980</td>\n",
              "    </tr>\n",
              "    <tr>\n",
              "      <th>4</th>\n",
              "      <td>0.748761</td>\n",
              "      <td>1.799939</td>\n",
              "      <td>1.561006</td>\n",
              "      <td>5.204120</td>\n",
              "      <td>2.161637</td>\n",
              "      <td>-1.275226</td>\n",
              "      <td>-1.544131</td>\n",
              "      <td>-1.802590</td>\n",
              "      <td>-1.128526</td>\n",
              "      <td>-0.469835</td>\n",
              "      <td>...</td>\n",
              "      <td>-0.477313</td>\n",
              "      <td>0.742923</td>\n",
              "      <td>-0.273225</td>\n",
              "      <td>1.311015</td>\n",
              "      <td>0.744330</td>\n",
              "      <td>2.914322</td>\n",
              "      <td>1.030602</td>\n",
              "      <td>0.480722</td>\n",
              "      <td>-0.492838</td>\n",
              "      <td>1.377958</td>\n",
              "    </tr>\n",
              "    <tr>\n",
              "      <th>...</th>\n",
              "      <td>...</td>\n",
              "      <td>...</td>\n",
              "      <td>...</td>\n",
              "      <td>...</td>\n",
              "      <td>...</td>\n",
              "      <td>...</td>\n",
              "      <td>...</td>\n",
              "      <td>...</td>\n",
              "      <td>...</td>\n",
              "      <td>...</td>\n",
              "      <td>...</td>\n",
              "      <td>...</td>\n",
              "      <td>...</td>\n",
              "      <td>...</td>\n",
              "      <td>...</td>\n",
              "      <td>...</td>\n",
              "      <td>...</td>\n",
              "      <td>...</td>\n",
              "      <td>...</td>\n",
              "      <td>...</td>\n",
              "      <td>...</td>\n",
              "    </tr>\n",
              "    <tr>\n",
              "      <th>13995</th>\n",
              "      <td>-0.074522</td>\n",
              "      <td>-0.472044</td>\n",
              "      <td>-2.860659</td>\n",
              "      <td>-1.266230</td>\n",
              "      <td>-10.229167</td>\n",
              "      <td>0.583145</td>\n",
              "      <td>-0.051301</td>\n",
              "      <td>-0.584659</td>\n",
              "      <td>1.458945</td>\n",
              "      <td>2.004759</td>\n",
              "      <td>...</td>\n",
              "      <td>-1.634290</td>\n",
              "      <td>-1.527111</td>\n",
              "      <td>-1.008016</td>\n",
              "      <td>-0.500519</td>\n",
              "      <td>1.277636</td>\n",
              "      <td>1.257714</td>\n",
              "      <td>0.502732</td>\n",
              "      <td>1.751844</td>\n",
              "      <td>0.150679</td>\n",
              "      <td>-0.533808</td>\n",
              "    </tr>\n",
              "    <tr>\n",
              "      <th>13996</th>\n",
              "      <td>1.730118</td>\n",
              "      <td>3.177408</td>\n",
              "      <td>0.816198</td>\n",
              "      <td>1.136877</td>\n",
              "      <td>-1.588960</td>\n",
              "      <td>1.011735</td>\n",
              "      <td>-0.185748</td>\n",
              "      <td>-0.522647</td>\n",
              "      <td>2.316802</td>\n",
              "      <td>1.219339</td>\n",
              "      <td>...</td>\n",
              "      <td>-0.409750</td>\n",
              "      <td>0.840944</td>\n",
              "      <td>-1.804313</td>\n",
              "      <td>0.357944</td>\n",
              "      <td>-1.058557</td>\n",
              "      <td>-0.196874</td>\n",
              "      <td>-2.507582</td>\n",
              "      <td>0.125756</td>\n",
              "      <td>1.532976</td>\n",
              "      <td>-1.087343</td>\n",
              "    </tr>\n",
              "    <tr>\n",
              "      <th>13997</th>\n",
              "      <td>2.093028</td>\n",
              "      <td>4.108092</td>\n",
              "      <td>1.056253</td>\n",
              "      <td>8.163642</td>\n",
              "      <td>8.916299</td>\n",
              "      <td>2.338713</td>\n",
              "      <td>2.554397</td>\n",
              "      <td>1.665492</td>\n",
              "      <td>3.719985</td>\n",
              "      <td>-0.278893</td>\n",
              "      <td>...</td>\n",
              "      <td>-0.531223</td>\n",
              "      <td>-1.249847</td>\n",
              "      <td>-1.288419</td>\n",
              "      <td>-0.897649</td>\n",
              "      <td>-0.199824</td>\n",
              "      <td>-0.033545</td>\n",
              "      <td>0.240647</td>\n",
              "      <td>2.188396</td>\n",
              "      <td>0.039340</td>\n",
              "      <td>0.756515</td>\n",
              "    </tr>\n",
              "    <tr>\n",
              "      <th>13998</th>\n",
              "      <td>1.483381</td>\n",
              "      <td>-1.602078</td>\n",
              "      <td>-2.851078</td>\n",
              "      <td>-2.639386</td>\n",
              "      <td>-4.805661</td>\n",
              "      <td>-2.252937</td>\n",
              "      <td>2.370613</td>\n",
              "      <td>4.450028</td>\n",
              "      <td>0.947600</td>\n",
              "      <td>2.364395</td>\n",
              "      <td>...</td>\n",
              "      <td>-1.451115</td>\n",
              "      <td>-4.188150</td>\n",
              "      <td>-2.397168</td>\n",
              "      <td>-1.126340</td>\n",
              "      <td>-0.841850</td>\n",
              "      <td>-4.231824</td>\n",
              "      <td>-2.640152</td>\n",
              "      <td>-4.048115</td>\n",
              "      <td>-4.629418</td>\n",
              "      <td>-3.566115</td>\n",
              "    </tr>\n",
              "    <tr>\n",
              "      <th>13999</th>\n",
              "      <td>-1.305992</td>\n",
              "      <td>1.129081</td>\n",
              "      <td>-0.223061</td>\n",
              "      <td>0.248722</td>\n",
              "      <td>1.326936</td>\n",
              "      <td>-0.496556</td>\n",
              "      <td>1.432433</td>\n",
              "      <td>-0.012964</td>\n",
              "      <td>1.571311</td>\n",
              "      <td>0.053566</td>\n",
              "      <td>...</td>\n",
              "      <td>0.488547</td>\n",
              "      <td>-0.480647</td>\n",
              "      <td>0.498861</td>\n",
              "      <td>1.053732</td>\n",
              "      <td>2.121583</td>\n",
              "      <td>2.547515</td>\n",
              "      <td>2.029551</td>\n",
              "      <td>0.592872</td>\n",
              "      <td>-0.079870</td>\n",
              "      <td>0.142056</td>\n",
              "    </tr>\n",
              "  </tbody>\n",
              "</table>\n",
              "<p>14000 rows × 485 columns</p>\n",
              "</div>\n",
              "      <button class=\"colab-df-convert\" onclick=\"convertToInteractive('df-4cc8d368-8205-446f-9ca9-7cc16fa89f3c')\"\n",
              "              title=\"Convert this dataframe to an interactive table.\"\n",
              "              style=\"display:none;\">\n",
              "        \n",
              "  <svg xmlns=\"http://www.w3.org/2000/svg\" height=\"24px\"viewBox=\"0 0 24 24\"\n",
              "       width=\"24px\">\n",
              "    <path d=\"M0 0h24v24H0V0z\" fill=\"none\"/>\n",
              "    <path d=\"M18.56 5.44l.94 2.06.94-2.06 2.06-.94-2.06-.94-.94-2.06-.94 2.06-2.06.94zm-11 1L8.5 8.5l.94-2.06 2.06-.94-2.06-.94L8.5 2.5l-.94 2.06-2.06.94zm10 10l.94 2.06.94-2.06 2.06-.94-2.06-.94-.94-2.06-.94 2.06-2.06.94z\"/><path d=\"M17.41 7.96l-1.37-1.37c-.4-.4-.92-.59-1.43-.59-.52 0-1.04.2-1.43.59L10.3 9.45l-7.72 7.72c-.78.78-.78 2.05 0 2.83L4 21.41c.39.39.9.59 1.41.59.51 0 1.02-.2 1.41-.59l7.78-7.78 2.81-2.81c.8-.78.8-2.07 0-2.86zM5.41 20L4 18.59l7.72-7.72 1.47 1.35L5.41 20z\"/>\n",
              "  </svg>\n",
              "      </button>\n",
              "      \n",
              "  <style>\n",
              "    .colab-df-container {\n",
              "      display:flex;\n",
              "      flex-wrap:wrap;\n",
              "      gap: 12px;\n",
              "    }\n",
              "\n",
              "    .colab-df-convert {\n",
              "      background-color: #E8F0FE;\n",
              "      border: none;\n",
              "      border-radius: 50%;\n",
              "      cursor: pointer;\n",
              "      display: none;\n",
              "      fill: #1967D2;\n",
              "      height: 32px;\n",
              "      padding: 0 0 0 0;\n",
              "      width: 32px;\n",
              "    }\n",
              "\n",
              "    .colab-df-convert:hover {\n",
              "      background-color: #E2EBFA;\n",
              "      box-shadow: 0px 1px 2px rgba(60, 64, 67, 0.3), 0px 1px 3px 1px rgba(60, 64, 67, 0.15);\n",
              "      fill: #174EA6;\n",
              "    }\n",
              "\n",
              "    [theme=dark] .colab-df-convert {\n",
              "      background-color: #3B4455;\n",
              "      fill: #D2E3FC;\n",
              "    }\n",
              "\n",
              "    [theme=dark] .colab-df-convert:hover {\n",
              "      background-color: #434B5C;\n",
              "      box-shadow: 0px 1px 3px 1px rgba(0, 0, 0, 0.15);\n",
              "      filter: drop-shadow(0px 1px 2px rgba(0, 0, 0, 0.3));\n",
              "      fill: #FFFFFF;\n",
              "    }\n",
              "  </style>\n",
              "\n",
              "      <script>\n",
              "        const buttonEl =\n",
              "          document.querySelector('#df-4cc8d368-8205-446f-9ca9-7cc16fa89f3c button.colab-df-convert');\n",
              "        buttonEl.style.display =\n",
              "          google.colab.kernel.accessAllowed ? 'block' : 'none';\n",
              "\n",
              "        async function convertToInteractive(key) {\n",
              "          const element = document.querySelector('#df-4cc8d368-8205-446f-9ca9-7cc16fa89f3c');\n",
              "          const dataTable =\n",
              "            await google.colab.kernel.invokeFunction('convertToInteractive',\n",
              "                                                     [key], {});\n",
              "          if (!dataTable) return;\n",
              "\n",
              "          const docLinkHtml = 'Like what you see? Visit the ' +\n",
              "            '<a target=\"_blank\" href=https://colab.research.google.com/notebooks/data_table.ipynb>data table notebook</a>'\n",
              "            + ' to learn more about interactive tables.';\n",
              "          element.innerHTML = '';\n",
              "          dataTable['output_type'] = 'display_data';\n",
              "          await google.colab.output.renderOutput(dataTable, element);\n",
              "          const docLink = document.createElement('div');\n",
              "          docLink.innerHTML = docLinkHtml;\n",
              "          element.appendChild(docLink);\n",
              "        }\n",
              "      </script>\n",
              "    </div>\n",
              "  </div>\n",
              "  "
            ]
          },
          "metadata": {},
          "execution_count": 6
        }
      ]
    },
    {
      "cell_type": "code",
      "source": [
        "X_raw.loc[:,'I1_lag0':'I1_lag47']"
      ],
      "metadata": {
        "id": "dIjFLbzS_dJT",
        "outputId": "f5eaa7ed-5c49-422c-85ee-ab3981d96ae8",
        "colab": {
          "base_uri": "https://localhost:8080/",
          "height": 519
        }
      },
      "execution_count": 7,
      "outputs": [
        {
          "output_type": "execute_result",
          "data": {
            "text/plain": [
              "        I1_lag0   I1_lag1   I1_lag2   I1_lag3   I1_lag4   I1_lag5   I1_lag6  \\\n",
              "ID                                                                            \n",
              "0      2.325865  2.060138  0.071162  2.360597 -0.611526 -0.474029  1.380300   \n",
              "1     -4.091293 -3.502499 -1.463631  0.383153 -3.669962 -2.118337 -0.933734   \n",
              "2     -0.598858 -0.412391 -0.765354 -0.998152 -0.938755 -0.890084 -0.435971   \n",
              "3      0.383757  2.512478 -0.383434 -0.208506 -1.104289 -1.055666 -1.792361   \n",
              "4     -1.275226 -1.544131 -1.802590 -1.128526 -0.469835 -1.033174 -1.132530   \n",
              "...         ...       ...       ...       ...       ...       ...       ...   \n",
              "13995  0.583145 -0.051301 -0.584659  1.458945  2.004759 -0.188567 -1.174885   \n",
              "13996  1.011735 -0.185748 -0.522647  2.316802  1.219339 -0.112632  4.439025   \n",
              "13997  2.338713  2.554397  1.665492  3.719985 -0.278893 -0.313868  1.106249   \n",
              "13998 -2.252937  2.370613  4.450028  0.947600  2.364395  0.248679  2.388132   \n",
              "13999 -0.496556  1.432433 -0.012964  1.571311  0.053566 -1.182997 -1.145032   \n",
              "\n",
              "        I1_lag7   I1_lag8   I1_lag9  ...  I1_lag38  I1_lag39  I1_lag40  \\\n",
              "ID                                   ...                                 \n",
              "0      0.160847  1.101279 -1.064275  ... -0.785555 -1.098086 -0.958669   \n",
              "1      0.279289 -2.170922 -0.578250  ...  2.282263  5.016641  2.104728   \n",
              "2     -0.589324 -1.261406 -1.702031  ...  0.536822  0.715479  1.589677   \n",
              "3     -1.313026 -1.183724 -2.461788  ... -0.498264 -2.369554 -1.817159   \n",
              "4      0.673757 -0.899913 -0.816432  ...  2.109324  1.729324 -0.340226   \n",
              "...         ...       ...       ...  ...       ...       ...       ...   \n",
              "13995 -0.524965  0.918840 -0.832003  ... -1.943652 -0.782297  0.123417   \n",
              "13996  3.193461  1.082060  0.664259  ... -1.066735 -2.032352 -1.797870   \n",
              "13997  0.659270 -0.838686 -2.130881  ... -1.332451  1.324859  1.210238   \n",
              "13998  2.379845 -0.102890  1.788702  ... -3.346451 -5.533723 -5.158261   \n",
              "13999 -0.239909  0.125602 -0.903235  ... -0.690970 -0.286905 -0.550206   \n",
              "\n",
              "       I1_lag41  I1_lag42  I1_lag43  I1_lag44  I1_lag45  I1_lag46  I1_lag47  \n",
              "ID                                                                           \n",
              "0     -0.718184 -0.614667 -0.438390  2.786918 -0.510293 -0.807482  0.123301  \n",
              "1      0.163865 -1.294264 -0.933024  2.169507 -1.596210  1.111491  1.389198  \n",
              "2      1.278546  1.678936  0.758068  0.783552  0.789617  1.355588  1.560763  \n",
              "3      0.813002 -0.645045  3.332806 -0.737482  3.840992  0.214112  0.766485  \n",
              "4      0.508742  1.909086  1.259342  9.463993 -0.684622 -0.358928  2.419920  \n",
              "...         ...       ...       ...       ...       ...       ...       ...  \n",
              "13995 -1.385554  1.179859  1.596327  3.081927  1.616732 -0.439906  1.212270  \n",
              "13996 -1.732067 -0.104588 -1.871567 -1.317764 -0.837187 -0.500197  0.627397  \n",
              "13997  1.003666 -2.557547 -1.720577 -0.418486 -0.354826 -1.154290 -0.430326  \n",
              "13998 -3.182459 -3.498661 -3.874965 -3.250402 -2.489943 -2.857822 -3.826979  \n",
              "13999 -0.164405  2.044198  1.509676  1.497415  3.527036 -0.403290  1.107247  \n",
              "\n",
              "[14000 rows x 48 columns]"
            ],
            "text/html": [
              "\n",
              "  <div id=\"df-4ddb6572-aa66-4941-8c03-b3ec40df4f77\">\n",
              "    <div class=\"colab-df-container\">\n",
              "      <div>\n",
              "<style scoped>\n",
              "    .dataframe tbody tr th:only-of-type {\n",
              "        vertical-align: middle;\n",
              "    }\n",
              "\n",
              "    .dataframe tbody tr th {\n",
              "        vertical-align: top;\n",
              "    }\n",
              "\n",
              "    .dataframe thead th {\n",
              "        text-align: right;\n",
              "    }\n",
              "</style>\n",
              "<table border=\"1\" class=\"dataframe\">\n",
              "  <thead>\n",
              "    <tr style=\"text-align: right;\">\n",
              "      <th></th>\n",
              "      <th>I1_lag0</th>\n",
              "      <th>I1_lag1</th>\n",
              "      <th>I1_lag2</th>\n",
              "      <th>I1_lag3</th>\n",
              "      <th>I1_lag4</th>\n",
              "      <th>I1_lag5</th>\n",
              "      <th>I1_lag6</th>\n",
              "      <th>I1_lag7</th>\n",
              "      <th>I1_lag8</th>\n",
              "      <th>I1_lag9</th>\n",
              "      <th>...</th>\n",
              "      <th>I1_lag38</th>\n",
              "      <th>I1_lag39</th>\n",
              "      <th>I1_lag40</th>\n",
              "      <th>I1_lag41</th>\n",
              "      <th>I1_lag42</th>\n",
              "      <th>I1_lag43</th>\n",
              "      <th>I1_lag44</th>\n",
              "      <th>I1_lag45</th>\n",
              "      <th>I1_lag46</th>\n",
              "      <th>I1_lag47</th>\n",
              "    </tr>\n",
              "    <tr>\n",
              "      <th>ID</th>\n",
              "      <th></th>\n",
              "      <th></th>\n",
              "      <th></th>\n",
              "      <th></th>\n",
              "      <th></th>\n",
              "      <th></th>\n",
              "      <th></th>\n",
              "      <th></th>\n",
              "      <th></th>\n",
              "      <th></th>\n",
              "      <th></th>\n",
              "      <th></th>\n",
              "      <th></th>\n",
              "      <th></th>\n",
              "      <th></th>\n",
              "      <th></th>\n",
              "      <th></th>\n",
              "      <th></th>\n",
              "      <th></th>\n",
              "      <th></th>\n",
              "      <th></th>\n",
              "    </tr>\n",
              "  </thead>\n",
              "  <tbody>\n",
              "    <tr>\n",
              "      <th>0</th>\n",
              "      <td>2.325865</td>\n",
              "      <td>2.060138</td>\n",
              "      <td>0.071162</td>\n",
              "      <td>2.360597</td>\n",
              "      <td>-0.611526</td>\n",
              "      <td>-0.474029</td>\n",
              "      <td>1.380300</td>\n",
              "      <td>0.160847</td>\n",
              "      <td>1.101279</td>\n",
              "      <td>-1.064275</td>\n",
              "      <td>...</td>\n",
              "      <td>-0.785555</td>\n",
              "      <td>-1.098086</td>\n",
              "      <td>-0.958669</td>\n",
              "      <td>-0.718184</td>\n",
              "      <td>-0.614667</td>\n",
              "      <td>-0.438390</td>\n",
              "      <td>2.786918</td>\n",
              "      <td>-0.510293</td>\n",
              "      <td>-0.807482</td>\n",
              "      <td>0.123301</td>\n",
              "    </tr>\n",
              "    <tr>\n",
              "      <th>1</th>\n",
              "      <td>-4.091293</td>\n",
              "      <td>-3.502499</td>\n",
              "      <td>-1.463631</td>\n",
              "      <td>0.383153</td>\n",
              "      <td>-3.669962</td>\n",
              "      <td>-2.118337</td>\n",
              "      <td>-0.933734</td>\n",
              "      <td>0.279289</td>\n",
              "      <td>-2.170922</td>\n",
              "      <td>-0.578250</td>\n",
              "      <td>...</td>\n",
              "      <td>2.282263</td>\n",
              "      <td>5.016641</td>\n",
              "      <td>2.104728</td>\n",
              "      <td>0.163865</td>\n",
              "      <td>-1.294264</td>\n",
              "      <td>-0.933024</td>\n",
              "      <td>2.169507</td>\n",
              "      <td>-1.596210</td>\n",
              "      <td>1.111491</td>\n",
              "      <td>1.389198</td>\n",
              "    </tr>\n",
              "    <tr>\n",
              "      <th>2</th>\n",
              "      <td>-0.598858</td>\n",
              "      <td>-0.412391</td>\n",
              "      <td>-0.765354</td>\n",
              "      <td>-0.998152</td>\n",
              "      <td>-0.938755</td>\n",
              "      <td>-0.890084</td>\n",
              "      <td>-0.435971</td>\n",
              "      <td>-0.589324</td>\n",
              "      <td>-1.261406</td>\n",
              "      <td>-1.702031</td>\n",
              "      <td>...</td>\n",
              "      <td>0.536822</td>\n",
              "      <td>0.715479</td>\n",
              "      <td>1.589677</td>\n",
              "      <td>1.278546</td>\n",
              "      <td>1.678936</td>\n",
              "      <td>0.758068</td>\n",
              "      <td>0.783552</td>\n",
              "      <td>0.789617</td>\n",
              "      <td>1.355588</td>\n",
              "      <td>1.560763</td>\n",
              "    </tr>\n",
              "    <tr>\n",
              "      <th>3</th>\n",
              "      <td>0.383757</td>\n",
              "      <td>2.512478</td>\n",
              "      <td>-0.383434</td>\n",
              "      <td>-0.208506</td>\n",
              "      <td>-1.104289</td>\n",
              "      <td>-1.055666</td>\n",
              "      <td>-1.792361</td>\n",
              "      <td>-1.313026</td>\n",
              "      <td>-1.183724</td>\n",
              "      <td>-2.461788</td>\n",
              "      <td>...</td>\n",
              "      <td>-0.498264</td>\n",
              "      <td>-2.369554</td>\n",
              "      <td>-1.817159</td>\n",
              "      <td>0.813002</td>\n",
              "      <td>-0.645045</td>\n",
              "      <td>3.332806</td>\n",
              "      <td>-0.737482</td>\n",
              "      <td>3.840992</td>\n",
              "      <td>0.214112</td>\n",
              "      <td>0.766485</td>\n",
              "    </tr>\n",
              "    <tr>\n",
              "      <th>4</th>\n",
              "      <td>-1.275226</td>\n",
              "      <td>-1.544131</td>\n",
              "      <td>-1.802590</td>\n",
              "      <td>-1.128526</td>\n",
              "      <td>-0.469835</td>\n",
              "      <td>-1.033174</td>\n",
              "      <td>-1.132530</td>\n",
              "      <td>0.673757</td>\n",
              "      <td>-0.899913</td>\n",
              "      <td>-0.816432</td>\n",
              "      <td>...</td>\n",
              "      <td>2.109324</td>\n",
              "      <td>1.729324</td>\n",
              "      <td>-0.340226</td>\n",
              "      <td>0.508742</td>\n",
              "      <td>1.909086</td>\n",
              "      <td>1.259342</td>\n",
              "      <td>9.463993</td>\n",
              "      <td>-0.684622</td>\n",
              "      <td>-0.358928</td>\n",
              "      <td>2.419920</td>\n",
              "    </tr>\n",
              "    <tr>\n",
              "      <th>...</th>\n",
              "      <td>...</td>\n",
              "      <td>...</td>\n",
              "      <td>...</td>\n",
              "      <td>...</td>\n",
              "      <td>...</td>\n",
              "      <td>...</td>\n",
              "      <td>...</td>\n",
              "      <td>...</td>\n",
              "      <td>...</td>\n",
              "      <td>...</td>\n",
              "      <td>...</td>\n",
              "      <td>...</td>\n",
              "      <td>...</td>\n",
              "      <td>...</td>\n",
              "      <td>...</td>\n",
              "      <td>...</td>\n",
              "      <td>...</td>\n",
              "      <td>...</td>\n",
              "      <td>...</td>\n",
              "      <td>...</td>\n",
              "      <td>...</td>\n",
              "    </tr>\n",
              "    <tr>\n",
              "      <th>13995</th>\n",
              "      <td>0.583145</td>\n",
              "      <td>-0.051301</td>\n",
              "      <td>-0.584659</td>\n",
              "      <td>1.458945</td>\n",
              "      <td>2.004759</td>\n",
              "      <td>-0.188567</td>\n",
              "      <td>-1.174885</td>\n",
              "      <td>-0.524965</td>\n",
              "      <td>0.918840</td>\n",
              "      <td>-0.832003</td>\n",
              "      <td>...</td>\n",
              "      <td>-1.943652</td>\n",
              "      <td>-0.782297</td>\n",
              "      <td>0.123417</td>\n",
              "      <td>-1.385554</td>\n",
              "      <td>1.179859</td>\n",
              "      <td>1.596327</td>\n",
              "      <td>3.081927</td>\n",
              "      <td>1.616732</td>\n",
              "      <td>-0.439906</td>\n",
              "      <td>1.212270</td>\n",
              "    </tr>\n",
              "    <tr>\n",
              "      <th>13996</th>\n",
              "      <td>1.011735</td>\n",
              "      <td>-0.185748</td>\n",
              "      <td>-0.522647</td>\n",
              "      <td>2.316802</td>\n",
              "      <td>1.219339</td>\n",
              "      <td>-0.112632</td>\n",
              "      <td>4.439025</td>\n",
              "      <td>3.193461</td>\n",
              "      <td>1.082060</td>\n",
              "      <td>0.664259</td>\n",
              "      <td>...</td>\n",
              "      <td>-1.066735</td>\n",
              "      <td>-2.032352</td>\n",
              "      <td>-1.797870</td>\n",
              "      <td>-1.732067</td>\n",
              "      <td>-0.104588</td>\n",
              "      <td>-1.871567</td>\n",
              "      <td>-1.317764</td>\n",
              "      <td>-0.837187</td>\n",
              "      <td>-0.500197</td>\n",
              "      <td>0.627397</td>\n",
              "    </tr>\n",
              "    <tr>\n",
              "      <th>13997</th>\n",
              "      <td>2.338713</td>\n",
              "      <td>2.554397</td>\n",
              "      <td>1.665492</td>\n",
              "      <td>3.719985</td>\n",
              "      <td>-0.278893</td>\n",
              "      <td>-0.313868</td>\n",
              "      <td>1.106249</td>\n",
              "      <td>0.659270</td>\n",
              "      <td>-0.838686</td>\n",
              "      <td>-2.130881</td>\n",
              "      <td>...</td>\n",
              "      <td>-1.332451</td>\n",
              "      <td>1.324859</td>\n",
              "      <td>1.210238</td>\n",
              "      <td>1.003666</td>\n",
              "      <td>-2.557547</td>\n",
              "      <td>-1.720577</td>\n",
              "      <td>-0.418486</td>\n",
              "      <td>-0.354826</td>\n",
              "      <td>-1.154290</td>\n",
              "      <td>-0.430326</td>\n",
              "    </tr>\n",
              "    <tr>\n",
              "      <th>13998</th>\n",
              "      <td>-2.252937</td>\n",
              "      <td>2.370613</td>\n",
              "      <td>4.450028</td>\n",
              "      <td>0.947600</td>\n",
              "      <td>2.364395</td>\n",
              "      <td>0.248679</td>\n",
              "      <td>2.388132</td>\n",
              "      <td>2.379845</td>\n",
              "      <td>-0.102890</td>\n",
              "      <td>1.788702</td>\n",
              "      <td>...</td>\n",
              "      <td>-3.346451</td>\n",
              "      <td>-5.533723</td>\n",
              "      <td>-5.158261</td>\n",
              "      <td>-3.182459</td>\n",
              "      <td>-3.498661</td>\n",
              "      <td>-3.874965</td>\n",
              "      <td>-3.250402</td>\n",
              "      <td>-2.489943</td>\n",
              "      <td>-2.857822</td>\n",
              "      <td>-3.826979</td>\n",
              "    </tr>\n",
              "    <tr>\n",
              "      <th>13999</th>\n",
              "      <td>-0.496556</td>\n",
              "      <td>1.432433</td>\n",
              "      <td>-0.012964</td>\n",
              "      <td>1.571311</td>\n",
              "      <td>0.053566</td>\n",
              "      <td>-1.182997</td>\n",
              "      <td>-1.145032</td>\n",
              "      <td>-0.239909</td>\n",
              "      <td>0.125602</td>\n",
              "      <td>-0.903235</td>\n",
              "      <td>...</td>\n",
              "      <td>-0.690970</td>\n",
              "      <td>-0.286905</td>\n",
              "      <td>-0.550206</td>\n",
              "      <td>-0.164405</td>\n",
              "      <td>2.044198</td>\n",
              "      <td>1.509676</td>\n",
              "      <td>1.497415</td>\n",
              "      <td>3.527036</td>\n",
              "      <td>-0.403290</td>\n",
              "      <td>1.107247</td>\n",
              "    </tr>\n",
              "  </tbody>\n",
              "</table>\n",
              "<p>14000 rows × 48 columns</p>\n",
              "</div>\n",
              "      <button class=\"colab-df-convert\" onclick=\"convertToInteractive('df-4ddb6572-aa66-4941-8c03-b3ec40df4f77')\"\n",
              "              title=\"Convert this dataframe to an interactive table.\"\n",
              "              style=\"display:none;\">\n",
              "        \n",
              "  <svg xmlns=\"http://www.w3.org/2000/svg\" height=\"24px\"viewBox=\"0 0 24 24\"\n",
              "       width=\"24px\">\n",
              "    <path d=\"M0 0h24v24H0V0z\" fill=\"none\"/>\n",
              "    <path d=\"M18.56 5.44l.94 2.06.94-2.06 2.06-.94-2.06-.94-.94-2.06-.94 2.06-2.06.94zm-11 1L8.5 8.5l.94-2.06 2.06-.94-2.06-.94L8.5 2.5l-.94 2.06-2.06.94zm10 10l.94 2.06.94-2.06 2.06-.94-2.06-.94-.94-2.06-.94 2.06-2.06.94z\"/><path d=\"M17.41 7.96l-1.37-1.37c-.4-.4-.92-.59-1.43-.59-.52 0-1.04.2-1.43.59L10.3 9.45l-7.72 7.72c-.78.78-.78 2.05 0 2.83L4 21.41c.39.39.9.59 1.41.59.51 0 1.02-.2 1.41-.59l7.78-7.78 2.81-2.81c.8-.78.8-2.07 0-2.86zM5.41 20L4 18.59l7.72-7.72 1.47 1.35L5.41 20z\"/>\n",
              "  </svg>\n",
              "      </button>\n",
              "      \n",
              "  <style>\n",
              "    .colab-df-container {\n",
              "      display:flex;\n",
              "      flex-wrap:wrap;\n",
              "      gap: 12px;\n",
              "    }\n",
              "\n",
              "    .colab-df-convert {\n",
              "      background-color: #E8F0FE;\n",
              "      border: none;\n",
              "      border-radius: 50%;\n",
              "      cursor: pointer;\n",
              "      display: none;\n",
              "      fill: #1967D2;\n",
              "      height: 32px;\n",
              "      padding: 0 0 0 0;\n",
              "      width: 32px;\n",
              "    }\n",
              "\n",
              "    .colab-df-convert:hover {\n",
              "      background-color: #E2EBFA;\n",
              "      box-shadow: 0px 1px 2px rgba(60, 64, 67, 0.3), 0px 1px 3px 1px rgba(60, 64, 67, 0.15);\n",
              "      fill: #174EA6;\n",
              "    }\n",
              "\n",
              "    [theme=dark] .colab-df-convert {\n",
              "      background-color: #3B4455;\n",
              "      fill: #D2E3FC;\n",
              "    }\n",
              "\n",
              "    [theme=dark] .colab-df-convert:hover {\n",
              "      background-color: #434B5C;\n",
              "      box-shadow: 0px 1px 3px 1px rgba(0, 0, 0, 0.15);\n",
              "      filter: drop-shadow(0px 1px 2px rgba(0, 0, 0, 0.3));\n",
              "      fill: #FFFFFF;\n",
              "    }\n",
              "  </style>\n",
              "\n",
              "      <script>\n",
              "        const buttonEl =\n",
              "          document.querySelector('#df-4ddb6572-aa66-4941-8c03-b3ec40df4f77 button.colab-df-convert');\n",
              "        buttonEl.style.display =\n",
              "          google.colab.kernel.accessAllowed ? 'block' : 'none';\n",
              "\n",
              "        async function convertToInteractive(key) {\n",
              "          const element = document.querySelector('#df-4ddb6572-aa66-4941-8c03-b3ec40df4f77');\n",
              "          const dataTable =\n",
              "            await google.colab.kernel.invokeFunction('convertToInteractive',\n",
              "                                                     [key], {});\n",
              "          if (!dataTable) return;\n",
              "\n",
              "          const docLinkHtml = 'Like what you see? Visit the ' +\n",
              "            '<a target=\"_blank\" href=https://colab.research.google.com/notebooks/data_table.ipynb>data table notebook</a>'\n",
              "            + ' to learn more about interactive tables.';\n",
              "          element.innerHTML = '';\n",
              "          dataTable['output_type'] = 'display_data';\n",
              "          await google.colab.output.renderOutput(dataTable, element);\n",
              "          const docLink = document.createElement('div');\n",
              "          docLink.innerHTML = docLinkHtml;\n",
              "          element.appendChild(docLink);\n",
              "        }\n",
              "      </script>\n",
              "    </div>\n",
              "  </div>\n",
              "  "
            ]
          },
          "metadata": {},
          "execution_count": 7
        }
      ]
    },
    {
      "cell_type": "code",
      "source": [
        "y_raw = pd.read_csv('/content/drive/MyDrive/semana7/output_training_F2dZW38.csv').set_index('ID')\n",
        "y_raw"
      ],
      "metadata": {
        "id": "29-SdvrDk-lz",
        "outputId": "3251564a-2ed0-4280-e6d1-c5c9303d8aed",
        "colab": {
          "base_uri": "https://localhost:8080/",
          "height": 455
        }
      },
      "execution_count": 9,
      "outputs": [
        {
          "output_type": "execute_result",
          "data": {
            "text/plain": [
              "       Target -1  Target 0  Target 1\n",
              "ID                                  \n",
              "0              0         0         1\n",
              "1              1         0         0\n",
              "2              0         0         1\n",
              "3              1         0         0\n",
              "4              0         1         0\n",
              "...          ...       ...       ...\n",
              "13995          0         0         1\n",
              "13996          0         1         0\n",
              "13997          0         1         0\n",
              "13998          0         0         1\n",
              "13999          0         1         0\n",
              "\n",
              "[14000 rows x 3 columns]"
            ],
            "text/html": [
              "\n",
              "  <div id=\"df-bcedde6d-0b8d-43e2-b892-44a2e3121f9d\">\n",
              "    <div class=\"colab-df-container\">\n",
              "      <div>\n",
              "<style scoped>\n",
              "    .dataframe tbody tr th:only-of-type {\n",
              "        vertical-align: middle;\n",
              "    }\n",
              "\n",
              "    .dataframe tbody tr th {\n",
              "        vertical-align: top;\n",
              "    }\n",
              "\n",
              "    .dataframe thead th {\n",
              "        text-align: right;\n",
              "    }\n",
              "</style>\n",
              "<table border=\"1\" class=\"dataframe\">\n",
              "  <thead>\n",
              "    <tr style=\"text-align: right;\">\n",
              "      <th></th>\n",
              "      <th>Target -1</th>\n",
              "      <th>Target 0</th>\n",
              "      <th>Target 1</th>\n",
              "    </tr>\n",
              "    <tr>\n",
              "      <th>ID</th>\n",
              "      <th></th>\n",
              "      <th></th>\n",
              "      <th></th>\n",
              "    </tr>\n",
              "  </thead>\n",
              "  <tbody>\n",
              "    <tr>\n",
              "      <th>0</th>\n",
              "      <td>0</td>\n",
              "      <td>0</td>\n",
              "      <td>1</td>\n",
              "    </tr>\n",
              "    <tr>\n",
              "      <th>1</th>\n",
              "      <td>1</td>\n",
              "      <td>0</td>\n",
              "      <td>0</td>\n",
              "    </tr>\n",
              "    <tr>\n",
              "      <th>2</th>\n",
              "      <td>0</td>\n",
              "      <td>0</td>\n",
              "      <td>1</td>\n",
              "    </tr>\n",
              "    <tr>\n",
              "      <th>3</th>\n",
              "      <td>1</td>\n",
              "      <td>0</td>\n",
              "      <td>0</td>\n",
              "    </tr>\n",
              "    <tr>\n",
              "      <th>4</th>\n",
              "      <td>0</td>\n",
              "      <td>1</td>\n",
              "      <td>0</td>\n",
              "    </tr>\n",
              "    <tr>\n",
              "      <th>...</th>\n",
              "      <td>...</td>\n",
              "      <td>...</td>\n",
              "      <td>...</td>\n",
              "    </tr>\n",
              "    <tr>\n",
              "      <th>13995</th>\n",
              "      <td>0</td>\n",
              "      <td>0</td>\n",
              "      <td>1</td>\n",
              "    </tr>\n",
              "    <tr>\n",
              "      <th>13996</th>\n",
              "      <td>0</td>\n",
              "      <td>1</td>\n",
              "      <td>0</td>\n",
              "    </tr>\n",
              "    <tr>\n",
              "      <th>13997</th>\n",
              "      <td>0</td>\n",
              "      <td>1</td>\n",
              "      <td>0</td>\n",
              "    </tr>\n",
              "    <tr>\n",
              "      <th>13998</th>\n",
              "      <td>0</td>\n",
              "      <td>0</td>\n",
              "      <td>1</td>\n",
              "    </tr>\n",
              "    <tr>\n",
              "      <th>13999</th>\n",
              "      <td>0</td>\n",
              "      <td>1</td>\n",
              "      <td>0</td>\n",
              "    </tr>\n",
              "  </tbody>\n",
              "</table>\n",
              "<p>14000 rows × 3 columns</p>\n",
              "</div>\n",
              "      <button class=\"colab-df-convert\" onclick=\"convertToInteractive('df-bcedde6d-0b8d-43e2-b892-44a2e3121f9d')\"\n",
              "              title=\"Convert this dataframe to an interactive table.\"\n",
              "              style=\"display:none;\">\n",
              "        \n",
              "  <svg xmlns=\"http://www.w3.org/2000/svg\" height=\"24px\"viewBox=\"0 0 24 24\"\n",
              "       width=\"24px\">\n",
              "    <path d=\"M0 0h24v24H0V0z\" fill=\"none\"/>\n",
              "    <path d=\"M18.56 5.44l.94 2.06.94-2.06 2.06-.94-2.06-.94-.94-2.06-.94 2.06-2.06.94zm-11 1L8.5 8.5l.94-2.06 2.06-.94-2.06-.94L8.5 2.5l-.94 2.06-2.06.94zm10 10l.94 2.06.94-2.06 2.06-.94-2.06-.94-.94-2.06-.94 2.06-2.06.94z\"/><path d=\"M17.41 7.96l-1.37-1.37c-.4-.4-.92-.59-1.43-.59-.52 0-1.04.2-1.43.59L10.3 9.45l-7.72 7.72c-.78.78-.78 2.05 0 2.83L4 21.41c.39.39.9.59 1.41.59.51 0 1.02-.2 1.41-.59l7.78-7.78 2.81-2.81c.8-.78.8-2.07 0-2.86zM5.41 20L4 18.59l7.72-7.72 1.47 1.35L5.41 20z\"/>\n",
              "  </svg>\n",
              "      </button>\n",
              "      \n",
              "  <style>\n",
              "    .colab-df-container {\n",
              "      display:flex;\n",
              "      flex-wrap:wrap;\n",
              "      gap: 12px;\n",
              "    }\n",
              "\n",
              "    .colab-df-convert {\n",
              "      background-color: #E8F0FE;\n",
              "      border: none;\n",
              "      border-radius: 50%;\n",
              "      cursor: pointer;\n",
              "      display: none;\n",
              "      fill: #1967D2;\n",
              "      height: 32px;\n",
              "      padding: 0 0 0 0;\n",
              "      width: 32px;\n",
              "    }\n",
              "\n",
              "    .colab-df-convert:hover {\n",
              "      background-color: #E2EBFA;\n",
              "      box-shadow: 0px 1px 2px rgba(60, 64, 67, 0.3), 0px 1px 3px 1px rgba(60, 64, 67, 0.15);\n",
              "      fill: #174EA6;\n",
              "    }\n",
              "\n",
              "    [theme=dark] .colab-df-convert {\n",
              "      background-color: #3B4455;\n",
              "      fill: #D2E3FC;\n",
              "    }\n",
              "\n",
              "    [theme=dark] .colab-df-convert:hover {\n",
              "      background-color: #434B5C;\n",
              "      box-shadow: 0px 1px 3px 1px rgba(0, 0, 0, 0.15);\n",
              "      filter: drop-shadow(0px 1px 2px rgba(0, 0, 0, 0.3));\n",
              "      fill: #FFFFFF;\n",
              "    }\n",
              "  </style>\n",
              "\n",
              "      <script>\n",
              "        const buttonEl =\n",
              "          document.querySelector('#df-bcedde6d-0b8d-43e2-b892-44a2e3121f9d button.colab-df-convert');\n",
              "        buttonEl.style.display =\n",
              "          google.colab.kernel.accessAllowed ? 'block' : 'none';\n",
              "\n",
              "        async function convertToInteractive(key) {\n",
              "          const element = document.querySelector('#df-bcedde6d-0b8d-43e2-b892-44a2e3121f9d');\n",
              "          const dataTable =\n",
              "            await google.colab.kernel.invokeFunction('convertToInteractive',\n",
              "                                                     [key], {});\n",
              "          if (!dataTable) return;\n",
              "\n",
              "          const docLinkHtml = 'Like what you see? Visit the ' +\n",
              "            '<a target=\"_blank\" href=https://colab.research.google.com/notebooks/data_table.ipynb>data table notebook</a>'\n",
              "            + ' to learn more about interactive tables.';\n",
              "          element.innerHTML = '';\n",
              "          dataTable['output_type'] = 'display_data';\n",
              "          await google.colab.output.renderOutput(dataTable, element);\n",
              "          const docLink = document.createElement('div');\n",
              "          docLink.innerHTML = docLinkHtml;\n",
              "          element.appendChild(docLink);\n",
              "        }\n",
              "      </script>\n",
              "    </div>\n",
              "  </div>\n",
              "  "
            ]
          },
          "metadata": {},
          "execution_count": 9
        }
      ]
    },
    {
      "cell_type": "markdown",
      "source": [
        "## División: Entrenamiento, Validación y Prueba"
      ],
      "metadata": {
        "id": "4fqHIttJ8RTL"
      }
    },
    {
      "cell_type": "code",
      "source": [
        "# Division para entrenamiento de red LSTM\n",
        "X_train, X_test, y_train, y_test = train_test_split(X_raw, y_raw, train_size = .8, random_state = 10, shuffle = False)\n",
        "X_train, X_val, y_train, y_val = train_test_split(X_train, y_train, train_size = .75, random_state = 10, shuffle = False)\n",
        "\n",
        "print('     Train shape', X_train.shape)\n",
        "print('Validation shape', X_val.shape)\n",
        "print('      Test shape', X_test.shape)"
      ],
      "metadata": {
        "id": "1X0rE_Qj1Ys0",
        "outputId": "14bedd6e-e1e6-4e39-b426-d71d5067d023",
        "colab": {
          "base_uri": "https://localhost:8080/"
        }
      },
      "execution_count": 10,
      "outputs": [
        {
          "output_type": "stream",
          "name": "stdout",
          "text": [
            "     Train shape (8400, 485)\n",
            "Validation shape (2800, 485)\n",
            "      Test shape (2800, 485)\n"
          ]
        }
      ]
    },
    {
      "cell_type": "markdown",
      "source": [
        "## Transformaciones"
      ],
      "metadata": {
        "id": "LV5EgGdD8WAm"
      }
    },
    {
      "cell_type": "code",
      "source": [
        "# Longitud de la serie de tiempo de variaciones de los precios del Bitcoin X_i\n",
        "len_prices = 5\n",
        "\n",
        "# Cantidad de temas vistos\n",
        "n_features = 10\n",
        "# Cantidad de tiempos que vemos hacia atras en las variables de sentimiento\n",
        "len_features = 48\n",
        "\n",
        "train_prices, train_features = transform_dataframe(X_train, len_prices, n_features, len_features)\n",
        "val_prices, val_features     = transform_dataframe(X_val,   len_prices, n_features, len_features)\n",
        "test_prices, test_features   = transform_dataframe(X_test,  len_prices, n_features, len_features)"
      ],
      "metadata": {
        "id": "E9kHbyBf-hUh"
      },
      "execution_count": 12,
      "outputs": []
    },
    {
      "cell_type": "code",
      "source": [
        "train_prices[0]"
      ],
      "metadata": {
        "id": "IVAOnEUuSvuw",
        "outputId": "23672a3f-a810-4133-d6f8-d710b172a1e2",
        "colab": {
          "base_uri": "https://localhost:8080/"
        }
      },
      "execution_count": 13,
      "outputs": [
        {
          "output_type": "execute_result",
          "data": {
            "text/plain": [
              "array([[ 4.17778324],\n",
              "       [ 2.74519725],\n",
              "       [-0.97219231],\n",
              "       [ 0.62035968],\n",
              "       [ 0.46002033]])"
            ]
          },
          "metadata": {},
          "execution_count": 13
        }
      ]
    },
    {
      "cell_type": "code",
      "source": [
        "train_prices.shape #8400 series de tiempo"
      ],
      "metadata": {
        "id": "K2QzZtVH3FZv",
        "outputId": "18b2518b-e5a9-478c-f99c-3a250925af54",
        "colab": {
          "base_uri": "https://localhost:8080/"
        }
      },
      "execution_count": 14,
      "outputs": [
        {
          "output_type": "execute_result",
          "data": {
            "text/plain": [
              "(8400, 5, 1)"
            ]
          },
          "metadata": {},
          "execution_count": 14
        }
      ]
    },
    {
      "cell_type": "code",
      "source": [
        "train_features[0][:, 0]  #todas las filas y lineas de sentimiento de una matriz de 48 por 10"
      ],
      "metadata": {
        "id": "upcIoCRrTx9c",
        "outputId": "b8e60a84-68c4-4956-ed69-8128d1e55c6e",
        "colab": {
          "base_uri": "https://localhost:8080/"
        }
      },
      "execution_count": 15,
      "outputs": [
        {
          "output_type": "execute_result",
          "data": {
            "text/plain": [
              "array([ 0.12330096, -0.80748226, -0.51029275,  2.78691821, -0.4383897 ,\n",
              "       -0.61466708, -0.71818432, -0.95866944, -1.09808579, -0.78555544,\n",
              "       -1.22302101, -0.88165666, -1.09750822, -0.84122588,  0.25120809,\n",
              "        0.90708829, -1.08424554, -1.07812114, -0.70310434, -0.37712057,\n",
              "        1.55133108,  1.05576805,  0.209699  ,  1.76036892, -0.30387588,\n",
              "        0.07121708,  0.97642094,  0.07843654, -0.35526931,  0.22145519,\n",
              "        0.06140576, -0.07898419, -0.73271442, -1.22189031, -0.62196393,\n",
              "        0.49002681, -1.57032042,  0.24734582, -1.06427504,  1.10127919,\n",
              "        0.16084683,  1.3802998 , -0.47402934, -0.6115262 ,  2.36059748,\n",
              "        0.07116183,  2.06013838,  2.3258649 ])"
            ]
          },
          "metadata": {},
          "execution_count": 15
        }
      ]
    },
    {
      "cell_type": "code",
      "source": [
        "X_raw.loc[:,'I1_lag0':'I1_lag47']  #localizacion"
      ],
      "metadata": {
        "id": "zG_vcD88TGvN",
        "outputId": "e54e325a-659b-4f31-ade5-4ffc290acb6d",
        "colab": {
          "base_uri": "https://localhost:8080/",
          "height": 519
        }
      },
      "execution_count": 16,
      "outputs": [
        {
          "output_type": "execute_result",
          "data": {
            "text/plain": [
              "        I1_lag0   I1_lag1   I1_lag2   I1_lag3   I1_lag4   I1_lag5   I1_lag6  \\\n",
              "ID                                                                            \n",
              "0      2.325865  2.060138  0.071162  2.360597 -0.611526 -0.474029  1.380300   \n",
              "1     -4.091293 -3.502499 -1.463631  0.383153 -3.669962 -2.118337 -0.933734   \n",
              "2     -0.598858 -0.412391 -0.765354 -0.998152 -0.938755 -0.890084 -0.435971   \n",
              "3      0.383757  2.512478 -0.383434 -0.208506 -1.104289 -1.055666 -1.792361   \n",
              "4     -1.275226 -1.544131 -1.802590 -1.128526 -0.469835 -1.033174 -1.132530   \n",
              "...         ...       ...       ...       ...       ...       ...       ...   \n",
              "13995  0.583145 -0.051301 -0.584659  1.458945  2.004759 -0.188567 -1.174885   \n",
              "13996  1.011735 -0.185748 -0.522647  2.316802  1.219339 -0.112632  4.439025   \n",
              "13997  2.338713  2.554397  1.665492  3.719985 -0.278893 -0.313868  1.106249   \n",
              "13998 -2.252937  2.370613  4.450028  0.947600  2.364395  0.248679  2.388132   \n",
              "13999 -0.496556  1.432433 -0.012964  1.571311  0.053566 -1.182997 -1.145032   \n",
              "\n",
              "        I1_lag7   I1_lag8   I1_lag9  ...  I1_lag38  I1_lag39  I1_lag40  \\\n",
              "ID                                   ...                                 \n",
              "0      0.160847  1.101279 -1.064275  ... -0.785555 -1.098086 -0.958669   \n",
              "1      0.279289 -2.170922 -0.578250  ...  2.282263  5.016641  2.104728   \n",
              "2     -0.589324 -1.261406 -1.702031  ...  0.536822  0.715479  1.589677   \n",
              "3     -1.313026 -1.183724 -2.461788  ... -0.498264 -2.369554 -1.817159   \n",
              "4      0.673757 -0.899913 -0.816432  ...  2.109324  1.729324 -0.340226   \n",
              "...         ...       ...       ...  ...       ...       ...       ...   \n",
              "13995 -0.524965  0.918840 -0.832003  ... -1.943652 -0.782297  0.123417   \n",
              "13996  3.193461  1.082060  0.664259  ... -1.066735 -2.032352 -1.797870   \n",
              "13997  0.659270 -0.838686 -2.130881  ... -1.332451  1.324859  1.210238   \n",
              "13998  2.379845 -0.102890  1.788702  ... -3.346451 -5.533723 -5.158261   \n",
              "13999 -0.239909  0.125602 -0.903235  ... -0.690970 -0.286905 -0.550206   \n",
              "\n",
              "       I1_lag41  I1_lag42  I1_lag43  I1_lag44  I1_lag45  I1_lag46  I1_lag47  \n",
              "ID                                                                           \n",
              "0     -0.718184 -0.614667 -0.438390  2.786918 -0.510293 -0.807482  0.123301  \n",
              "1      0.163865 -1.294264 -0.933024  2.169507 -1.596210  1.111491  1.389198  \n",
              "2      1.278546  1.678936  0.758068  0.783552  0.789617  1.355588  1.560763  \n",
              "3      0.813002 -0.645045  3.332806 -0.737482  3.840992  0.214112  0.766485  \n",
              "4      0.508742  1.909086  1.259342  9.463993 -0.684622 -0.358928  2.419920  \n",
              "...         ...       ...       ...       ...       ...       ...       ...  \n",
              "13995 -1.385554  1.179859  1.596327  3.081927  1.616732 -0.439906  1.212270  \n",
              "13996 -1.732067 -0.104588 -1.871567 -1.317764 -0.837187 -0.500197  0.627397  \n",
              "13997  1.003666 -2.557547 -1.720577 -0.418486 -0.354826 -1.154290 -0.430326  \n",
              "13998 -3.182459 -3.498661 -3.874965 -3.250402 -2.489943 -2.857822 -3.826979  \n",
              "13999 -0.164405  2.044198  1.509676  1.497415  3.527036 -0.403290  1.107247  \n",
              "\n",
              "[14000 rows x 48 columns]"
            ],
            "text/html": [
              "\n",
              "  <div id=\"df-01dcea29-3ddd-4dff-a83b-2972b96c6df8\">\n",
              "    <div class=\"colab-df-container\">\n",
              "      <div>\n",
              "<style scoped>\n",
              "    .dataframe tbody tr th:only-of-type {\n",
              "        vertical-align: middle;\n",
              "    }\n",
              "\n",
              "    .dataframe tbody tr th {\n",
              "        vertical-align: top;\n",
              "    }\n",
              "\n",
              "    .dataframe thead th {\n",
              "        text-align: right;\n",
              "    }\n",
              "</style>\n",
              "<table border=\"1\" class=\"dataframe\">\n",
              "  <thead>\n",
              "    <tr style=\"text-align: right;\">\n",
              "      <th></th>\n",
              "      <th>I1_lag0</th>\n",
              "      <th>I1_lag1</th>\n",
              "      <th>I1_lag2</th>\n",
              "      <th>I1_lag3</th>\n",
              "      <th>I1_lag4</th>\n",
              "      <th>I1_lag5</th>\n",
              "      <th>I1_lag6</th>\n",
              "      <th>I1_lag7</th>\n",
              "      <th>I1_lag8</th>\n",
              "      <th>I1_lag9</th>\n",
              "      <th>...</th>\n",
              "      <th>I1_lag38</th>\n",
              "      <th>I1_lag39</th>\n",
              "      <th>I1_lag40</th>\n",
              "      <th>I1_lag41</th>\n",
              "      <th>I1_lag42</th>\n",
              "      <th>I1_lag43</th>\n",
              "      <th>I1_lag44</th>\n",
              "      <th>I1_lag45</th>\n",
              "      <th>I1_lag46</th>\n",
              "      <th>I1_lag47</th>\n",
              "    </tr>\n",
              "    <tr>\n",
              "      <th>ID</th>\n",
              "      <th></th>\n",
              "      <th></th>\n",
              "      <th></th>\n",
              "      <th></th>\n",
              "      <th></th>\n",
              "      <th></th>\n",
              "      <th></th>\n",
              "      <th></th>\n",
              "      <th></th>\n",
              "      <th></th>\n",
              "      <th></th>\n",
              "      <th></th>\n",
              "      <th></th>\n",
              "      <th></th>\n",
              "      <th></th>\n",
              "      <th></th>\n",
              "      <th></th>\n",
              "      <th></th>\n",
              "      <th></th>\n",
              "      <th></th>\n",
              "      <th></th>\n",
              "    </tr>\n",
              "  </thead>\n",
              "  <tbody>\n",
              "    <tr>\n",
              "      <th>0</th>\n",
              "      <td>2.325865</td>\n",
              "      <td>2.060138</td>\n",
              "      <td>0.071162</td>\n",
              "      <td>2.360597</td>\n",
              "      <td>-0.611526</td>\n",
              "      <td>-0.474029</td>\n",
              "      <td>1.380300</td>\n",
              "      <td>0.160847</td>\n",
              "      <td>1.101279</td>\n",
              "      <td>-1.064275</td>\n",
              "      <td>...</td>\n",
              "      <td>-0.785555</td>\n",
              "      <td>-1.098086</td>\n",
              "      <td>-0.958669</td>\n",
              "      <td>-0.718184</td>\n",
              "      <td>-0.614667</td>\n",
              "      <td>-0.438390</td>\n",
              "      <td>2.786918</td>\n",
              "      <td>-0.510293</td>\n",
              "      <td>-0.807482</td>\n",
              "      <td>0.123301</td>\n",
              "    </tr>\n",
              "    <tr>\n",
              "      <th>1</th>\n",
              "      <td>-4.091293</td>\n",
              "      <td>-3.502499</td>\n",
              "      <td>-1.463631</td>\n",
              "      <td>0.383153</td>\n",
              "      <td>-3.669962</td>\n",
              "      <td>-2.118337</td>\n",
              "      <td>-0.933734</td>\n",
              "      <td>0.279289</td>\n",
              "      <td>-2.170922</td>\n",
              "      <td>-0.578250</td>\n",
              "      <td>...</td>\n",
              "      <td>2.282263</td>\n",
              "      <td>5.016641</td>\n",
              "      <td>2.104728</td>\n",
              "      <td>0.163865</td>\n",
              "      <td>-1.294264</td>\n",
              "      <td>-0.933024</td>\n",
              "      <td>2.169507</td>\n",
              "      <td>-1.596210</td>\n",
              "      <td>1.111491</td>\n",
              "      <td>1.389198</td>\n",
              "    </tr>\n",
              "    <tr>\n",
              "      <th>2</th>\n",
              "      <td>-0.598858</td>\n",
              "      <td>-0.412391</td>\n",
              "      <td>-0.765354</td>\n",
              "      <td>-0.998152</td>\n",
              "      <td>-0.938755</td>\n",
              "      <td>-0.890084</td>\n",
              "      <td>-0.435971</td>\n",
              "      <td>-0.589324</td>\n",
              "      <td>-1.261406</td>\n",
              "      <td>-1.702031</td>\n",
              "      <td>...</td>\n",
              "      <td>0.536822</td>\n",
              "      <td>0.715479</td>\n",
              "      <td>1.589677</td>\n",
              "      <td>1.278546</td>\n",
              "      <td>1.678936</td>\n",
              "      <td>0.758068</td>\n",
              "      <td>0.783552</td>\n",
              "      <td>0.789617</td>\n",
              "      <td>1.355588</td>\n",
              "      <td>1.560763</td>\n",
              "    </tr>\n",
              "    <tr>\n",
              "      <th>3</th>\n",
              "      <td>0.383757</td>\n",
              "      <td>2.512478</td>\n",
              "      <td>-0.383434</td>\n",
              "      <td>-0.208506</td>\n",
              "      <td>-1.104289</td>\n",
              "      <td>-1.055666</td>\n",
              "      <td>-1.792361</td>\n",
              "      <td>-1.313026</td>\n",
              "      <td>-1.183724</td>\n",
              "      <td>-2.461788</td>\n",
              "      <td>...</td>\n",
              "      <td>-0.498264</td>\n",
              "      <td>-2.369554</td>\n",
              "      <td>-1.817159</td>\n",
              "      <td>0.813002</td>\n",
              "      <td>-0.645045</td>\n",
              "      <td>3.332806</td>\n",
              "      <td>-0.737482</td>\n",
              "      <td>3.840992</td>\n",
              "      <td>0.214112</td>\n",
              "      <td>0.766485</td>\n",
              "    </tr>\n",
              "    <tr>\n",
              "      <th>4</th>\n",
              "      <td>-1.275226</td>\n",
              "      <td>-1.544131</td>\n",
              "      <td>-1.802590</td>\n",
              "      <td>-1.128526</td>\n",
              "      <td>-0.469835</td>\n",
              "      <td>-1.033174</td>\n",
              "      <td>-1.132530</td>\n",
              "      <td>0.673757</td>\n",
              "      <td>-0.899913</td>\n",
              "      <td>-0.816432</td>\n",
              "      <td>...</td>\n",
              "      <td>2.109324</td>\n",
              "      <td>1.729324</td>\n",
              "      <td>-0.340226</td>\n",
              "      <td>0.508742</td>\n",
              "      <td>1.909086</td>\n",
              "      <td>1.259342</td>\n",
              "      <td>9.463993</td>\n",
              "      <td>-0.684622</td>\n",
              "      <td>-0.358928</td>\n",
              "      <td>2.419920</td>\n",
              "    </tr>\n",
              "    <tr>\n",
              "      <th>...</th>\n",
              "      <td>...</td>\n",
              "      <td>...</td>\n",
              "      <td>...</td>\n",
              "      <td>...</td>\n",
              "      <td>...</td>\n",
              "      <td>...</td>\n",
              "      <td>...</td>\n",
              "      <td>...</td>\n",
              "      <td>...</td>\n",
              "      <td>...</td>\n",
              "      <td>...</td>\n",
              "      <td>...</td>\n",
              "      <td>...</td>\n",
              "      <td>...</td>\n",
              "      <td>...</td>\n",
              "      <td>...</td>\n",
              "      <td>...</td>\n",
              "      <td>...</td>\n",
              "      <td>...</td>\n",
              "      <td>...</td>\n",
              "      <td>...</td>\n",
              "    </tr>\n",
              "    <tr>\n",
              "      <th>13995</th>\n",
              "      <td>0.583145</td>\n",
              "      <td>-0.051301</td>\n",
              "      <td>-0.584659</td>\n",
              "      <td>1.458945</td>\n",
              "      <td>2.004759</td>\n",
              "      <td>-0.188567</td>\n",
              "      <td>-1.174885</td>\n",
              "      <td>-0.524965</td>\n",
              "      <td>0.918840</td>\n",
              "      <td>-0.832003</td>\n",
              "      <td>...</td>\n",
              "      <td>-1.943652</td>\n",
              "      <td>-0.782297</td>\n",
              "      <td>0.123417</td>\n",
              "      <td>-1.385554</td>\n",
              "      <td>1.179859</td>\n",
              "      <td>1.596327</td>\n",
              "      <td>3.081927</td>\n",
              "      <td>1.616732</td>\n",
              "      <td>-0.439906</td>\n",
              "      <td>1.212270</td>\n",
              "    </tr>\n",
              "    <tr>\n",
              "      <th>13996</th>\n",
              "      <td>1.011735</td>\n",
              "      <td>-0.185748</td>\n",
              "      <td>-0.522647</td>\n",
              "      <td>2.316802</td>\n",
              "      <td>1.219339</td>\n",
              "      <td>-0.112632</td>\n",
              "      <td>4.439025</td>\n",
              "      <td>3.193461</td>\n",
              "      <td>1.082060</td>\n",
              "      <td>0.664259</td>\n",
              "      <td>...</td>\n",
              "      <td>-1.066735</td>\n",
              "      <td>-2.032352</td>\n",
              "      <td>-1.797870</td>\n",
              "      <td>-1.732067</td>\n",
              "      <td>-0.104588</td>\n",
              "      <td>-1.871567</td>\n",
              "      <td>-1.317764</td>\n",
              "      <td>-0.837187</td>\n",
              "      <td>-0.500197</td>\n",
              "      <td>0.627397</td>\n",
              "    </tr>\n",
              "    <tr>\n",
              "      <th>13997</th>\n",
              "      <td>2.338713</td>\n",
              "      <td>2.554397</td>\n",
              "      <td>1.665492</td>\n",
              "      <td>3.719985</td>\n",
              "      <td>-0.278893</td>\n",
              "      <td>-0.313868</td>\n",
              "      <td>1.106249</td>\n",
              "      <td>0.659270</td>\n",
              "      <td>-0.838686</td>\n",
              "      <td>-2.130881</td>\n",
              "      <td>...</td>\n",
              "      <td>-1.332451</td>\n",
              "      <td>1.324859</td>\n",
              "      <td>1.210238</td>\n",
              "      <td>1.003666</td>\n",
              "      <td>-2.557547</td>\n",
              "      <td>-1.720577</td>\n",
              "      <td>-0.418486</td>\n",
              "      <td>-0.354826</td>\n",
              "      <td>-1.154290</td>\n",
              "      <td>-0.430326</td>\n",
              "    </tr>\n",
              "    <tr>\n",
              "      <th>13998</th>\n",
              "      <td>-2.252937</td>\n",
              "      <td>2.370613</td>\n",
              "      <td>4.450028</td>\n",
              "      <td>0.947600</td>\n",
              "      <td>2.364395</td>\n",
              "      <td>0.248679</td>\n",
              "      <td>2.388132</td>\n",
              "      <td>2.379845</td>\n",
              "      <td>-0.102890</td>\n",
              "      <td>1.788702</td>\n",
              "      <td>...</td>\n",
              "      <td>-3.346451</td>\n",
              "      <td>-5.533723</td>\n",
              "      <td>-5.158261</td>\n",
              "      <td>-3.182459</td>\n",
              "      <td>-3.498661</td>\n",
              "      <td>-3.874965</td>\n",
              "      <td>-3.250402</td>\n",
              "      <td>-2.489943</td>\n",
              "      <td>-2.857822</td>\n",
              "      <td>-3.826979</td>\n",
              "    </tr>\n",
              "    <tr>\n",
              "      <th>13999</th>\n",
              "      <td>-0.496556</td>\n",
              "      <td>1.432433</td>\n",
              "      <td>-0.012964</td>\n",
              "      <td>1.571311</td>\n",
              "      <td>0.053566</td>\n",
              "      <td>-1.182997</td>\n",
              "      <td>-1.145032</td>\n",
              "      <td>-0.239909</td>\n",
              "      <td>0.125602</td>\n",
              "      <td>-0.903235</td>\n",
              "      <td>...</td>\n",
              "      <td>-0.690970</td>\n",
              "      <td>-0.286905</td>\n",
              "      <td>-0.550206</td>\n",
              "      <td>-0.164405</td>\n",
              "      <td>2.044198</td>\n",
              "      <td>1.509676</td>\n",
              "      <td>1.497415</td>\n",
              "      <td>3.527036</td>\n",
              "      <td>-0.403290</td>\n",
              "      <td>1.107247</td>\n",
              "    </tr>\n",
              "  </tbody>\n",
              "</table>\n",
              "<p>14000 rows × 48 columns</p>\n",
              "</div>\n",
              "      <button class=\"colab-df-convert\" onclick=\"convertToInteractive('df-01dcea29-3ddd-4dff-a83b-2972b96c6df8')\"\n",
              "              title=\"Convert this dataframe to an interactive table.\"\n",
              "              style=\"display:none;\">\n",
              "        \n",
              "  <svg xmlns=\"http://www.w3.org/2000/svg\" height=\"24px\"viewBox=\"0 0 24 24\"\n",
              "       width=\"24px\">\n",
              "    <path d=\"M0 0h24v24H0V0z\" fill=\"none\"/>\n",
              "    <path d=\"M18.56 5.44l.94 2.06.94-2.06 2.06-.94-2.06-.94-.94-2.06-.94 2.06-2.06.94zm-11 1L8.5 8.5l.94-2.06 2.06-.94-2.06-.94L8.5 2.5l-.94 2.06-2.06.94zm10 10l.94 2.06.94-2.06 2.06-.94-2.06-.94-.94-2.06-.94 2.06-2.06.94z\"/><path d=\"M17.41 7.96l-1.37-1.37c-.4-.4-.92-.59-1.43-.59-.52 0-1.04.2-1.43.59L10.3 9.45l-7.72 7.72c-.78.78-.78 2.05 0 2.83L4 21.41c.39.39.9.59 1.41.59.51 0 1.02-.2 1.41-.59l7.78-7.78 2.81-2.81c.8-.78.8-2.07 0-2.86zM5.41 20L4 18.59l7.72-7.72 1.47 1.35L5.41 20z\"/>\n",
              "  </svg>\n",
              "      </button>\n",
              "      \n",
              "  <style>\n",
              "    .colab-df-container {\n",
              "      display:flex;\n",
              "      flex-wrap:wrap;\n",
              "      gap: 12px;\n",
              "    }\n",
              "\n",
              "    .colab-df-convert {\n",
              "      background-color: #E8F0FE;\n",
              "      border: none;\n",
              "      border-radius: 50%;\n",
              "      cursor: pointer;\n",
              "      display: none;\n",
              "      fill: #1967D2;\n",
              "      height: 32px;\n",
              "      padding: 0 0 0 0;\n",
              "      width: 32px;\n",
              "    }\n",
              "\n",
              "    .colab-df-convert:hover {\n",
              "      background-color: #E2EBFA;\n",
              "      box-shadow: 0px 1px 2px rgba(60, 64, 67, 0.3), 0px 1px 3px 1px rgba(60, 64, 67, 0.15);\n",
              "      fill: #174EA6;\n",
              "    }\n",
              "\n",
              "    [theme=dark] .colab-df-convert {\n",
              "      background-color: #3B4455;\n",
              "      fill: #D2E3FC;\n",
              "    }\n",
              "\n",
              "    [theme=dark] .colab-df-convert:hover {\n",
              "      background-color: #434B5C;\n",
              "      box-shadow: 0px 1px 3px 1px rgba(0, 0, 0, 0.15);\n",
              "      filter: drop-shadow(0px 1px 2px rgba(0, 0, 0, 0.3));\n",
              "      fill: #FFFFFF;\n",
              "    }\n",
              "  </style>\n",
              "\n",
              "      <script>\n",
              "        const buttonEl =\n",
              "          document.querySelector('#df-01dcea29-3ddd-4dff-a83b-2972b96c6df8 button.colab-df-convert');\n",
              "        buttonEl.style.display =\n",
              "          google.colab.kernel.accessAllowed ? 'block' : 'none';\n",
              "\n",
              "        async function convertToInteractive(key) {\n",
              "          const element = document.querySelector('#df-01dcea29-3ddd-4dff-a83b-2972b96c6df8');\n",
              "          const dataTable =\n",
              "            await google.colab.kernel.invokeFunction('convertToInteractive',\n",
              "                                                     [key], {});\n",
              "          if (!dataTable) return;\n",
              "\n",
              "          const docLinkHtml = 'Like what you see? Visit the ' +\n",
              "            '<a target=\"_blank\" href=https://colab.research.google.com/notebooks/data_table.ipynb>data table notebook</a>'\n",
              "            + ' to learn more about interactive tables.';\n",
              "          element.innerHTML = '';\n",
              "          dataTable['output_type'] = 'display_data';\n",
              "          await google.colab.output.renderOutput(dataTable, element);\n",
              "          const docLink = document.createElement('div');\n",
              "          docLink.innerHTML = docLinkHtml;\n",
              "          element.appendChild(docLink);\n",
              "        }\n",
              "      </script>\n",
              "    </div>\n",
              "  </div>\n",
              "  "
            ]
          },
          "metadata": {},
          "execution_count": 16
        }
      ]
    },
    {
      "cell_type": "code",
      "source": [
        "train_features.shape  #una matriz con cada file tiene sentimientos de 1 a 10"
      ],
      "metadata": {
        "id": "11OHHU132d-C",
        "outputId": "3e7c5f09-9571-418c-a841-f8407794d17a",
        "colab": {
          "base_uri": "https://localhost:8080/"
        }
      },
      "execution_count": 17,
      "outputs": [
        {
          "output_type": "execute_result",
          "data": {
            "text/plain": [
              "(8400, 48, 10)"
            ]
          },
          "metadata": {},
          "execution_count": 17
        }
      ]
    },
    {
      "cell_type": "code",
      "source": [
        "print('        Labels: (samples, sequence length, features)')\n",
        "print('  Train prices:', train_prices.shape)\n",
        "print('Train features:', train_features.shape)"
      ],
      "metadata": {
        "id": "D9vHnzXOGlJi",
        "outputId": "7c1fec6a-2588-478e-a24a-5f5dcad4249f",
        "colab": {
          "base_uri": "https://localhost:8080/"
        }
      },
      "execution_count": 18,
      "outputs": [
        {
          "output_type": "stream",
          "name": "stdout",
          "text": [
            "        Labels: (samples, sequence length, features)\n",
            "  Train prices: (8400, 5, 1)\n",
            "Train features: (8400, 48, 10)\n"
          ]
        }
      ]
    },
    {
      "cell_type": "markdown",
      "source": [
        "# Algoritmos-Modelos"
      ],
      "metadata": {
        "id": "Z8wnN8eN8fbZ"
      }
    },
    {
      "cell_type": "markdown",
      "source": [
        "## Regresión logística"
      ],
      "metadata": {
        "id": "NfcAiYGc994C"
      }
    },
    {
      "cell_type": "markdown",
      "source": [
        "El punto de referencia de los propietarios de los datos es una regresión logística tomando como características X1, $\\dots$, X5."
      ],
      "metadata": {
        "id": "0B2PDjT2-_n-"
      }
    },
    {
      "cell_type": "code",
      "source": [
        "from sklearn.linear_model import LogisticRegression"
      ],
      "metadata": {
        "id": "XxRMOiQR2d3H"
      },
      "execution_count": 19,
      "outputs": []
    },
    {
      "cell_type": "code",
      "source": [
        "np.set_printoptions(suppress=True)\n",
        "train_prices"
      ],
      "metadata": {
        "id": "hi_GmUvP3InB",
        "outputId": "55faead7-b7f1-4255-ebf6-2470ef95488c",
        "colab": {
          "base_uri": "https://localhost:8080/"
        }
      },
      "execution_count": 20,
      "outputs": [
        {
          "output_type": "execute_result",
          "data": {
            "text/plain": [
              "array([[[ 4.17778324],\n",
              "        [ 2.74519725],\n",
              "        [-0.97219231],\n",
              "        [ 0.62035968],\n",
              "        [ 0.46002033]],\n",
              "\n",
              "       [[ 8.60829058],\n",
              "        [ 3.74188805],\n",
              "        [-0.22202592],\n",
              "        [-2.19992478],\n",
              "        [-0.34787206]],\n",
              "\n",
              "       [[ 3.87026224],\n",
              "        [-0.00391238],\n",
              "        [ 1.61905739],\n",
              "        [-0.43246086],\n",
              "        [-2.15296262]],\n",
              "\n",
              "       ...,\n",
              "\n",
              "       [[-8.01161549],\n",
              "        [-3.25267826],\n",
              "        [-3.23511161],\n",
              "        [-4.42009744],\n",
              "        [-1.64528608]],\n",
              "\n",
              "       [[-5.7431553 ],\n",
              "        [-4.55756999],\n",
              "        [-4.1314012 ],\n",
              "        [-4.21510083],\n",
              "        [ 0.26622901]],\n",
              "\n",
              "       [[ 3.53645002],\n",
              "        [ 6.40746335],\n",
              "        [ 0.75612526],\n",
              "        [ 1.8952313 ],\n",
              "        [ 1.59236659]]])"
            ]
          },
          "metadata": {},
          "execution_count": 20
        }
      ]
    },
    {
      "cell_type": "code",
      "source": [
        "X_train_0, X_test_0, y_train_0, y_test_0 = train_test_split(X_raw, y_raw, train_size = .8, random_state = 10, shuffle = False)"
      ],
      "metadata": {
        "id": "-gaJ6tl43i7w"
      },
      "execution_count": 21,
      "outputs": []
    },
    {
      "cell_type": "code",
      "source": [
        "X_train_0 = X_train_0[['X1', 'X2', 'X3', 'X4', 'X5']]\n",
        "X_train_0"
      ],
      "metadata": {
        "id": "ZF4hOjid3tza",
        "outputId": "643d7fb8-6446-4de8-fb8d-9af59af33aca",
        "colab": {
          "base_uri": "https://localhost:8080/",
          "height": 455
        }
      },
      "execution_count": 22,
      "outputs": [
        {
          "output_type": "execute_result",
          "data": {
            "text/plain": [
              "             X1        X2        X3        X4         X5\n",
              "ID                                                      \n",
              "0      0.460020  0.620360 -0.972192  2.745197   4.177783\n",
              "1     -0.347872 -2.199925 -0.222026  3.741888   8.608291\n",
              "2     -2.152963 -0.432461  1.619057 -0.003912   3.870262\n",
              "3     -1.827669 -1.881770 -4.214322  0.178225   0.992362\n",
              "4      0.748761  1.799939  1.561006  5.204120   2.161637\n",
              "...         ...       ...       ...       ...        ...\n",
              "11195 -0.197817 -0.503618 -5.999348 -7.625040  -2.796258\n",
              "11196  0.511663  1.874224  0.079970  2.570751   7.507616\n",
              "11197  3.405716  4.082560  5.426551  4.861720  10.263339\n",
              "11198  0.476242  2.696333  3.123024  5.921784  -2.697430\n",
              "11199 -0.114793  2.307844  2.853960  5.231252  -2.617616\n",
              "\n",
              "[11200 rows x 5 columns]"
            ],
            "text/html": [
              "\n",
              "  <div id=\"df-c4f6a064-e6ab-419d-90f5-68dc485b5d0e\">\n",
              "    <div class=\"colab-df-container\">\n",
              "      <div>\n",
              "<style scoped>\n",
              "    .dataframe tbody tr th:only-of-type {\n",
              "        vertical-align: middle;\n",
              "    }\n",
              "\n",
              "    .dataframe tbody tr th {\n",
              "        vertical-align: top;\n",
              "    }\n",
              "\n",
              "    .dataframe thead th {\n",
              "        text-align: right;\n",
              "    }\n",
              "</style>\n",
              "<table border=\"1\" class=\"dataframe\">\n",
              "  <thead>\n",
              "    <tr style=\"text-align: right;\">\n",
              "      <th></th>\n",
              "      <th>X1</th>\n",
              "      <th>X2</th>\n",
              "      <th>X3</th>\n",
              "      <th>X4</th>\n",
              "      <th>X5</th>\n",
              "    </tr>\n",
              "    <tr>\n",
              "      <th>ID</th>\n",
              "      <th></th>\n",
              "      <th></th>\n",
              "      <th></th>\n",
              "      <th></th>\n",
              "      <th></th>\n",
              "    </tr>\n",
              "  </thead>\n",
              "  <tbody>\n",
              "    <tr>\n",
              "      <th>0</th>\n",
              "      <td>0.460020</td>\n",
              "      <td>0.620360</td>\n",
              "      <td>-0.972192</td>\n",
              "      <td>2.745197</td>\n",
              "      <td>4.177783</td>\n",
              "    </tr>\n",
              "    <tr>\n",
              "      <th>1</th>\n",
              "      <td>-0.347872</td>\n",
              "      <td>-2.199925</td>\n",
              "      <td>-0.222026</td>\n",
              "      <td>3.741888</td>\n",
              "      <td>8.608291</td>\n",
              "    </tr>\n",
              "    <tr>\n",
              "      <th>2</th>\n",
              "      <td>-2.152963</td>\n",
              "      <td>-0.432461</td>\n",
              "      <td>1.619057</td>\n",
              "      <td>-0.003912</td>\n",
              "      <td>3.870262</td>\n",
              "    </tr>\n",
              "    <tr>\n",
              "      <th>3</th>\n",
              "      <td>-1.827669</td>\n",
              "      <td>-1.881770</td>\n",
              "      <td>-4.214322</td>\n",
              "      <td>0.178225</td>\n",
              "      <td>0.992362</td>\n",
              "    </tr>\n",
              "    <tr>\n",
              "      <th>4</th>\n",
              "      <td>0.748761</td>\n",
              "      <td>1.799939</td>\n",
              "      <td>1.561006</td>\n",
              "      <td>5.204120</td>\n",
              "      <td>2.161637</td>\n",
              "    </tr>\n",
              "    <tr>\n",
              "      <th>...</th>\n",
              "      <td>...</td>\n",
              "      <td>...</td>\n",
              "      <td>...</td>\n",
              "      <td>...</td>\n",
              "      <td>...</td>\n",
              "    </tr>\n",
              "    <tr>\n",
              "      <th>11195</th>\n",
              "      <td>-0.197817</td>\n",
              "      <td>-0.503618</td>\n",
              "      <td>-5.999348</td>\n",
              "      <td>-7.625040</td>\n",
              "      <td>-2.796258</td>\n",
              "    </tr>\n",
              "    <tr>\n",
              "      <th>11196</th>\n",
              "      <td>0.511663</td>\n",
              "      <td>1.874224</td>\n",
              "      <td>0.079970</td>\n",
              "      <td>2.570751</td>\n",
              "      <td>7.507616</td>\n",
              "    </tr>\n",
              "    <tr>\n",
              "      <th>11197</th>\n",
              "      <td>3.405716</td>\n",
              "      <td>4.082560</td>\n",
              "      <td>5.426551</td>\n",
              "      <td>4.861720</td>\n",
              "      <td>10.263339</td>\n",
              "    </tr>\n",
              "    <tr>\n",
              "      <th>11198</th>\n",
              "      <td>0.476242</td>\n",
              "      <td>2.696333</td>\n",
              "      <td>3.123024</td>\n",
              "      <td>5.921784</td>\n",
              "      <td>-2.697430</td>\n",
              "    </tr>\n",
              "    <tr>\n",
              "      <th>11199</th>\n",
              "      <td>-0.114793</td>\n",
              "      <td>2.307844</td>\n",
              "      <td>2.853960</td>\n",
              "      <td>5.231252</td>\n",
              "      <td>-2.617616</td>\n",
              "    </tr>\n",
              "  </tbody>\n",
              "</table>\n",
              "<p>11200 rows × 5 columns</p>\n",
              "</div>\n",
              "      <button class=\"colab-df-convert\" onclick=\"convertToInteractive('df-c4f6a064-e6ab-419d-90f5-68dc485b5d0e')\"\n",
              "              title=\"Convert this dataframe to an interactive table.\"\n",
              "              style=\"display:none;\">\n",
              "        \n",
              "  <svg xmlns=\"http://www.w3.org/2000/svg\" height=\"24px\"viewBox=\"0 0 24 24\"\n",
              "       width=\"24px\">\n",
              "    <path d=\"M0 0h24v24H0V0z\" fill=\"none\"/>\n",
              "    <path d=\"M18.56 5.44l.94 2.06.94-2.06 2.06-.94-2.06-.94-.94-2.06-.94 2.06-2.06.94zm-11 1L8.5 8.5l.94-2.06 2.06-.94-2.06-.94L8.5 2.5l-.94 2.06-2.06.94zm10 10l.94 2.06.94-2.06 2.06-.94-2.06-.94-.94-2.06-.94 2.06-2.06.94z\"/><path d=\"M17.41 7.96l-1.37-1.37c-.4-.4-.92-.59-1.43-.59-.52 0-1.04.2-1.43.59L10.3 9.45l-7.72 7.72c-.78.78-.78 2.05 0 2.83L4 21.41c.39.39.9.59 1.41.59.51 0 1.02-.2 1.41-.59l7.78-7.78 2.81-2.81c.8-.78.8-2.07 0-2.86zM5.41 20L4 18.59l7.72-7.72 1.47 1.35L5.41 20z\"/>\n",
              "  </svg>\n",
              "      </button>\n",
              "      \n",
              "  <style>\n",
              "    .colab-df-container {\n",
              "      display:flex;\n",
              "      flex-wrap:wrap;\n",
              "      gap: 12px;\n",
              "    }\n",
              "\n",
              "    .colab-df-convert {\n",
              "      background-color: #E8F0FE;\n",
              "      border: none;\n",
              "      border-radius: 50%;\n",
              "      cursor: pointer;\n",
              "      display: none;\n",
              "      fill: #1967D2;\n",
              "      height: 32px;\n",
              "      padding: 0 0 0 0;\n",
              "      width: 32px;\n",
              "    }\n",
              "\n",
              "    .colab-df-convert:hover {\n",
              "      background-color: #E2EBFA;\n",
              "      box-shadow: 0px 1px 2px rgba(60, 64, 67, 0.3), 0px 1px 3px 1px rgba(60, 64, 67, 0.15);\n",
              "      fill: #174EA6;\n",
              "    }\n",
              "\n",
              "    [theme=dark] .colab-df-convert {\n",
              "      background-color: #3B4455;\n",
              "      fill: #D2E3FC;\n",
              "    }\n",
              "\n",
              "    [theme=dark] .colab-df-convert:hover {\n",
              "      background-color: #434B5C;\n",
              "      box-shadow: 0px 1px 3px 1px rgba(0, 0, 0, 0.15);\n",
              "      filter: drop-shadow(0px 1px 2px rgba(0, 0, 0, 0.3));\n",
              "      fill: #FFFFFF;\n",
              "    }\n",
              "  </style>\n",
              "\n",
              "      <script>\n",
              "        const buttonEl =\n",
              "          document.querySelector('#df-c4f6a064-e6ab-419d-90f5-68dc485b5d0e button.colab-df-convert');\n",
              "        buttonEl.style.display =\n",
              "          google.colab.kernel.accessAllowed ? 'block' : 'none';\n",
              "\n",
              "        async function convertToInteractive(key) {\n",
              "          const element = document.querySelector('#df-c4f6a064-e6ab-419d-90f5-68dc485b5d0e');\n",
              "          const dataTable =\n",
              "            await google.colab.kernel.invokeFunction('convertToInteractive',\n",
              "                                                     [key], {});\n",
              "          if (!dataTable) return;\n",
              "\n",
              "          const docLinkHtml = 'Like what you see? Visit the ' +\n",
              "            '<a target=\"_blank\" href=https://colab.research.google.com/notebooks/data_table.ipynb>data table notebook</a>'\n",
              "            + ' to learn more about interactive tables.';\n",
              "          element.innerHTML = '';\n",
              "          dataTable['output_type'] = 'display_data';\n",
              "          await google.colab.output.renderOutput(dataTable, element);\n",
              "          const docLink = document.createElement('div');\n",
              "          docLink.innerHTML = docLinkHtml;\n",
              "          element.appendChild(docLink);\n",
              "        }\n",
              "      </script>\n",
              "    </div>\n",
              "  </div>\n",
              "  "
            ]
          },
          "metadata": {},
          "execution_count": 22
        }
      ]
    },
    {
      "cell_type": "code",
      "source": [
        "X_test_0 = X_test_0[['X1', 'X2', 'X3', 'X4', 'X5']]\n",
        "X_test_0"
      ],
      "metadata": {
        "id": "dJZBRMLB4ueT",
        "outputId": "1b27f53f-3172-4ea0-abdc-8e599c475a94",
        "colab": {
          "base_uri": "https://localhost:8080/",
          "height": 455
        }
      },
      "execution_count": 23,
      "outputs": [
        {
          "output_type": "execute_result",
          "data": {
            "text/plain": [
              "             X1        X2        X3        X4         X5\n",
              "ID                                                      \n",
              "11200 -0.214679  3.356129  4.749172  5.709250   1.351358\n",
              "11201 -1.192837  0.957475 -0.430136 -2.751596   6.960146\n",
              "11202  0.450306 -0.061307  0.284349  2.194250  -3.470744\n",
              "11203  0.169981  0.180298  5.055600  3.872075   7.453231\n",
              "11204  0.223090 -0.213792  4.367535  4.579829   6.908846\n",
              "...         ...       ...       ...       ...        ...\n",
              "13995 -0.074522 -0.472044 -2.860659 -1.266230 -10.229167\n",
              "13996  1.730118  3.177408  0.816198  1.136877  -1.588960\n",
              "13997  2.093028  4.108092  1.056253  8.163642   8.916299\n",
              "13998  1.483381 -1.602078 -2.851078 -2.639386  -4.805661\n",
              "13999 -1.305992  1.129081 -0.223061  0.248722   1.326936\n",
              "\n",
              "[2800 rows x 5 columns]"
            ],
            "text/html": [
              "\n",
              "  <div id=\"df-ceb36517-75d4-469b-8790-a040994252ef\">\n",
              "    <div class=\"colab-df-container\">\n",
              "      <div>\n",
              "<style scoped>\n",
              "    .dataframe tbody tr th:only-of-type {\n",
              "        vertical-align: middle;\n",
              "    }\n",
              "\n",
              "    .dataframe tbody tr th {\n",
              "        vertical-align: top;\n",
              "    }\n",
              "\n",
              "    .dataframe thead th {\n",
              "        text-align: right;\n",
              "    }\n",
              "</style>\n",
              "<table border=\"1\" class=\"dataframe\">\n",
              "  <thead>\n",
              "    <tr style=\"text-align: right;\">\n",
              "      <th></th>\n",
              "      <th>X1</th>\n",
              "      <th>X2</th>\n",
              "      <th>X3</th>\n",
              "      <th>X4</th>\n",
              "      <th>X5</th>\n",
              "    </tr>\n",
              "    <tr>\n",
              "      <th>ID</th>\n",
              "      <th></th>\n",
              "      <th></th>\n",
              "      <th></th>\n",
              "      <th></th>\n",
              "      <th></th>\n",
              "    </tr>\n",
              "  </thead>\n",
              "  <tbody>\n",
              "    <tr>\n",
              "      <th>11200</th>\n",
              "      <td>-0.214679</td>\n",
              "      <td>3.356129</td>\n",
              "      <td>4.749172</td>\n",
              "      <td>5.709250</td>\n",
              "      <td>1.351358</td>\n",
              "    </tr>\n",
              "    <tr>\n",
              "      <th>11201</th>\n",
              "      <td>-1.192837</td>\n",
              "      <td>0.957475</td>\n",
              "      <td>-0.430136</td>\n",
              "      <td>-2.751596</td>\n",
              "      <td>6.960146</td>\n",
              "    </tr>\n",
              "    <tr>\n",
              "      <th>11202</th>\n",
              "      <td>0.450306</td>\n",
              "      <td>-0.061307</td>\n",
              "      <td>0.284349</td>\n",
              "      <td>2.194250</td>\n",
              "      <td>-3.470744</td>\n",
              "    </tr>\n",
              "    <tr>\n",
              "      <th>11203</th>\n",
              "      <td>0.169981</td>\n",
              "      <td>0.180298</td>\n",
              "      <td>5.055600</td>\n",
              "      <td>3.872075</td>\n",
              "      <td>7.453231</td>\n",
              "    </tr>\n",
              "    <tr>\n",
              "      <th>11204</th>\n",
              "      <td>0.223090</td>\n",
              "      <td>-0.213792</td>\n",
              "      <td>4.367535</td>\n",
              "      <td>4.579829</td>\n",
              "      <td>6.908846</td>\n",
              "    </tr>\n",
              "    <tr>\n",
              "      <th>...</th>\n",
              "      <td>...</td>\n",
              "      <td>...</td>\n",
              "      <td>...</td>\n",
              "      <td>...</td>\n",
              "      <td>...</td>\n",
              "    </tr>\n",
              "    <tr>\n",
              "      <th>13995</th>\n",
              "      <td>-0.074522</td>\n",
              "      <td>-0.472044</td>\n",
              "      <td>-2.860659</td>\n",
              "      <td>-1.266230</td>\n",
              "      <td>-10.229167</td>\n",
              "    </tr>\n",
              "    <tr>\n",
              "      <th>13996</th>\n",
              "      <td>1.730118</td>\n",
              "      <td>3.177408</td>\n",
              "      <td>0.816198</td>\n",
              "      <td>1.136877</td>\n",
              "      <td>-1.588960</td>\n",
              "    </tr>\n",
              "    <tr>\n",
              "      <th>13997</th>\n",
              "      <td>2.093028</td>\n",
              "      <td>4.108092</td>\n",
              "      <td>1.056253</td>\n",
              "      <td>8.163642</td>\n",
              "      <td>8.916299</td>\n",
              "    </tr>\n",
              "    <tr>\n",
              "      <th>13998</th>\n",
              "      <td>1.483381</td>\n",
              "      <td>-1.602078</td>\n",
              "      <td>-2.851078</td>\n",
              "      <td>-2.639386</td>\n",
              "      <td>-4.805661</td>\n",
              "    </tr>\n",
              "    <tr>\n",
              "      <th>13999</th>\n",
              "      <td>-1.305992</td>\n",
              "      <td>1.129081</td>\n",
              "      <td>-0.223061</td>\n",
              "      <td>0.248722</td>\n",
              "      <td>1.326936</td>\n",
              "    </tr>\n",
              "  </tbody>\n",
              "</table>\n",
              "<p>2800 rows × 5 columns</p>\n",
              "</div>\n",
              "      <button class=\"colab-df-convert\" onclick=\"convertToInteractive('df-ceb36517-75d4-469b-8790-a040994252ef')\"\n",
              "              title=\"Convert this dataframe to an interactive table.\"\n",
              "              style=\"display:none;\">\n",
              "        \n",
              "  <svg xmlns=\"http://www.w3.org/2000/svg\" height=\"24px\"viewBox=\"0 0 24 24\"\n",
              "       width=\"24px\">\n",
              "    <path d=\"M0 0h24v24H0V0z\" fill=\"none\"/>\n",
              "    <path d=\"M18.56 5.44l.94 2.06.94-2.06 2.06-.94-2.06-.94-.94-2.06-.94 2.06-2.06.94zm-11 1L8.5 8.5l.94-2.06 2.06-.94-2.06-.94L8.5 2.5l-.94 2.06-2.06.94zm10 10l.94 2.06.94-2.06 2.06-.94-2.06-.94-.94-2.06-.94 2.06-2.06.94z\"/><path d=\"M17.41 7.96l-1.37-1.37c-.4-.4-.92-.59-1.43-.59-.52 0-1.04.2-1.43.59L10.3 9.45l-7.72 7.72c-.78.78-.78 2.05 0 2.83L4 21.41c.39.39.9.59 1.41.59.51 0 1.02-.2 1.41-.59l7.78-7.78 2.81-2.81c.8-.78.8-2.07 0-2.86zM5.41 20L4 18.59l7.72-7.72 1.47 1.35L5.41 20z\"/>\n",
              "  </svg>\n",
              "      </button>\n",
              "      \n",
              "  <style>\n",
              "    .colab-df-container {\n",
              "      display:flex;\n",
              "      flex-wrap:wrap;\n",
              "      gap: 12px;\n",
              "    }\n",
              "\n",
              "    .colab-df-convert {\n",
              "      background-color: #E8F0FE;\n",
              "      border: none;\n",
              "      border-radius: 50%;\n",
              "      cursor: pointer;\n",
              "      display: none;\n",
              "      fill: #1967D2;\n",
              "      height: 32px;\n",
              "      padding: 0 0 0 0;\n",
              "      width: 32px;\n",
              "    }\n",
              "\n",
              "    .colab-df-convert:hover {\n",
              "      background-color: #E2EBFA;\n",
              "      box-shadow: 0px 1px 2px rgba(60, 64, 67, 0.3), 0px 1px 3px 1px rgba(60, 64, 67, 0.15);\n",
              "      fill: #174EA6;\n",
              "    }\n",
              "\n",
              "    [theme=dark] .colab-df-convert {\n",
              "      background-color: #3B4455;\n",
              "      fill: #D2E3FC;\n",
              "    }\n",
              "\n",
              "    [theme=dark] .colab-df-convert:hover {\n",
              "      background-color: #434B5C;\n",
              "      box-shadow: 0px 1px 3px 1px rgba(0, 0, 0, 0.15);\n",
              "      filter: drop-shadow(0px 1px 2px rgba(0, 0, 0, 0.3));\n",
              "      fill: #FFFFFF;\n",
              "    }\n",
              "  </style>\n",
              "\n",
              "      <script>\n",
              "        const buttonEl =\n",
              "          document.querySelector('#df-ceb36517-75d4-469b-8790-a040994252ef button.colab-df-convert');\n",
              "        buttonEl.style.display =\n",
              "          google.colab.kernel.accessAllowed ? 'block' : 'none';\n",
              "\n",
              "        async function convertToInteractive(key) {\n",
              "          const element = document.querySelector('#df-ceb36517-75d4-469b-8790-a040994252ef');\n",
              "          const dataTable =\n",
              "            await google.colab.kernel.invokeFunction('convertToInteractive',\n",
              "                                                     [key], {});\n",
              "          if (!dataTable) return;\n",
              "\n",
              "          const docLinkHtml = 'Like what you see? Visit the ' +\n",
              "            '<a target=\"_blank\" href=https://colab.research.google.com/notebooks/data_table.ipynb>data table notebook</a>'\n",
              "            + ' to learn more about interactive tables.';\n",
              "          element.innerHTML = '';\n",
              "          dataTable['output_type'] = 'display_data';\n",
              "          await google.colab.output.renderOutput(dataTable, element);\n",
              "          const docLink = document.createElement('div');\n",
              "          docLink.innerHTML = docLinkHtml;\n",
              "          element.appendChild(docLink);\n",
              "        }\n",
              "      </script>\n",
              "    </div>\n",
              "  </div>\n",
              "  "
            ]
          },
          "metadata": {},
          "execution_count": 23
        }
      ]
    },
    {
      "cell_type": "code",
      "source": [
        "y_train_0"
      ],
      "metadata": {
        "id": "o_7JNo-aII09",
        "outputId": "264b498c-e635-4d6e-bc39-7913db5d44de",
        "colab": {
          "base_uri": "https://localhost:8080/",
          "height": 455
        }
      },
      "execution_count": 24,
      "outputs": [
        {
          "output_type": "execute_result",
          "data": {
            "text/plain": [
              "       Target -1  Target 0  Target 1\n",
              "ID                                  \n",
              "0              0         0         1\n",
              "1              1         0         0\n",
              "2              0         0         1\n",
              "3              1         0         0\n",
              "4              0         1         0\n",
              "...          ...       ...       ...\n",
              "11195          1         0         0\n",
              "11196          1         0         0\n",
              "11197          0         1         0\n",
              "11198          1         0         0\n",
              "11199          0         0         1\n",
              "\n",
              "[11200 rows x 3 columns]"
            ],
            "text/html": [
              "\n",
              "  <div id=\"df-bc43ac13-b3b0-4722-afa4-0fec2621ec9a\">\n",
              "    <div class=\"colab-df-container\">\n",
              "      <div>\n",
              "<style scoped>\n",
              "    .dataframe tbody tr th:only-of-type {\n",
              "        vertical-align: middle;\n",
              "    }\n",
              "\n",
              "    .dataframe tbody tr th {\n",
              "        vertical-align: top;\n",
              "    }\n",
              "\n",
              "    .dataframe thead th {\n",
              "        text-align: right;\n",
              "    }\n",
              "</style>\n",
              "<table border=\"1\" class=\"dataframe\">\n",
              "  <thead>\n",
              "    <tr style=\"text-align: right;\">\n",
              "      <th></th>\n",
              "      <th>Target -1</th>\n",
              "      <th>Target 0</th>\n",
              "      <th>Target 1</th>\n",
              "    </tr>\n",
              "    <tr>\n",
              "      <th>ID</th>\n",
              "      <th></th>\n",
              "      <th></th>\n",
              "      <th></th>\n",
              "    </tr>\n",
              "  </thead>\n",
              "  <tbody>\n",
              "    <tr>\n",
              "      <th>0</th>\n",
              "      <td>0</td>\n",
              "      <td>0</td>\n",
              "      <td>1</td>\n",
              "    </tr>\n",
              "    <tr>\n",
              "      <th>1</th>\n",
              "      <td>1</td>\n",
              "      <td>0</td>\n",
              "      <td>0</td>\n",
              "    </tr>\n",
              "    <tr>\n",
              "      <th>2</th>\n",
              "      <td>0</td>\n",
              "      <td>0</td>\n",
              "      <td>1</td>\n",
              "    </tr>\n",
              "    <tr>\n",
              "      <th>3</th>\n",
              "      <td>1</td>\n",
              "      <td>0</td>\n",
              "      <td>0</td>\n",
              "    </tr>\n",
              "    <tr>\n",
              "      <th>4</th>\n",
              "      <td>0</td>\n",
              "      <td>1</td>\n",
              "      <td>0</td>\n",
              "    </tr>\n",
              "    <tr>\n",
              "      <th>...</th>\n",
              "      <td>...</td>\n",
              "      <td>...</td>\n",
              "      <td>...</td>\n",
              "    </tr>\n",
              "    <tr>\n",
              "      <th>11195</th>\n",
              "      <td>1</td>\n",
              "      <td>0</td>\n",
              "      <td>0</td>\n",
              "    </tr>\n",
              "    <tr>\n",
              "      <th>11196</th>\n",
              "      <td>1</td>\n",
              "      <td>0</td>\n",
              "      <td>0</td>\n",
              "    </tr>\n",
              "    <tr>\n",
              "      <th>11197</th>\n",
              "      <td>0</td>\n",
              "      <td>1</td>\n",
              "      <td>0</td>\n",
              "    </tr>\n",
              "    <tr>\n",
              "      <th>11198</th>\n",
              "      <td>1</td>\n",
              "      <td>0</td>\n",
              "      <td>0</td>\n",
              "    </tr>\n",
              "    <tr>\n",
              "      <th>11199</th>\n",
              "      <td>0</td>\n",
              "      <td>0</td>\n",
              "      <td>1</td>\n",
              "    </tr>\n",
              "  </tbody>\n",
              "</table>\n",
              "<p>11200 rows × 3 columns</p>\n",
              "</div>\n",
              "      <button class=\"colab-df-convert\" onclick=\"convertToInteractive('df-bc43ac13-b3b0-4722-afa4-0fec2621ec9a')\"\n",
              "              title=\"Convert this dataframe to an interactive table.\"\n",
              "              style=\"display:none;\">\n",
              "        \n",
              "  <svg xmlns=\"http://www.w3.org/2000/svg\" height=\"24px\"viewBox=\"0 0 24 24\"\n",
              "       width=\"24px\">\n",
              "    <path d=\"M0 0h24v24H0V0z\" fill=\"none\"/>\n",
              "    <path d=\"M18.56 5.44l.94 2.06.94-2.06 2.06-.94-2.06-.94-.94-2.06-.94 2.06-2.06.94zm-11 1L8.5 8.5l.94-2.06 2.06-.94-2.06-.94L8.5 2.5l-.94 2.06-2.06.94zm10 10l.94 2.06.94-2.06 2.06-.94-2.06-.94-.94-2.06-.94 2.06-2.06.94z\"/><path d=\"M17.41 7.96l-1.37-1.37c-.4-.4-.92-.59-1.43-.59-.52 0-1.04.2-1.43.59L10.3 9.45l-7.72 7.72c-.78.78-.78 2.05 0 2.83L4 21.41c.39.39.9.59 1.41.59.51 0 1.02-.2 1.41-.59l7.78-7.78 2.81-2.81c.8-.78.8-2.07 0-2.86zM5.41 20L4 18.59l7.72-7.72 1.47 1.35L5.41 20z\"/>\n",
              "  </svg>\n",
              "      </button>\n",
              "      \n",
              "  <style>\n",
              "    .colab-df-container {\n",
              "      display:flex;\n",
              "      flex-wrap:wrap;\n",
              "      gap: 12px;\n",
              "    }\n",
              "\n",
              "    .colab-df-convert {\n",
              "      background-color: #E8F0FE;\n",
              "      border: none;\n",
              "      border-radius: 50%;\n",
              "      cursor: pointer;\n",
              "      display: none;\n",
              "      fill: #1967D2;\n",
              "      height: 32px;\n",
              "      padding: 0 0 0 0;\n",
              "      width: 32px;\n",
              "    }\n",
              "\n",
              "    .colab-df-convert:hover {\n",
              "      background-color: #E2EBFA;\n",
              "      box-shadow: 0px 1px 2px rgba(60, 64, 67, 0.3), 0px 1px 3px 1px rgba(60, 64, 67, 0.15);\n",
              "      fill: #174EA6;\n",
              "    }\n",
              "\n",
              "    [theme=dark] .colab-df-convert {\n",
              "      background-color: #3B4455;\n",
              "      fill: #D2E3FC;\n",
              "    }\n",
              "\n",
              "    [theme=dark] .colab-df-convert:hover {\n",
              "      background-color: #434B5C;\n",
              "      box-shadow: 0px 1px 3px 1px rgba(0, 0, 0, 0.15);\n",
              "      filter: drop-shadow(0px 1px 2px rgba(0, 0, 0, 0.3));\n",
              "      fill: #FFFFFF;\n",
              "    }\n",
              "  </style>\n",
              "\n",
              "      <script>\n",
              "        const buttonEl =\n",
              "          document.querySelector('#df-bc43ac13-b3b0-4722-afa4-0fec2621ec9a button.colab-df-convert');\n",
              "        buttonEl.style.display =\n",
              "          google.colab.kernel.accessAllowed ? 'block' : 'none';\n",
              "\n",
              "        async function convertToInteractive(key) {\n",
              "          const element = document.querySelector('#df-bc43ac13-b3b0-4722-afa4-0fec2621ec9a');\n",
              "          const dataTable =\n",
              "            await google.colab.kernel.invokeFunction('convertToInteractive',\n",
              "                                                     [key], {});\n",
              "          if (!dataTable) return;\n",
              "\n",
              "          const docLinkHtml = 'Like what you see? Visit the ' +\n",
              "            '<a target=\"_blank\" href=https://colab.research.google.com/notebooks/data_table.ipynb>data table notebook</a>'\n",
              "            + ' to learn more about interactive tables.';\n",
              "          element.innerHTML = '';\n",
              "          dataTable['output_type'] = 'display_data';\n",
              "          await google.colab.output.renderOutput(dataTable, element);\n",
              "          const docLink = document.createElement('div');\n",
              "          docLink.innerHTML = docLinkHtml;\n",
              "          element.appendChild(docLink);\n",
              "        }\n",
              "      </script>\n",
              "    </div>\n",
              "  </div>\n",
              "  "
            ]
          },
          "metadata": {},
          "execution_count": 24
        }
      ]
    },
    {
      "cell_type": "code",
      "source": [
        "y_train_0 = y_train_0.idxmax(axis=1)\n",
        "y_train_0"
      ],
      "metadata": {
        "id": "0AOe0xet4bSg",
        "outputId": "bd983106-3408-406c-d5ee-6c7a96821321",
        "colab": {
          "base_uri": "https://localhost:8080/"
        }
      },
      "execution_count": 25,
      "outputs": [
        {
          "output_type": "execute_result",
          "data": {
            "text/plain": [
              "ID\n",
              "0         Target 1\n",
              "1        Target -1\n",
              "2         Target 1\n",
              "3        Target -1\n",
              "4         Target 0\n",
              "           ...    \n",
              "11195    Target -1\n",
              "11196    Target -1\n",
              "11197     Target 0\n",
              "11198    Target -1\n",
              "11199     Target 1\n",
              "Length: 11200, dtype: object"
            ]
          },
          "metadata": {},
          "execution_count": 25
        }
      ]
    },
    {
      "cell_type": "code",
      "source": [
        "y_test_0 = y_test_0.idxmax(axis=1)\n",
        "y_test_0"
      ],
      "metadata": {
        "id": "baOggV1r42-s",
        "outputId": "28ac31c0-f99e-4dce-e2fe-4c7aafa21b2d",
        "colab": {
          "base_uri": "https://localhost:8080/"
        }
      },
      "execution_count": 26,
      "outputs": [
        {
          "output_type": "execute_result",
          "data": {
            "text/plain": [
              "ID\n",
              "11200    Target 1\n",
              "11201    Target 1\n",
              "11202    Target 0\n",
              "11203    Target 0\n",
              "11204    Target 0\n",
              "           ...   \n",
              "13995    Target 1\n",
              "13996    Target 0\n",
              "13997    Target 0\n",
              "13998    Target 1\n",
              "13999    Target 0\n",
              "Length: 2800, dtype: object"
            ]
          },
          "metadata": {},
          "execution_count": 26
        }
      ]
    },
    {
      "cell_type": "code",
      "source": [
        "model_0 = LogisticRegression(multi_class='multinomial', random_state=1)"
      ],
      "metadata": {
        "id": "RCCmUlbR1yPx"
      },
      "execution_count": 27,
      "outputs": []
    },
    {
      "cell_type": "code",
      "source": [
        "model_0"
      ],
      "metadata": {
        "id": "AX6I3YOnOA1E",
        "outputId": "56e89155-1039-40fb-8856-3ccf1bafdf34",
        "colab": {
          "base_uri": "https://localhost:8080/",
          "height": 75
        }
      },
      "execution_count": 28,
      "outputs": [
        {
          "output_type": "execute_result",
          "data": {
            "text/plain": [
              "LogisticRegression(multi_class='multinomial', random_state=1)"
            ],
            "text/html": [
              "<style>#sk-container-id-1 {color: black;background-color: white;}#sk-container-id-1 pre{padding: 0;}#sk-container-id-1 div.sk-toggleable {background-color: white;}#sk-container-id-1 label.sk-toggleable__label {cursor: pointer;display: block;width: 100%;margin-bottom: 0;padding: 0.3em;box-sizing: border-box;text-align: center;}#sk-container-id-1 label.sk-toggleable__label-arrow:before {content: \"▸\";float: left;margin-right: 0.25em;color: #696969;}#sk-container-id-1 label.sk-toggleable__label-arrow:hover:before {color: black;}#sk-container-id-1 div.sk-estimator:hover label.sk-toggleable__label-arrow:before {color: black;}#sk-container-id-1 div.sk-toggleable__content {max-height: 0;max-width: 0;overflow: hidden;text-align: left;background-color: #f0f8ff;}#sk-container-id-1 div.sk-toggleable__content pre {margin: 0.2em;color: black;border-radius: 0.25em;background-color: #f0f8ff;}#sk-container-id-1 input.sk-toggleable__control:checked~div.sk-toggleable__content {max-height: 200px;max-width: 100%;overflow: auto;}#sk-container-id-1 input.sk-toggleable__control:checked~label.sk-toggleable__label-arrow:before {content: \"▾\";}#sk-container-id-1 div.sk-estimator input.sk-toggleable__control:checked~label.sk-toggleable__label {background-color: #d4ebff;}#sk-container-id-1 div.sk-label input.sk-toggleable__control:checked~label.sk-toggleable__label {background-color: #d4ebff;}#sk-container-id-1 input.sk-hidden--visually {border: 0;clip: rect(1px 1px 1px 1px);clip: rect(1px, 1px, 1px, 1px);height: 1px;margin: -1px;overflow: hidden;padding: 0;position: absolute;width: 1px;}#sk-container-id-1 div.sk-estimator {font-family: monospace;background-color: #f0f8ff;border: 1px dotted black;border-radius: 0.25em;box-sizing: border-box;margin-bottom: 0.5em;}#sk-container-id-1 div.sk-estimator:hover {background-color: #d4ebff;}#sk-container-id-1 div.sk-parallel-item::after {content: \"\";width: 100%;border-bottom: 1px solid gray;flex-grow: 1;}#sk-container-id-1 div.sk-label:hover label.sk-toggleable__label {background-color: #d4ebff;}#sk-container-id-1 div.sk-serial::before {content: \"\";position: absolute;border-left: 1px solid gray;box-sizing: border-box;top: 0;bottom: 0;left: 50%;z-index: 0;}#sk-container-id-1 div.sk-serial {display: flex;flex-direction: column;align-items: center;background-color: white;padding-right: 0.2em;padding-left: 0.2em;position: relative;}#sk-container-id-1 div.sk-item {position: relative;z-index: 1;}#sk-container-id-1 div.sk-parallel {display: flex;align-items: stretch;justify-content: center;background-color: white;position: relative;}#sk-container-id-1 div.sk-item::before, #sk-container-id-1 div.sk-parallel-item::before {content: \"\";position: absolute;border-left: 1px solid gray;box-sizing: border-box;top: 0;bottom: 0;left: 50%;z-index: -1;}#sk-container-id-1 div.sk-parallel-item {display: flex;flex-direction: column;z-index: 1;position: relative;background-color: white;}#sk-container-id-1 div.sk-parallel-item:first-child::after {align-self: flex-end;width: 50%;}#sk-container-id-1 div.sk-parallel-item:last-child::after {align-self: flex-start;width: 50%;}#sk-container-id-1 div.sk-parallel-item:only-child::after {width: 0;}#sk-container-id-1 div.sk-dashed-wrapped {border: 1px dashed gray;margin: 0 0.4em 0.5em 0.4em;box-sizing: border-box;padding-bottom: 0.4em;background-color: white;}#sk-container-id-1 div.sk-label label {font-family: monospace;font-weight: bold;display: inline-block;line-height: 1.2em;}#sk-container-id-1 div.sk-label-container {text-align: center;}#sk-container-id-1 div.sk-container {/* jupyter's `normalize.less` sets `[hidden] { display: none; }` but bootstrap.min.css set `[hidden] { display: none !important; }` so we also need the `!important` here to be able to override the default hidden behavior on the sphinx rendered scikit-learn.org. See: https://github.com/scikit-learn/scikit-learn/issues/21755 */display: inline-block !important;position: relative;}#sk-container-id-1 div.sk-text-repr-fallback {display: none;}</style><div id=\"sk-container-id-1\" class=\"sk-top-container\"><div class=\"sk-text-repr-fallback\"><pre>LogisticRegression(multi_class=&#x27;multinomial&#x27;, random_state=1)</pre><b>In a Jupyter environment, please rerun this cell to show the HTML representation or trust the notebook. <br />On GitHub, the HTML representation is unable to render, please try loading this page with nbviewer.org.</b></div><div class=\"sk-container\" hidden><div class=\"sk-item\"><div class=\"sk-estimator sk-toggleable\"><input class=\"sk-toggleable__control sk-hidden--visually\" id=\"sk-estimator-id-1\" type=\"checkbox\" checked><label for=\"sk-estimator-id-1\" class=\"sk-toggleable__label sk-toggleable__label-arrow\">LogisticRegression</label><div class=\"sk-toggleable__content\"><pre>LogisticRegression(multi_class=&#x27;multinomial&#x27;, random_state=1)</pre></div></div></div></div></div>"
            ]
          },
          "metadata": {},
          "execution_count": 28
        }
      ]
    },
    {
      "cell_type": "code",
      "source": [
        "model_0.fit(X_train_0, y_train_0 )"
      ],
      "metadata": {
        "id": "AHrjeE4N1yNd",
        "outputId": "42afc0bc-d4b8-456c-d07a-23ef9dcf21d3",
        "colab": {
          "base_uri": "https://localhost:8080/",
          "height": 75
        }
      },
      "execution_count": 29,
      "outputs": [
        {
          "output_type": "execute_result",
          "data": {
            "text/plain": [
              "LogisticRegression(multi_class='multinomial', random_state=1)"
            ],
            "text/html": [
              "<style>#sk-container-id-2 {color: black;background-color: white;}#sk-container-id-2 pre{padding: 0;}#sk-container-id-2 div.sk-toggleable {background-color: white;}#sk-container-id-2 label.sk-toggleable__label {cursor: pointer;display: block;width: 100%;margin-bottom: 0;padding: 0.3em;box-sizing: border-box;text-align: center;}#sk-container-id-2 label.sk-toggleable__label-arrow:before {content: \"▸\";float: left;margin-right: 0.25em;color: #696969;}#sk-container-id-2 label.sk-toggleable__label-arrow:hover:before {color: black;}#sk-container-id-2 div.sk-estimator:hover label.sk-toggleable__label-arrow:before {color: black;}#sk-container-id-2 div.sk-toggleable__content {max-height: 0;max-width: 0;overflow: hidden;text-align: left;background-color: #f0f8ff;}#sk-container-id-2 div.sk-toggleable__content pre {margin: 0.2em;color: black;border-radius: 0.25em;background-color: #f0f8ff;}#sk-container-id-2 input.sk-toggleable__control:checked~div.sk-toggleable__content {max-height: 200px;max-width: 100%;overflow: auto;}#sk-container-id-2 input.sk-toggleable__control:checked~label.sk-toggleable__label-arrow:before {content: \"▾\";}#sk-container-id-2 div.sk-estimator input.sk-toggleable__control:checked~label.sk-toggleable__label {background-color: #d4ebff;}#sk-container-id-2 div.sk-label input.sk-toggleable__control:checked~label.sk-toggleable__label {background-color: #d4ebff;}#sk-container-id-2 input.sk-hidden--visually {border: 0;clip: rect(1px 1px 1px 1px);clip: rect(1px, 1px, 1px, 1px);height: 1px;margin: -1px;overflow: hidden;padding: 0;position: absolute;width: 1px;}#sk-container-id-2 div.sk-estimator {font-family: monospace;background-color: #f0f8ff;border: 1px dotted black;border-radius: 0.25em;box-sizing: border-box;margin-bottom: 0.5em;}#sk-container-id-2 div.sk-estimator:hover {background-color: #d4ebff;}#sk-container-id-2 div.sk-parallel-item::after {content: \"\";width: 100%;border-bottom: 1px solid gray;flex-grow: 1;}#sk-container-id-2 div.sk-label:hover label.sk-toggleable__label {background-color: #d4ebff;}#sk-container-id-2 div.sk-serial::before {content: \"\";position: absolute;border-left: 1px solid gray;box-sizing: border-box;top: 0;bottom: 0;left: 50%;z-index: 0;}#sk-container-id-2 div.sk-serial {display: flex;flex-direction: column;align-items: center;background-color: white;padding-right: 0.2em;padding-left: 0.2em;position: relative;}#sk-container-id-2 div.sk-item {position: relative;z-index: 1;}#sk-container-id-2 div.sk-parallel {display: flex;align-items: stretch;justify-content: center;background-color: white;position: relative;}#sk-container-id-2 div.sk-item::before, #sk-container-id-2 div.sk-parallel-item::before {content: \"\";position: absolute;border-left: 1px solid gray;box-sizing: border-box;top: 0;bottom: 0;left: 50%;z-index: -1;}#sk-container-id-2 div.sk-parallel-item {display: flex;flex-direction: column;z-index: 1;position: relative;background-color: white;}#sk-container-id-2 div.sk-parallel-item:first-child::after {align-self: flex-end;width: 50%;}#sk-container-id-2 div.sk-parallel-item:last-child::after {align-self: flex-start;width: 50%;}#sk-container-id-2 div.sk-parallel-item:only-child::after {width: 0;}#sk-container-id-2 div.sk-dashed-wrapped {border: 1px dashed gray;margin: 0 0.4em 0.5em 0.4em;box-sizing: border-box;padding-bottom: 0.4em;background-color: white;}#sk-container-id-2 div.sk-label label {font-family: monospace;font-weight: bold;display: inline-block;line-height: 1.2em;}#sk-container-id-2 div.sk-label-container {text-align: center;}#sk-container-id-2 div.sk-container {/* jupyter's `normalize.less` sets `[hidden] { display: none; }` but bootstrap.min.css set `[hidden] { display: none !important; }` so we also need the `!important` here to be able to override the default hidden behavior on the sphinx rendered scikit-learn.org. See: https://github.com/scikit-learn/scikit-learn/issues/21755 */display: inline-block !important;position: relative;}#sk-container-id-2 div.sk-text-repr-fallback {display: none;}</style><div id=\"sk-container-id-2\" class=\"sk-top-container\"><div class=\"sk-text-repr-fallback\"><pre>LogisticRegression(multi_class=&#x27;multinomial&#x27;, random_state=1)</pre><b>In a Jupyter environment, please rerun this cell to show the HTML representation or trust the notebook. <br />On GitHub, the HTML representation is unable to render, please try loading this page with nbviewer.org.</b></div><div class=\"sk-container\" hidden><div class=\"sk-item\"><div class=\"sk-estimator sk-toggleable\"><input class=\"sk-toggleable__control sk-hidden--visually\" id=\"sk-estimator-id-2\" type=\"checkbox\" checked><label for=\"sk-estimator-id-2\" class=\"sk-toggleable__label sk-toggleable__label-arrow\">LogisticRegression</label><div class=\"sk-toggleable__content\"><pre>LogisticRegression(multi_class=&#x27;multinomial&#x27;, random_state=1)</pre></div></div></div></div></div>"
            ]
          },
          "metadata": {},
          "execution_count": 29
        }
      ]
    },
    {
      "cell_type": "code",
      "source": [
        "y_pred_0 = model_0.predict(X_test_0)"
      ],
      "metadata": {
        "id": "O4q32k1J1yLJ"
      },
      "execution_count": 30,
      "outputs": []
    },
    {
      "cell_type": "code",
      "source": [
        "(y_pred_0 == y_test_0).sum() / len(y_pred_0)"
      ],
      "metadata": {
        "id": "dpulvfSw1yIu",
        "outputId": "6dc224e0-c2f2-4ce5-9526-39c58d402ea4",
        "colab": {
          "base_uri": "https://localhost:8080/"
        }
      },
      "execution_count": 31,
      "outputs": [
        {
          "output_type": "execute_result",
          "data": {
            "text/plain": [
              "0.3914285714285714"
            ]
          },
          "metadata": {},
          "execution_count": 31
        }
      ]
    },
    {
      "cell_type": "code",
      "source": [
        "from sklearn.metrics import classification_report\n",
        "print(classification_report(y_test_0, y_pred_0))"
      ],
      "metadata": {
        "id": "tlJD5hYd1yGU",
        "outputId": "d4a2419e-7027-4439-c18d-249274d9aec3",
        "colab": {
          "base_uri": "https://localhost:8080/"
        }
      },
      "execution_count": 32,
      "outputs": [
        {
          "output_type": "stream",
          "name": "stdout",
          "text": [
            "              precision    recall  f1-score   support\n",
            "\n",
            "   Target -1       0.40      0.26      0.32       869\n",
            "    Target 0       0.39      0.44      0.41       985\n",
            "    Target 1       0.39      0.46      0.42       946\n",
            "\n",
            "    accuracy                           0.39      2800\n",
            "   macro avg       0.39      0.39      0.38      2800\n",
            "weighted avg       0.39      0.39      0.39      2800\n",
            "\n"
          ]
        }
      ]
    },
    {
      "cell_type": "code",
      "source": [
        "from sklearn.metrics import ConfusionMatrixDisplay"
      ],
      "metadata": {
        "id": "1pOr7LWI1yDk"
      },
      "execution_count": 33,
      "outputs": []
    },
    {
      "cell_type": "code",
      "source": [
        "ConfusionMatrixDisplay.from_predictions(y_test_0, y_pred_0)"
      ],
      "metadata": {
        "id": "ZCFn_Ufu1x7m",
        "outputId": "8890a8e6-5e8b-4d43-edea-ed7a4aef3535",
        "colab": {
          "base_uri": "https://localhost:8080/",
          "height": 466
        }
      },
      "execution_count": 34,
      "outputs": [
        {
          "output_type": "execute_result",
          "data": {
            "text/plain": [
              "<sklearn.metrics._plot.confusion_matrix.ConfusionMatrixDisplay at 0x7f12d4809c00>"
            ]
          },
          "metadata": {},
          "execution_count": 34
        },
        {
          "output_type": "display_data",
          "data": {
            "text/plain": [
              "<Figure size 640x480 with 2 Axes>"
            ],
            "image/png": "[encoded data removed]"
          },
          "metadata": {}
        }
      ]
    },
    {
      "cell_type": "code",
      "source": [
        "from sklearn.metrics import log_loss"
      ],
      "metadata": {
        "id": "vFAcWW8vJxse"
      },
      "execution_count": 35,
      "outputs": []
    },
    {
      "cell_type": "code",
      "source": [
        "# Otra salida útil del modelo\n",
        "model_0.predict_proba(X_test_0)"
      ],
      "metadata": {
        "id": "IyKzDrQ5Kh4D",
        "outputId": "98f2ef67-2fe4-4ea5-ceff-7fda38192236",
        "colab": {
          "base_uri": "https://localhost:8080/"
        }
      },
      "execution_count": 36,
      "outputs": [
        {
          "output_type": "execute_result",
          "data": {
            "text/plain": [
              "array([[0.33511418, 0.36160748, 0.30327834],\n",
              "       [0.32165475, 0.32061938, 0.35772587],\n",
              "       [0.32411655, 0.35737579, 0.31850767],\n",
              "       ...,\n",
              "       [0.37148466, 0.34819785, 0.28031748],\n",
              "       [0.3457555 , 0.35425792, 0.29998658],\n",
              "       [0.31150756, 0.33277062, 0.35572182]])"
            ]
          },
          "metadata": {},
          "execution_count": 36
        }
      ]
    },
    {
      "cell_type": "code",
      "source": [
        "y_test_0"
      ],
      "metadata": {
        "id": "Q3iszsDTPFTr",
        "outputId": "83304cd3-d057-4cab-fcea-d589059195b5",
        "colab": {
          "base_uri": "https://localhost:8080/"
        }
      },
      "execution_count": 37,
      "outputs": [
        {
          "output_type": "execute_result",
          "data": {
            "text/plain": [
              "ID\n",
              "11200    Target 1\n",
              "11201    Target 1\n",
              "11202    Target 0\n",
              "11203    Target 0\n",
              "11204    Target 0\n",
              "           ...   \n",
              "13995    Target 1\n",
              "13996    Target 0\n",
              "13997    Target 0\n",
              "13998    Target 1\n",
              "13999    Target 0\n",
              "Length: 2800, dtype: object"
            ]
          },
          "metadata": {},
          "execution_count": 37
        }
      ]
    },
    {
      "cell_type": "code",
      "source": [
        "log_loss(y_test_0, model_0.predict_proba(X_test_0))"
      ],
      "metadata": {
        "id": "LaZDE91CJ1Yp",
        "outputId": "06b7ea15-5c53-4f37-f5ba-3ffec8857f47",
        "colab": {
          "base_uri": "https://localhost:8080/"
        }
      },
      "execution_count": 38,
      "outputs": [
        {
          "output_type": "execute_result",
          "data": {
            "text/plain": [
              "1.0933753077377295"
            ]
          },
          "metadata": {},
          "execution_count": 38
        }
      ]
    },
    {
      "cell_type": "markdown",
      "source": [
        "## Redes Neuronales"
      ],
      "metadata": {
        "id": "HtIZY1aI8il-"
      }
    },
    {
      "cell_type": "markdown",
      "source": [
        "#### Callbacks"
      ],
      "metadata": {
        "id": "uOph68NN8xcn"
      }
    },
    {
      "cell_type": "code",
      "source": [
        "# Los guarda en GoogleDrive, si no se quiere hacer la conexión, entonces cambiar la ruta o quitar el callback\n",
        "# checkpoint_cb = keras.callbacks.ModelCheckpoint(\n",
        "#     filepath = 'checkpoints', \n",
        "#     save_best_only = True\n",
        "# )\n",
        "\n",
        "earlystop_cb = keras.callbacks.EarlyStopping(\n",
        "    patience = 25, \n",
        "    restore_best_weights = True\n",
        ")"
      ],
      "metadata": {
        "id": "y43mqM-dMTXm"
      },
      "execution_count": 39,
      "outputs": []
    },
    {
      "cell_type": "markdown",
      "source": [
        "### Primera Aquitectura (Solo utilizando Caracteristicas de Bitcoin)"
      ],
      "metadata": {
        "id": "iSTqABok8o6W"
      }
    },
    {
      "cell_type": "markdown",
      "source": [
        "#### Aquitectura"
      ],
      "metadata": {
        "id": "qVpiKL0s84gj"
      }
    },
    {
      "cell_type": "code",
      "source": [
        "# Definicion de las capas\n",
        "price_input = layers.Input(shape = (len_prices, 1), name = 'price_input')\n",
        "price_normalization = layers.Normalization(name = 'price_normalization', axis = 1)\n",
        "price_lstm = layers.LSTM(32, name = 'price', \n",
        "                        # kernel_regularizer=keras.regularizers.l1_l2(l1 = 1e-1, l2 = 1e-1),\n",
        "                         return_sequences=True, \n",
        "                         )\n",
        "\n",
        "price_lstm2 = layers.LSTM(16, name='price2')\n",
        "\n",
        "# Como se conectan las capas definidas arriba\n",
        "price_normalized = price_normalization(price_input)\n",
        "price_output = price_lstm(price_normalized)\n",
        "price_output2 = price_lstm2(price_output)\n",
        "\n",
        "# Como se conecta lo posterior\n",
        "prediction_layer = keras.models.Sequential(\n",
        "    [\n",
        "     layers.Dense(32, activation = 'relu'), \n",
        "     layers.Dense(32, activation = 'relu'), \n",
        "     layers.Dense(32, activation = 'relu'), \n",
        "     layers.Dense(3, activation = 'softmax')\n",
        "    ], \n",
        "    name = 'prediction'\n",
        ")\n",
        "prediction_output = prediction_layer(price_output2) \n"
      ],
      "metadata": {
        "id": "RoNA7N2J2kZo"
      },
      "execution_count": 40,
      "outputs": []
    },
    {
      "cell_type": "markdown",
      "source": [
        "#### Modelo"
      ],
      "metadata": {
        "id": "uSxbBiV09FId"
      }
    },
    {
      "cell_type": "code",
      "source": [
        "# Instanciación del objeto modelo\n",
        "model = keras.Model(price_input, prediction_output)\n",
        "\n",
        "model.compile(\n",
        "    loss = 'categorical_crossentropy'\n",
        ")\n",
        "\n",
        "model.summary()"
      ],
      "metadata": {
        "id": "sZwINhfBLOrp",
        "outputId": "cf70d000-900f-4f8a-c2fe-bd8df5ce54b7",
        "colab": {
          "base_uri": "https://localhost:8080/"
        }
      },
      "execution_count": 41,
      "outputs": [
        {
          "output_type": "stream",
          "name": "stdout",
          "text": [
            "Model: \"model\"\n",
            "_________________________________________________________________\n",
            " Layer (type)                Output Shape              Param #   \n",
            "=================================================================\n",
            " price_input (InputLayer)    [(None, 5, 1)]            0         \n",
            "                                                                 \n",
            " price_normalization (Normal  (None, 5, 1)             11        \n",
            " ization)                                                        \n",
            "                                                                 \n",
            " price (LSTM)                (None, 5, 32)             4352      \n",
            "                                                                 \n",
            " price2 (LSTM)               (None, 16)                3136      \n",
            "                                                                 \n",
            " prediction (Sequential)     (None, 3)                 2755      \n",
            "                                                                 \n",
            "=================================================================\n",
            "Total params: 10,254\n",
            "Trainable params: 10,243\n",
            "Non-trainable params: 11\n",
            "_________________________________________________________________\n"
          ]
        }
      ]
    },
    {
      "cell_type": "markdown",
      "source": [
        "##### Visualización"
      ],
      "metadata": {
        "id": "TZOU1FjI9G4E"
      }
    },
    {
      "cell_type": "code",
      "source": [
        "# Visualización del modelo\n",
        "keras.utils.plot_model( \n",
        "    model,\n",
        "    to_file=\"model.png\",\n",
        "    show_shapes=True,\n",
        "    show_dtype=False,\n",
        "    show_layer_names=True,\n",
        "    rankdir=\"TD\",\n",
        "    dpi=100,\n",
        ")"
      ],
      "metadata": {
        "id": "sJ-Ge0skLY0a",
        "outputId": "59ae3731-3e5c-4ac9-805f-461fce4c4eb5",
        "colab": {
          "base_uri": "https://localhost:8080/",
          "height": 555
        }
      },
      "execution_count": 42,
      "outputs": [
        {
          "output_type": "execute_result",
          "data": {
            "image/png": "[encoded data removed]",
            "text/plain": [
              "<IPython.core.display.Image object>"
            ]
          },
          "metadata": {},
          "execution_count": 42
        }
      ]
    },
    {
      "cell_type": "markdown",
      "source": [
        "#### Entrenamiento"
      ],
      "metadata": {
        "id": "Op_r0jcC9J24"
      }
    },
    {
      "cell_type": "code",
      "source": [
        "history = model.fit(\n",
        "    train_prices, y_train,\n",
        "    batch_size = 128,\n",
        "    epochs = 1000,  # Valor real de 1000 \n",
        "    callbacks = [earlystop_cb], \n",
        "    validation_data = [val_prices, y_val]\n",
        ").history"
      ],
      "metadata": {
        "id": "jkOOKs_pLosa",
        "outputId": "adae86c5-54f7-4b2c-98cd-7d1971bddb52",
        "colab": {
          "base_uri": "https://localhost:8080/"
        }
      },
      "execution_count": 43,
      "outputs": [
        {
          "output_type": "stream",
          "name": "stdout",
          "text": [
            "Epoch 1/1000\n",
            "66/66 [==============================] - 11s 20ms/step - loss: 1.0974 - val_loss: 1.0953\n",
            "Epoch 2/1000\n",
            "66/66 [==============================] - 0s 7ms/step - loss: 1.0939 - val_loss: 1.0892\n",
            "Epoch 3/1000\n",
            "66/66 [==============================] - 1s 8ms/step - loss: 1.0904 - val_loss: 1.0879\n",
            "Epoch 4/1000\n",
            "66/66 [==============================] - 0s 7ms/step - loss: 1.0901 - val_loss: 1.0846\n",
            "Epoch 5/1000\n",
            "66/66 [==============================] - 1s 9ms/step - loss: 1.0898 - val_loss: 1.0843\n",
            "Epoch 6/1000\n",
            "66/66 [==============================] - 0s 7ms/step - loss: 1.0889 - val_loss: 1.0866\n",
            "Epoch 7/1000\n",
            "66/66 [==============================] - 0s 7ms/step - loss: 1.0888 - val_loss: 1.0844\n",
            "Epoch 8/1000\n",
            "66/66 [==============================] - 0s 7ms/step - loss: 1.0881 - val_loss: 1.0849\n",
            "Epoch 9/1000\n",
            "66/66 [==============================] - 0s 7ms/step - loss: 1.0877 - val_loss: 1.0835\n",
            "Epoch 10/1000\n",
            "66/66 [==============================] - 0s 7ms/step - loss: 1.0879 - val_loss: 1.0830\n",
            "Epoch 11/1000\n",
            "66/66 [==============================] - 1s 10ms/step - loss: 1.0870 - val_loss: 1.0841\n",
            "Epoch 12/1000\n",
            "66/66 [==============================] - 1s 11ms/step - loss: 1.0869 - val_loss: 1.0840\n",
            "Epoch 13/1000\n",
            "66/66 [==============================] - 1s 11ms/step - loss: 1.0863 - val_loss: 1.0841\n",
            "Epoch 14/1000\n",
            "66/66 [==============================] - 1s 10ms/step - loss: 1.0856 - val_loss: 1.0827\n",
            "Epoch 15/1000\n",
            "66/66 [==============================] - 1s 9ms/step - loss: 1.0857 - val_loss: 1.0839\n",
            "Epoch 16/1000\n",
            "66/66 [==============================] - 1s 9ms/step - loss: 1.0861 - val_loss: 1.0836\n",
            "Epoch 17/1000\n",
            "66/66 [==============================] - 1s 8ms/step - loss: 1.0851 - val_loss: 1.0849\n",
            "Epoch 18/1000\n",
            "66/66 [==============================] - 0s 7ms/step - loss: 1.0857 - val_loss: 1.0853\n",
            "Epoch 19/1000\n",
            "66/66 [==============================] - 0s 7ms/step - loss: 1.0852 - val_loss: 1.0832\n",
            "Epoch 20/1000\n",
            "66/66 [==============================] - 0s 7ms/step - loss: 1.0850 - val_loss: 1.0826\n",
            "Epoch 21/1000\n",
            "66/66 [==============================] - 0s 7ms/step - loss: 1.0836 - val_loss: 1.0860\n",
            "Epoch 22/1000\n",
            "66/66 [==============================] - 0s 7ms/step - loss: 1.0847 - val_loss: 1.0836\n",
            "Epoch 23/1000\n",
            "66/66 [==============================] - 1s 8ms/step - loss: 1.0845 - val_loss: 1.0833\n",
            "Epoch 24/1000\n",
            "66/66 [==============================] - 0s 7ms/step - loss: 1.0841 - val_loss: 1.0826\n",
            "Epoch 25/1000\n",
            "66/66 [==============================] - 0s 7ms/step - loss: 1.0839 - val_loss: 1.0833\n",
            "Epoch 26/1000\n",
            "66/66 [==============================] - 0s 7ms/step - loss: 1.0840 - val_loss: 1.0824\n",
            "Epoch 27/1000\n",
            "66/66 [==============================] - 0s 7ms/step - loss: 1.0838 - val_loss: 1.0838\n",
            "Epoch 28/1000\n",
            "66/66 [==============================] - 0s 7ms/step - loss: 1.0835 - val_loss: 1.0852\n",
            "Epoch 29/1000\n",
            "66/66 [==============================] - 0s 7ms/step - loss: 1.0829 - val_loss: 1.0847\n",
            "Epoch 30/1000\n",
            "66/66 [==============================] - 0s 7ms/step - loss: 1.0827 - val_loss: 1.0855\n",
            "Epoch 31/1000\n",
            "66/66 [==============================] - 0s 8ms/step - loss: 1.0825 - val_loss: 1.0825\n",
            "Epoch 32/1000\n",
            "66/66 [==============================] - 0s 7ms/step - loss: 1.0816 - val_loss: 1.0862\n",
            "Epoch 33/1000\n",
            "66/66 [==============================] - 0s 7ms/step - loss: 1.0814 - val_loss: 1.0855\n",
            "Epoch 34/1000\n",
            "66/66 [==============================] - 0s 7ms/step - loss: 1.0817 - val_loss: 1.0852\n",
            "Epoch 35/1000\n",
            "66/66 [==============================] - 0s 7ms/step - loss: 1.0810 - val_loss: 1.0837\n",
            "Epoch 36/1000\n",
            "66/66 [==============================] - 1s 9ms/step - loss: 1.0817 - val_loss: 1.0843\n",
            "Epoch 37/1000\n",
            "66/66 [==============================] - 1s 10ms/step - loss: 1.0812 - val_loss: 1.0849\n",
            "Epoch 38/1000\n",
            "66/66 [==============================] - 1s 10ms/step - loss: 1.0807 - val_loss: 1.0827\n",
            "Epoch 39/1000\n",
            "66/66 [==============================] - 1s 11ms/step - loss: 1.0805 - val_loss: 1.0828\n",
            "Epoch 40/1000\n",
            "66/66 [==============================] - 1s 10ms/step - loss: 1.0806 - val_loss: 1.0839\n",
            "Epoch 41/1000\n",
            "66/66 [==============================] - 1s 10ms/step - loss: 1.0797 - val_loss: 1.0855\n",
            "Epoch 42/1000\n",
            "66/66 [==============================] - 1s 9ms/step - loss: 1.0799 - val_loss: 1.0823\n",
            "Epoch 43/1000\n",
            "66/66 [==============================] - 0s 7ms/step - loss: 1.0799 - val_loss: 1.0839\n",
            "Epoch 44/1000\n",
            "66/66 [==============================] - 0s 7ms/step - loss: 1.0797 - val_loss: 1.0850\n",
            "Epoch 45/1000\n",
            "66/66 [==============================] - 0s 7ms/step - loss: 1.0793 - val_loss: 1.0837\n",
            "Epoch 46/1000\n",
            "66/66 [==============================] - 0s 7ms/step - loss: 1.0789 - val_loss: 1.0842\n",
            "Epoch 47/1000\n",
            "66/66 [==============================] - 0s 7ms/step - loss: 1.0790 - val_loss: 1.0835\n",
            "Epoch 48/1000\n",
            "66/66 [==============================] - 0s 7ms/step - loss: 1.0789 - val_loss: 1.0841\n",
            "Epoch 49/1000\n",
            "66/66 [==============================] - 1s 8ms/step - loss: 1.0784 - val_loss: 1.0855\n",
            "Epoch 50/1000\n",
            "66/66 [==============================] - 1s 8ms/step - loss: 1.0788 - val_loss: 1.0849\n",
            "Epoch 51/1000\n",
            "66/66 [==============================] - 0s 7ms/step - loss: 1.0781 - val_loss: 1.0870\n",
            "Epoch 52/1000\n",
            "66/66 [==============================] - 0s 7ms/step - loss: 1.0778 - val_loss: 1.0848\n",
            "Epoch 53/1000\n",
            "66/66 [==============================] - 0s 8ms/step - loss: 1.0777 - val_loss: 1.0830\n",
            "Epoch 54/1000\n",
            "66/66 [==============================] - 1s 9ms/step - loss: 1.0778 - val_loss: 1.0843\n",
            "Epoch 55/1000\n",
            "66/66 [==============================] - 0s 7ms/step - loss: 1.0774 - val_loss: 1.0853\n",
            "Epoch 56/1000\n",
            "66/66 [==============================] - 0s 7ms/step - loss: 1.0768 - val_loss: 1.0849\n",
            "Epoch 57/1000\n",
            "66/66 [==============================] - 1s 8ms/step - loss: 1.0774 - val_loss: 1.0862\n",
            "Epoch 58/1000\n",
            "66/66 [==============================] - 1s 8ms/step - loss: 1.0764 - val_loss: 1.0940\n",
            "Epoch 59/1000\n",
            "66/66 [==============================] - 0s 7ms/step - loss: 1.0775 - val_loss: 1.0895\n",
            "Epoch 60/1000\n",
            "66/66 [==============================] - 0s 7ms/step - loss: 1.0768 - val_loss: 1.0852\n",
            "Epoch 61/1000\n",
            "66/66 [==============================] - 0s 7ms/step - loss: 1.0751 - val_loss: 1.0878\n",
            "Epoch 62/1000\n",
            "66/66 [==============================] - 1s 9ms/step - loss: 1.0765 - val_loss: 1.0850\n",
            "Epoch 63/1000\n",
            "66/66 [==============================] - 1s 9ms/step - loss: 1.0756 - val_loss: 1.0902\n",
            "Epoch 64/1000\n",
            "66/66 [==============================] - 1s 10ms/step - loss: 1.0760 - val_loss: 1.0864\n",
            "Epoch 65/1000\n",
            "66/66 [==============================] - 1s 9ms/step - loss: 1.0749 - val_loss: 1.0870\n",
            "Epoch 66/1000\n",
            "66/66 [==============================] - 1s 10ms/step - loss: 1.0756 - val_loss: 1.0881\n",
            "Epoch 67/1000\n",
            "66/66 [==============================] - 1s 10ms/step - loss: 1.0754 - val_loss: 1.0848\n"
          ]
        }
      ]
    },
    {
      "cell_type": "markdown",
      "source": [
        "##### Visualización"
      ],
      "metadata": {
        "id": "1MMSErL09Lde"
      }
    },
    {
      "cell_type": "code",
      "source": [
        "x = list(range(len(history['loss'])))\n",
        "\n",
        "fig = go.Figure()\n",
        "\n",
        "fig.add_trace(go.Scatter(x = x, y = history['loss'])) \\\n",
        "   .add_trace(go.Scatter(x = x, y = history['val_loss']))\n",
        "\n",
        "fig.show()"
      ],
      "metadata": {
        "id": "U0VeDdOhTAPd",
        "outputId": "bb4a4ee3-6bc8-4f85-bb44-81f46c0ba159",
        "colab": {
          "base_uri": "https://localhost:8080/",
          "height": 542
        }
      },
      "execution_count": 44,
      "outputs": [
        {
          "output_type": "display_data",
          "data": {
            "text/html": [
              "<html>\n",
              "<head><meta charset=\"utf-8\" /></head>\n",
              "<body>\n",
              "    <div>            <script src=\"https://cdnjs.cloudflare.com/ajax/libs/mathjax/2.7.5/MathJax.js?config=TeX-AMS-MML_SVG\"></script><script type=\"text/javascript\">if (window.MathJax && window.MathJax.Hub && window.MathJax.Hub.Config) {window.MathJax.Hub.Config({SVG: {font: \"STIX-Web\"}});}</script>                <script type=\"text/javascript\">window.PlotlyConfig = {MathJaxConfig: 'local'};</script>\n",
              "        <script src=\"https://cdn.plot.ly/plotly-2.18.2.min.js\"></script>                <div id=\"21bc5ae9-02ea-489f-93a8-57682545f73e\" class=\"plotly-graph-div\" style=\"height:525px; width:100%;\"></div>            <script type=\"text/javascript\">                                    window.PLOTLYENV=window.PLOTLYENV || {};                                    if (document.getElementById(\"21bc5ae9-02ea-489f-93a8-57682545f73e\")) {                    Plotly.newPlot(                        \"21bc5ae9-02ea-489f-93a8-57682545f73e\",                        [{\"x\":[0,1,2,3,4,5,6,7,8,9,10,11,12,13,14,15,16,17,18,19,20,21,22,23,24,25,26,27,28,29,30,31,32,33,34,35,36,37,38,39,40,41,42,43,44,45,46,47,48,49,50,51,52,53,54,55,56,57,58,59,60,61,62,63,64,65,66],\"y\":[1.097366452217102,1.0938807725906372,1.0903778076171875,1.0900897979736328,1.0897728204727173,1.0888627767562866,1.088836908340454,1.0880539417266846,1.0877496004104614,1.087851643562317,1.0869954824447632,1.0869051218032837,1.086321234703064,1.0855766534805298,1.0856579542160034,1.086111068725586,1.0851430892944336,1.0857313871383667,1.0852142572402954,1.0850385427474976,1.0835901498794556,1.0846707820892334,1.0844827890396118,1.0841058492660522,1.0838898420333862,1.0839601755142212,1.0837628841400146,1.0835349559783936,1.0828542709350586,1.0827347040176392,1.0825451612472534,1.081618070602417,1.0814437866210938,1.0816980600357056,1.0810191631317139,1.0816888809204102,1.0811518430709839,1.0807009935379028,1.080528736114502,1.080590009689331,1.0797024965286255,1.0799137353897095,1.0799423456192017,1.0797122716903687,1.0793168544769287,1.0789235830307007,1.078997254371643,1.078852891921997,1.0784399509429932,1.0787566900253296,1.0781093835830688,1.0778241157531738,1.07767915725708,1.0778435468673706,1.0774201154708862,1.076763391494751,1.0773792266845703,1.0763781070709229,1.0774718523025513,1.0768221616744995,1.0751270055770874,1.076488733291626,1.0756213665008545,1.0760217905044556,1.0749163627624512,1.07560396194458,1.0754402875900269],\"type\":\"scatter\"},{\"x\":[0,1,2,3,4,5,6,7,8,9,10,11,12,13,14,15,16,17,18,19,20,21,22,23,24,25,26,27,28,29,30,31,32,33,34,35,36,37,38,39,40,41,42,43,44,45,46,47,48,49,50,51,52,53,54,55,56,57,58,59,60,61,62,63,64,65,66],\"y\":[1.0952531099319458,1.089173436164856,1.0878965854644775,1.0846246480941772,1.084326148033142,1.086561918258667,1.0843578577041626,1.0849498510360718,1.0835392475128174,1.0830215215682983,1.084118127822876,1.0840178728103638,1.0841110944747925,1.0826865434646606,1.0838596820831299,1.0835719108581543,1.084882378578186,1.0853193998336792,1.083242654800415,1.08257257938385,1.085986852645874,1.0835740566253662,1.0833231210708618,1.0826075077056885,1.083288311958313,1.0824154615402222,1.0837701559066772,1.0852370262145996,1.0846961736679077,1.0854521989822388,1.0825412273406982,1.086207389831543,1.0854742527008057,1.085180401802063,1.0837184190750122,1.0843127965927124,1.0849233865737915,1.082662582397461,1.0827940702438354,1.0839290618896484,1.0855014324188232,1.0823216438293457,1.0838981866836548,1.085008144378662,1.083656907081604,1.0841938257217407,1.0835230350494385,1.0841153860092163,1.0855344533920288,1.0849312543869019,1.0870429277420044,1.0847630500793457,1.082984209060669,1.0842591524124146,1.085294246673584,1.0848866701126099,1.0861995220184326,1.0940214395523071,1.0894986391067505,1.0851718187332153,1.0877705812454224,1.0849525928497314,1.0901662111282349,1.0864129066467285,1.086972713470459,1.0880813598632812,1.084756851196289],\"type\":\"scatter\"}],                        {\"template\":{\"data\":{\"histogram2dcontour\":[{\"type\":\"histogram2dcontour\",\"colorbar\":{\"outlinewidth\":0,\"ticks\":\"\"},\"colorscale\":[[0.0,\"#0d0887\"],[0.1111111111111111,\"#46039f\"],[0.2222222222222222,\"#7201a8\"],[0.3333333333333333,\"#9c179e\"],[0.4444444444444444,\"#bd3786\"],[0.5555555555555556,\"#d8576b\"],[0.6666666666666666,\"#ed7953\"],[0.7777777777777778,\"#fb9f3a\"],[0.8888888888888888,\"#fdca26\"],[1.0,\"#f0f921\"]]}],\"choropleth\":[{\"type\":\"choropleth\",\"colorbar\":{\"outlinewidth\":0,\"ticks\":\"\"}}],\"histogram2d\":[{\"type\":\"histogram2d\",\"colorbar\":{\"outlinewidth\":0,\"ticks\":\"\"},\"colorscale\":[[0.0,\"#0d0887\"],[0.1111111111111111,\"#46039f\"],[0.2222222222222222,\"#7201a8\"],[0.3333333333333333,\"#9c179e\"],[0.4444444444444444,\"#bd3786\"],[0.5555555555555556,\"#d8576b\"],[0.6666666666666666,\"#ed7953\"],[0.7777777777777778,\"#fb9f3a\"],[0.8888888888888888,\"#fdca26\"],[1.0,\"#f0f921\"]]}],\"heatmap\":[{\"type\":\"heatmap\",\"colorbar\":{\"outlinewidth\":0,\"ticks\":\"\"},\"colorscale\":[[0.0,\"#0d0887\"],[0.1111111111111111,\"#46039f\"],[0.2222222222222222,\"#7201a8\"],[0.3333333333333333,\"#9c179e\"],[0.4444444444444444,\"#bd3786\"],[0.5555555555555556,\"#d8576b\"],[0.6666666666666666,\"#ed7953\"],[0.7777777777777778,\"#fb9f3a\"],[0.8888888888888888,\"#fdca26\"],[1.0,\"#f0f921\"]]}],\"heatmapgl\":[{\"type\":\"heatmapgl\",\"colorbar\":{\"outlinewidth\":0,\"ticks\":\"\"},\"colorscale\":[[0.0,\"#0d0887\"],[0.1111111111111111,\"#46039f\"],[0.2222222222222222,\"#7201a8\"],[0.3333333333333333,\"#9c179e\"],[0.4444444444444444,\"#bd3786\"],[0.5555555555555556,\"#d8576b\"],[0.6666666666666666,\"#ed7953\"],[0.7777777777777778,\"#fb9f3a\"],[0.8888888888888888,\"#fdca26\"],[1.0,\"#f0f921\"]]}],\"contourcarpet\":[{\"type\":\"contourcarpet\",\"colorbar\":{\"outlinewidth\":0,\"ticks\":\"\"}}],\"contour\":[{\"type\":\"contour\",\"colorbar\":{\"outlinewidth\":0,\"ticks\":\"\"},\"colorscale\":[[0.0,\"#0d0887\"],[0.1111111111111111,\"#46039f\"],[0.2222222222222222,\"#7201a8\"],[0.3333333333333333,\"#9c179e\"],[0.4444444444444444,\"#bd3786\"],[0.5555555555555556,\"#d8576b\"],[0.6666666666666666,\"#ed7953\"],[0.7777777777777778,\"#fb9f3a\"],[0.8888888888888888,\"#fdca26\"],[1.0,\"#f0f921\"]]}],\"surface\":[{\"type\":\"surface\",\"colorbar\":{\"outlinewidth\":0,\"ticks\":\"\"},\"colorscale\":[[0.0,\"#0d0887\"],[0.1111111111111111,\"#46039f\"],[0.2222222222222222,\"#7201a8\"],[0.3333333333333333,\"#9c179e\"],[0.4444444444444444,\"#bd3786\"],[0.5555555555555556,\"#d8576b\"],[0.6666666666666666,\"#ed7953\"],[0.7777777777777778,\"#fb9f3a\"],[0.8888888888888888,\"#fdca26\"],[1.0,\"#f0f921\"]]}],\"mesh3d\":[{\"type\":\"mesh3d\",\"colorbar\":{\"outlinewidth\":0,\"ticks\":\"\"}}],\"scatter\":[{\"fillpattern\":{\"fillmode\":\"overlay\",\"size\":10,\"solidity\":0.2},\"type\":\"scatter\"}],\"parcoords\":[{\"type\":\"parcoords\",\"line\":{\"colorbar\":{\"outlinewidth\":0,\"ticks\":\"\"}}}],\"scatterpolargl\":[{\"type\":\"scatterpolargl\",\"marker\":{\"colorbar\":{\"outlinewidth\":0,\"ticks\":\"\"}}}],\"bar\":[{\"error_x\":{\"color\":\"#2a3f5f\"},\"error_y\":{\"color\":\"#2a3f5f\"},\"marker\":{\"line\":{\"color\":\"#E5ECF6\",\"width\":0.5},\"pattern\":{\"fillmode\":\"overlay\",\"size\":10,\"solidity\":0.2}},\"type\":\"bar\"}],\"scattergeo\":[{\"type\":\"scattergeo\",\"marker\":{\"colorbar\":{\"outlinewidth\":0,\"ticks\":\"\"}}}],\"scatterpolar\":[{\"type\":\"scatterpolar\",\"marker\":{\"colorbar\":{\"outlinewidth\":0,\"ticks\":\"\"}}}],\"histogram\":[{\"marker\":{\"pattern\":{\"fillmode\":\"overlay\",\"size\":10,\"solidity\":0.2}},\"type\":\"histogram\"}],\"scattergl\":[{\"type\":\"scattergl\",\"marker\":{\"colorbar\":{\"outlinewidth\":0,\"ticks\":\"\"}}}],\"scatter3d\":[{\"type\":\"scatter3d\",\"line\":{\"colorbar\":{\"outlinewidth\":0,\"ticks\":\"\"}},\"marker\":{\"colorbar\":{\"outlinewidth\":0,\"ticks\":\"\"}}}],\"scattermapbox\":[{\"type\":\"scattermapbox\",\"marker\":{\"colorbar\":{\"outlinewidth\":0,\"ticks\":\"\"}}}],\"scatterternary\":[{\"type\":\"scatterternary\",\"marker\":{\"colorbar\":{\"outlinewidth\":0,\"ticks\":\"\"}}}],\"scattercarpet\":[{\"type\":\"scattercarpet\",\"marker\":{\"colorbar\":{\"outlinewidth\":0,\"ticks\":\"\"}}}],\"carpet\":[{\"aaxis\":{\"endlinecolor\":\"#2a3f5f\",\"gridcolor\":\"white\",\"linecolor\":\"white\",\"minorgridcolor\":\"white\",\"startlinecolor\":\"#2a3f5f\"},\"baxis\":{\"endlinecolor\":\"#2a3f5f\",\"gridcolor\":\"white\",\"linecolor\":\"white\",\"minorgridcolor\":\"white\",\"startlinecolor\":\"#2a3f5f\"},\"type\":\"carpet\"}],\"table\":[{\"cells\":{\"fill\":{\"color\":\"#EBF0F8\"},\"line\":{\"color\":\"white\"}},\"header\":{\"fill\":{\"color\":\"#C8D4E3\"},\"line\":{\"color\":\"white\"}},\"type\":\"table\"}],\"barpolar\":[{\"marker\":{\"line\":{\"color\":\"#E5ECF6\",\"width\":0.5},\"pattern\":{\"fillmode\":\"overlay\",\"size\":10,\"solidity\":0.2}},\"type\":\"barpolar\"}],\"pie\":[{\"automargin\":true,\"type\":\"pie\"}]},\"layout\":{\"autotypenumbers\":\"strict\",\"colorway\":[\"#636efa\",\"#EF553B\",\"#00cc96\",\"#ab63fa\",\"#FFA15A\",\"#19d3f3\",\"#FF6692\",\"#B6E880\",\"#FF97FF\",\"#FECB52\"],\"font\":{\"color\":\"#2a3f5f\"},\"hovermode\":\"closest\",\"hoverlabel\":{\"align\":\"left\"},\"paper_bgcolor\":\"white\",\"plot_bgcolor\":\"#E5ECF6\",\"polar\":{\"bgcolor\":\"#E5ECF6\",\"angularaxis\":{\"gridcolor\":\"white\",\"linecolor\":\"white\",\"ticks\":\"\"},\"radialaxis\":{\"gridcolor\":\"white\",\"linecolor\":\"white\",\"ticks\":\"\"}},\"ternary\":{\"bgcolor\":\"#E5ECF6\",\"aaxis\":{\"gridcolor\":\"white\",\"linecolor\":\"white\",\"ticks\":\"\"},\"baxis\":{\"gridcolor\":\"white\",\"linecolor\":\"white\",\"ticks\":\"\"},\"caxis\":{\"gridcolor\":\"white\",\"linecolor\":\"white\",\"ticks\":\"\"}},\"coloraxis\":{\"colorbar\":{\"outlinewidth\":0,\"ticks\":\"\"}},\"colorscale\":{\"sequential\":[[0.0,\"#0d0887\"],[0.1111111111111111,\"#46039f\"],[0.2222222222222222,\"#7201a8\"],[0.3333333333333333,\"#9c179e\"],[0.4444444444444444,\"#bd3786\"],[0.5555555555555556,\"#d8576b\"],[0.6666666666666666,\"#ed7953\"],[0.7777777777777778,\"#fb9f3a\"],[0.8888888888888888,\"#fdca26\"],[1.0,\"#f0f921\"]],\"sequentialminus\":[[0.0,\"#0d0887\"],[0.1111111111111111,\"#46039f\"],[0.2222222222222222,\"#7201a8\"],[0.3333333333333333,\"#9c179e\"],[0.4444444444444444,\"#bd3786\"],[0.5555555555555556,\"#d8576b\"],[0.6666666666666666,\"#ed7953\"],[0.7777777777777778,\"#fb9f3a\"],[0.8888888888888888,\"#fdca26\"],[1.0,\"#f0f921\"]],\"diverging\":[[0,\"#8e0152\"],[0.1,\"#c51b7d\"],[0.2,\"#de77ae\"],[0.3,\"#f1b6da\"],[0.4,\"#fde0ef\"],[0.5,\"#f7f7f7\"],[0.6,\"#e6f5d0\"],[0.7,\"#b8e186\"],[0.8,\"#7fbc41\"],[0.9,\"#4d9221\"],[1,\"#276419\"]]},\"xaxis\":{\"gridcolor\":\"white\",\"linecolor\":\"white\",\"ticks\":\"\",\"title\":{\"standoff\":15},\"zerolinecolor\":\"white\",\"automargin\":true,\"zerolinewidth\":2},\"yaxis\":{\"gridcolor\":\"white\",\"linecolor\":\"white\",\"ticks\":\"\",\"title\":{\"standoff\":15},\"zerolinecolor\":\"white\",\"automargin\":true,\"zerolinewidth\":2},\"scene\":{\"xaxis\":{\"backgroundcolor\":\"#E5ECF6\",\"gridcolor\":\"white\",\"linecolor\":\"white\",\"showbackground\":true,\"ticks\":\"\",\"zerolinecolor\":\"white\",\"gridwidth\":2},\"yaxis\":{\"backgroundcolor\":\"#E5ECF6\",\"gridcolor\":\"white\",\"linecolor\":\"white\",\"showbackground\":true,\"ticks\":\"\",\"zerolinecolor\":\"white\",\"gridwidth\":2},\"zaxis\":{\"backgroundcolor\":\"#E5ECF6\",\"gridcolor\":\"white\",\"linecolor\":\"white\",\"showbackground\":true,\"ticks\":\"\",\"zerolinecolor\":\"white\",\"gridwidth\":2}},\"shapedefaults\":{\"line\":{\"color\":\"#2a3f5f\"}},\"annotationdefaults\":{\"arrowcolor\":\"#2a3f5f\",\"arrowhead\":0,\"arrowwidth\":1},\"geo\":{\"bgcolor\":\"white\",\"landcolor\":\"#E5ECF6\",\"subunitcolor\":\"white\",\"showland\":true,\"showlakes\":true,\"lakecolor\":\"white\"},\"title\":{\"x\":0.05},\"mapbox\":{\"style\":\"light\"}}}},                        {\"responsive\": true}                    ).then(function(){\n",
              "                            \n",
              "var gd = document.getElementById('21bc5ae9-02ea-489f-93a8-57682545f73e');\n",
              "var x = new MutationObserver(function (mutations, observer) {{\n",
              "        var display = window.getComputedStyle(gd).display;\n",
              "        if (!display || display === 'none') {{\n",
              "            console.log([gd, 'removed!']);\n",
              "            Plotly.purge(gd);\n",
              "            observer.disconnect();\n",
              "        }}\n",
              "}});\n",
              "\n",
              "// Listen for the removal of the full notebook cells\n",
              "var notebookContainer = gd.closest('#notebook-container');\n",
              "if (notebookContainer) {{\n",
              "    x.observe(notebookContainer, {childList: true});\n",
              "}}\n",
              "\n",
              "// Listen for the clearing of the current output cell\n",
              "var outputEl = gd.closest('.output');\n",
              "if (outputEl) {{\n",
              "    x.observe(outputEl, {childList: true});\n",
              "}}\n",
              "\n",
              "                        })                };                            </script>        </div>\n",
              "</body>\n",
              "</html>"
            ]
          },
          "metadata": {}
        }
      ]
    },
    {
      "cell_type": "markdown",
      "source": [
        "#### Métricas"
      ],
      "metadata": {
        "id": "pZN1xAdq9Plc"
      }
    },
    {
      "cell_type": "code",
      "source": [
        "evaluate_model(model, [train_prices, y_train], [val_prices, y_val], [test_prices, y_test])"
      ],
      "metadata": {
        "id": "nSHaBMRB3BFN",
        "outputId": "e069428f-07d7-438b-ece6-c0b2ee32cddf",
        "colab": {
          "base_uri": "https://localhost:8080/"
        }
      },
      "execution_count": 45,
      "outputs": [
        {
          "output_type": "stream",
          "name": "stdout",
          "text": [
            "train cross_entropy =  1.0770293474197388\n",
            "  val cross_entropy =  1.0823216438293457\n",
            " test cross_entropy =  1.0842831134796143\n"
          ]
        }
      ]
    },
    {
      "cell_type": "code",
      "source": [
        "y_pred_prob = model.predict(test_prices)"
      ],
      "metadata": {
        "id": "WelnycacezHM",
        "outputId": "931e4306-6491-4fdc-c100-050d5c236c75",
        "colab": {
          "base_uri": "https://localhost:8080/"
        }
      },
      "execution_count": 46,
      "outputs": [
        {
          "output_type": "stream",
          "name": "stdout",
          "text": [
            "88/88 [==============================] - 1s 3ms/step\n"
          ]
        }
      ]
    },
    {
      "cell_type": "code",
      "source": [
        "y_pred_prob"
      ],
      "metadata": {
        "id": "gAhkRyVOe_mi",
        "outputId": "ef5f9eea-70d9-4ab1-c1ae-1acfc625167a",
        "colab": {
          "base_uri": "https://localhost:8080/"
        }
      },
      "execution_count": 47,
      "outputs": [
        {
          "output_type": "execute_result",
          "data": {
            "text/plain": [
              "array([[0.33177444, 0.36917767, 0.29904792],\n",
              "       [0.33716398, 0.30649248, 0.35634348],\n",
              "       [0.29288033, 0.4322981 , 0.27482152],\n",
              "       ...,\n",
              "       [0.40248862, 0.25666186, 0.34084955],\n",
              "       [0.38886464, 0.29416022, 0.31697518],\n",
              "       [0.2573861 , 0.47672302, 0.2658909 ]], dtype=float32)"
            ]
          },
          "metadata": {},
          "execution_count": 47
        }
      ]
    },
    {
      "cell_type": "code",
      "source": [
        "y_pred = y_pred_prob.argmax(axis=1)\n",
        "y_pred"
      ],
      "metadata": {
        "id": "M8j0dK2_fIqA",
        "outputId": "ea5f4d52-c2bd-4ee6-9b1e-287a0c7ad3f9",
        "colab": {
          "base_uri": "https://localhost:8080/"
        }
      },
      "execution_count": 48,
      "outputs": [
        {
          "output_type": "execute_result",
          "data": {
            "text/plain": [
              "array([1, 2, 1, ..., 0, 0, 1])"
            ]
          },
          "metadata": {},
          "execution_count": 48
        }
      ]
    },
    {
      "cell_type": "code",
      "source": [
        "y_test_f = y_test.idxmax(axis=1).map({'Target -1': 0, 'Target 0': 1, 'Target 1': 2})"
      ],
      "metadata": {
        "id": "PtkfoJNkhvBN"
      },
      "execution_count": 49,
      "outputs": []
    },
    {
      "cell_type": "code",
      "source": [
        "ConfusionMatrixDisplay.from_predictions(y_test_f, y_pred)"
      ],
      "metadata": {
        "id": "sO8yw1p6e56-",
        "outputId": "3963cc69-8ec0-41c1-b344-5ad85305ccbe",
        "colab": {
          "base_uri": "https://localhost:8080/",
          "height": 466
        }
      },
      "execution_count": 50,
      "outputs": [
        {
          "output_type": "execute_result",
          "data": {
            "text/plain": [
              "<sklearn.metrics._plot.confusion_matrix.ConfusionMatrixDisplay at 0x7f1237ed05b0>"
            ]
          },
          "metadata": {},
          "execution_count": 50
        },
        {
          "output_type": "display_data",
          "data": {
            "text/plain": [
              "<Figure size 640x480 with 2 Axes>"
            ],
            "image/png": "[encoded data removed]"
          },
          "metadata": {}
        }
      ]
    },
    {
      "cell_type": "code",
      "source": [
        "ConfusionMatrixDisplay.from_predictions(y_test_0, y_pred_0)"
      ],
      "metadata": {
        "id": "m9SlkWqOiuxs",
        "outputId": "c77bb298-83aa-49f9-d176-584239b19e47",
        "colab": {
          "base_uri": "https://localhost:8080/",
          "height": 466
        }
      },
      "execution_count": 51,
      "outputs": [
        {
          "output_type": "execute_result",
          "data": {
            "text/plain": [
              "<sklearn.metrics._plot.confusion_matrix.ConfusionMatrixDisplay at 0x7f12375f8eb0>"
            ]
          },
          "metadata": {},
          "execution_count": 51
        },
        {
          "output_type": "display_data",
          "data": {
            "text/plain": [
              "<Figure size 640x480 with 2 Axes>"
            ],
            "image/png": "[encoded data removed]"
          },
          "metadata": {}
        }
      ]
    },
    {
      "cell_type": "code",
      "source": [
        "from sklearn.metrics import classification_report\n",
        "print(classification_report(y_test_f, y_pred))"
      ],
      "metadata": {
        "id": "N-VlC-mhi4Bt",
        "outputId": "689f7748-4484-4cae-cb97-c446a69919b7",
        "colab": {
          "base_uri": "https://localhost:8080/"
        }
      },
      "execution_count": 52,
      "outputs": [
        {
          "output_type": "stream",
          "name": "stdout",
          "text": [
            "              precision    recall  f1-score   support\n",
            "\n",
            "           0       0.37      0.30      0.33       869\n",
            "           1       0.42      0.52      0.47       985\n",
            "           2       0.40      0.36      0.38       946\n",
            "\n",
            "    accuracy                           0.40      2800\n",
            "   macro avg       0.40      0.40      0.39      2800\n",
            "weighted avg       0.40      0.40      0.39      2800\n",
            "\n"
          ]
        }
      ]
    },
    {
      "cell_type": "markdown",
      "source": [
        "### Segunda Arquitectura"
      ],
      "metadata": {
        "id": "EinK3G6r9kAD"
      }
    },
    {
      "cell_type": "markdown",
      "source": [
        "#### Arquitectura"
      ],
      "metadata": {
        "id": "tSKt3k3d9mle"
      }
    },
    {
      "cell_type": "code",
      "source": [
        "fusion_dim = 8\n",
        "\n",
        "price_input = layers.Input(shape = (len_prices,), name = 'price_input')\n",
        "\n",
        "price_layer = keras.models.Sequential(\n",
        "    [\n",
        "     layers.Normalization(name = 'price_normalization'), \n",
        "     layers.Dense(8, activation = 'tanh'), \n",
        "     layers.Dense(8, activation = 'relu'),\n",
        "     layers.Dense(8, activation = 'tanh'), \n",
        "     layers.Dense(fusion_dim, activation = 'relu'),\n",
        "    ], \n",
        "    name = 'price'\n",
        ")\n",
        "\n",
        "price_output = price_layer(price_input)\n",
        "\n",
        "sentiment_input = layers.Input(shape = (len_features, n_features), name = 'sentiment_input')\n",
        "sentiment_normalization = layers.Normalization(name = 'sentiment_normalization', axis = 1)\n",
        "sentiment_lstm = layers.LSTM(fusion_dim, name = 'sentiment')\n",
        "\n",
        "sentiment_normalized = sentiment_normalization(sentiment_input)\n",
        "sentiment_output = sentiment_lstm(sentiment_normalized)\n",
        "\n",
        "fusion = layers.Multiply(name = 'hadamard_product')([sentiment_output, price_output])\n",
        "\n",
        "prediction_layer = keras.models.Sequential(\n",
        "    [\n",
        "     layers.Dense(8, activation = 'tanh'), \n",
        "     layers.Dense(8, activation = 'relu'), \n",
        "     layers.Dense(8, activation = 'sigmoid'), \n",
        "     layers.Dense(3, activation = 'softmax')\n",
        "    ], \n",
        "    name = 'prediction'\n",
        ")\n",
        "prediction_output = prediction_layer(fusion)"
      ],
      "metadata": {
        "id": "4s3tIf0m2p2r"
      },
      "execution_count": 53,
      "outputs": []
    },
    {
      "cell_type": "markdown",
      "source": [
        "#### Modelo"
      ],
      "metadata": {
        "id": "HhmCFsf89phq"
      }
    },
    {
      "cell_type": "code",
      "source": [
        "model_2 = keras.Model([price_input, sentiment_input], prediction_output)\n",
        "\n",
        "model_2.compile(\n",
        "    loss = 'categorical_crossentropy'\n",
        ")\n",
        "\n",
        "model_2.summary()"
      ],
      "metadata": {
        "id": "DmQXsGd63SfN",
        "outputId": "23d07aab-c403-4f4c-9137-78ee7330aaea",
        "colab": {
          "base_uri": "https://localhost:8080/"
        }
      },
      "execution_count": 54,
      "outputs": [
        {
          "output_type": "stream",
          "name": "stdout",
          "text": [
            "Model: \"model_1\"\n",
            "__________________________________________________________________________________________________\n",
            " Layer (type)                   Output Shape         Param #     Connected to                     \n",
            "==================================================================================================\n",
            " sentiment_input (InputLayer)   [(None, 48, 10)]     0           []                               \n",
            "                                                                                                  \n",
            " sentiment_normalization (Norma  (None, 48, 10)      97          ['sentiment_input[0][0]']        \n",
            " lization)                                                                                        \n",
            "                                                                                                  \n",
            " price_input (InputLayer)       [(None, 5)]          0           []                               \n",
            "                                                                                                  \n",
            " sentiment (LSTM)               (None, 8)            608         ['sentiment_normalization[0][0]']\n",
            "                                                                                                  \n",
            " price (Sequential)             (None, 8)            275         ['price_input[0][0]']            \n",
            "                                                                                                  \n",
            " hadamard_product (Multiply)    (None, 8)            0           ['sentiment[0][0]',              \n",
            "                                                                  'price[0][0]']                  \n",
            "                                                                                                  \n",
            " prediction (Sequential)        (None, 3)            243         ['hadamard_product[0][0]']       \n",
            "                                                                                                  \n",
            "==================================================================================================\n",
            "Total params: 1,223\n",
            "Trainable params: 1,115\n",
            "Non-trainable params: 108\n",
            "__________________________________________________________________________________________________\n"
          ]
        }
      ]
    },
    {
      "cell_type": "markdown",
      "source": [
        "##### Visualización"
      ],
      "metadata": {
        "id": "ct6SNKKd9rS9"
      }
    },
    {
      "cell_type": "code",
      "source": [
        "keras.utils.plot_model( \n",
        "    model_2,\n",
        "    to_file=\"model.png\",\n",
        "    show_shapes=True,\n",
        "    show_dtype=False,\n",
        "    show_layer_names=True,\n",
        "    rankdir=\"TD\",\n",
        "    dpi=90,\n",
        ")"
      ],
      "metadata": {
        "id": "-Kr3cOHZ3WVc",
        "outputId": "1a9838f0-f885-4252-dab7-4231d44149c9",
        "colab": {
          "base_uri": "https://localhost:8080/",
          "height": 501
        }
      },
      "execution_count": 55,
      "outputs": [
        {
          "output_type": "execute_result",
          "data": {
            "image/png": "[encoded data removed]",
            "text/plain": [
              "<IPython.core.display.Image object>"
            ]
          },
          "metadata": {},
          "execution_count": 55
        }
      ]
    },
    {
      "cell_type": "markdown",
      "source": [
        "#### Entrenamiento"
      ],
      "metadata": {
        "id": "BpHIwaTI9tVn"
      }
    },
    {
      "cell_type": "code",
      "source": [
        "history = model_2.fit(\n",
        "    [train_prices, train_features], y_train, \n",
        "    epochs = 30, # Original, 1000 épocas\n",
        "    callbacks = [earlystop_cb], \n",
        "    validation_data = [[val_prices, val_features], y_val]\n",
        ").history"
      ],
      "metadata": {
        "id": "2uSf0H5r3Yc7",
        "outputId": "781899f2-80ec-46b4-fb5b-098d7b59c174",
        "colab": {
          "base_uri": "https://localhost:8080/"
        }
      },
      "execution_count": 56,
      "outputs": [
        {
          "output_type": "stream",
          "name": "stdout",
          "text": [
            "Epoch 1/30\n",
            "263/263 [==============================] - 6s 10ms/step - loss: 1.1080 - val_loss: 1.0970\n",
            "Epoch 2/30\n",
            "263/263 [==============================] - 3s 11ms/step - loss: 1.0951 - val_loss: 1.0921\n",
            "Epoch 3/30\n",
            "263/263 [==============================] - 2s 8ms/step - loss: 1.0838 - val_loss: 1.0757\n",
            "Epoch 4/30\n",
            "263/263 [==============================] - 2s 8ms/step - loss: 1.0670 - val_loss: 1.0642\n",
            "Epoch 5/30\n",
            "263/263 [==============================] - 2s 8ms/step - loss: 1.0577 - val_loss: 1.0587\n",
            "Epoch 6/30\n",
            "263/263 [==============================] - 2s 8ms/step - loss: 1.0515 - val_loss: 1.0565\n",
            "Epoch 7/30\n",
            "263/263 [==============================] - 2s 9ms/step - loss: 1.0461 - val_loss: 1.0537\n",
            "Epoch 8/30\n",
            "263/263 [==============================] - 3s 10ms/step - loss: 1.0411 - val_loss: 1.0535\n",
            "Epoch 9/30\n",
            "263/263 [==============================] - 2s 8ms/step - loss: 1.0383 - val_loss: 1.0523\n",
            "Epoch 10/30\n",
            "263/263 [==============================] - 2s 9ms/step - loss: 1.0354 - val_loss: 1.0505\n",
            "Epoch 11/30\n",
            "263/263 [==============================] - 2s 8ms/step - loss: 1.0339 - val_loss: 1.0514\n",
            "Epoch 12/30\n",
            "263/263 [==============================] - 2s 8ms/step - loss: 1.0312 - val_loss: 1.0484\n",
            "Epoch 13/30\n",
            "263/263 [==============================] - 2s 9ms/step - loss: 1.0282 - val_loss: 1.0482\n",
            "Epoch 14/30\n",
            "263/263 [==============================] - 3s 11ms/step - loss: 1.0265 - val_loss: 1.0476\n",
            "Epoch 15/30\n",
            "263/263 [==============================] - 2s 8ms/step - loss: 1.0248 - val_loss: 1.0480\n",
            "Epoch 16/30\n",
            "263/263 [==============================] - 2s 8ms/step - loss: 1.0228 - val_loss: 1.0466\n",
            "Epoch 17/30\n",
            "263/263 [==============================] - 2s 8ms/step - loss: 1.0201 - val_loss: 1.0493\n",
            "Epoch 18/30\n",
            "263/263 [==============================] - 2s 8ms/step - loss: 1.0186 - val_loss: 1.0484\n",
            "Epoch 19/30\n",
            "263/263 [==============================] - 2s 8ms/step - loss: 1.0185 - val_loss: 1.0457\n",
            "Epoch 20/30\n",
            "263/263 [==============================] - 3s 11ms/step - loss: 1.0167 - val_loss: 1.0493\n",
            "Epoch 21/30\n",
            "263/263 [==============================] - 3s 13ms/step - loss: 1.0153 - val_loss: 1.0428\n",
            "Epoch 22/30\n",
            "263/263 [==============================] - 2s 9ms/step - loss: 1.0137 - val_loss: 1.0505\n",
            "Epoch 23/30\n",
            "263/263 [==============================] - 2s 8ms/step - loss: 1.0129 - val_loss: 1.0455\n",
            "Epoch 24/30\n",
            "263/263 [==============================] - 2s 8ms/step - loss: 1.0113 - val_loss: 1.0448\n",
            "Epoch 25/30\n",
            "263/263 [==============================] - 2s 8ms/step - loss: 1.0099 - val_loss: 1.0452\n",
            "Epoch 26/30\n",
            "263/263 [==============================] - 2s 8ms/step - loss: 1.0088 - val_loss: 1.0445\n",
            "Epoch 27/30\n",
            "263/263 [==============================] - 3s 10ms/step - loss: 1.0079 - val_loss: 1.0455\n",
            "Epoch 28/30\n",
            "263/263 [==============================] - 2s 8ms/step - loss: 1.0074 - val_loss: 1.0442\n",
            "Epoch 29/30\n",
            "263/263 [==============================] - 2s 8ms/step - loss: 1.0068 - val_loss: 1.0434\n",
            "Epoch 30/30\n",
            "263/263 [==============================] - 2s 8ms/step - loss: 1.0054 - val_loss: 1.0426\n"
          ]
        }
      ]
    },
    {
      "cell_type": "markdown",
      "source": [
        "##### Visualización"
      ],
      "metadata": {
        "id": "DarEX0pr9wQz"
      }
    },
    {
      "cell_type": "code",
      "source": [
        "x = list(range(len(history['loss'])))\n",
        "\n",
        "fig = go.Figure()\n",
        "\n",
        "fig.add_trace(go.Scatter(x = x, y = history['loss'])) \\\n",
        "   .add_trace(go.Scatter(x = x, y = history['val_loss'])) \\\n",
        "   .update_layout(hovermode = 'x')\n",
        "\n",
        "fig.show()"
      ],
      "metadata": {
        "id": "0iC6uX4J3s24",
        "outputId": "8accd703-ac7d-4260-e902-00e0db6cf656",
        "colab": {
          "base_uri": "https://localhost:8080/",
          "height": 542
        }
      },
      "execution_count": 57,
      "outputs": [
        {
          "output_type": "display_data",
          "data": {
            "text/html": [
              "<html>\n",
              "<head><meta charset=\"utf-8\" /></head>\n",
              "<body>\n",
              "    <div>            <script src=\"https://cdnjs.cloudflare.com/ajax/libs/mathjax/2.7.5/MathJax.js?config=TeX-AMS-MML_SVG\"></script><script type=\"text/javascript\">if (window.MathJax && window.MathJax.Hub && window.MathJax.Hub.Config) {window.MathJax.Hub.Config({SVG: {font: \"STIX-Web\"}});}</script>                <script type=\"text/javascript\">window.PlotlyConfig = {MathJaxConfig: 'local'};</script>\n",
              "        <script src=\"https://cdn.plot.ly/plotly-2.18.2.min.js\"></script>                <div id=\"4bd20ea8-9799-495e-bc55-1b71fbb0b665\" class=\"plotly-graph-div\" style=\"height:525px; width:100%;\"></div>            <script type=\"text/javascript\">                                    window.PLOTLYENV=window.PLOTLYENV || {};                                    if (document.getElementById(\"4bd20ea8-9799-495e-bc55-1b71fbb0b665\")) {                    Plotly.newPlot(                        \"4bd20ea8-9799-495e-bc55-1b71fbb0b665\",                        [{\"x\":[0,1,2,3,4,5,6,7,8,9,10,11,12,13,14,15,16,17,18,19,20,21,22,23,24,25,26,27,28,29],\"y\":[1.1080209016799927,1.0950899124145508,1.083798885345459,1.0669623613357544,1.0577255487442017,1.0514848232269287,1.0461329221725464,1.041135311126709,1.0383161306381226,1.0353806018829346,1.0338807106018066,1.031150460243225,1.0281968116760254,1.026481032371521,1.0247955322265625,1.0227960348129272,1.0200519561767578,1.0186231136322021,1.0184603929519653,1.0166903734207153,1.0153332948684692,1.013669729232788,1.012911081314087,1.0112968683242798,1.0098830461502075,1.008803129196167,1.00790536403656,1.0074490308761597,1.00680673122406,1.0053552389144897],\"type\":\"scatter\"},{\"x\":[0,1,2,3,4,5,6,7,8,9,10,11,12,13,14,15,16,17,18,19,20,21,22,23,24,25,26,27,28,29],\"y\":[1.0970219373703003,1.0920897722244263,1.0756536722183228,1.0641645193099976,1.0587326288223267,1.056494951248169,1.0537254810333252,1.0534987449645996,1.052336573600769,1.0504580736160278,1.0513849258422852,1.0483568906784058,1.0481873750686646,1.0475828647613525,1.0480257272720337,1.046583890914917,1.0493139028549194,1.0484354496002197,1.0456640720367432,1.0492920875549316,1.042813777923584,1.0505441427230835,1.0454989671707153,1.044776201248169,1.0451689958572388,1.044515609741211,1.045471429824829,1.044238567352295,1.043416976928711,1.0425559282302856],\"type\":\"scatter\"}],                        {\"template\":{\"data\":{\"histogram2dcontour\":[{\"type\":\"histogram2dcontour\",\"colorbar\":{\"outlinewidth\":0,\"ticks\":\"\"},\"colorscale\":[[0.0,\"#0d0887\"],[0.1111111111111111,\"#46039f\"],[0.2222222222222222,\"#7201a8\"],[0.3333333333333333,\"#9c179e\"],[0.4444444444444444,\"#bd3786\"],[0.5555555555555556,\"#d8576b\"],[0.6666666666666666,\"#ed7953\"],[0.7777777777777778,\"#fb9f3a\"],[0.8888888888888888,\"#fdca26\"],[1.0,\"#f0f921\"]]}],\"choropleth\":[{\"type\":\"choropleth\",\"colorbar\":{\"outlinewidth\":0,\"ticks\":\"\"}}],\"histogram2d\":[{\"type\":\"histogram2d\",\"colorbar\":{\"outlinewidth\":0,\"ticks\":\"\"},\"colorscale\":[[0.0,\"#0d0887\"],[0.1111111111111111,\"#46039f\"],[0.2222222222222222,\"#7201a8\"],[0.3333333333333333,\"#9c179e\"],[0.4444444444444444,\"#bd3786\"],[0.5555555555555556,\"#d8576b\"],[0.6666666666666666,\"#ed7953\"],[0.7777777777777778,\"#fb9f3a\"],[0.8888888888888888,\"#fdca26\"],[1.0,\"#f0f921\"]]}],\"heatmap\":[{\"type\":\"heatmap\",\"colorbar\":{\"outlinewidth\":0,\"ticks\":\"\"},\"colorscale\":[[0.0,\"#0d0887\"],[0.1111111111111111,\"#46039f\"],[0.2222222222222222,\"#7201a8\"],[0.3333333333333333,\"#9c179e\"],[0.4444444444444444,\"#bd3786\"],[0.5555555555555556,\"#d8576b\"],[0.6666666666666666,\"#ed7953\"],[0.7777777777777778,\"#fb9f3a\"],[0.8888888888888888,\"#fdca26\"],[1.0,\"#f0f921\"]]}],\"heatmapgl\":[{\"type\":\"heatmapgl\",\"colorbar\":{\"outlinewidth\":0,\"ticks\":\"\"},\"colorscale\":[[0.0,\"#0d0887\"],[0.1111111111111111,\"#46039f\"],[0.2222222222222222,\"#7201a8\"],[0.3333333333333333,\"#9c179e\"],[0.4444444444444444,\"#bd3786\"],[0.5555555555555556,\"#d8576b\"],[0.6666666666666666,\"#ed7953\"],[0.7777777777777778,\"#fb9f3a\"],[0.8888888888888888,\"#fdca26\"],[1.0,\"#f0f921\"]]}],\"contourcarpet\":[{\"type\":\"contourcarpet\",\"colorbar\":{\"outlinewidth\":0,\"ticks\":\"\"}}],\"contour\":[{\"type\":\"contour\",\"colorbar\":{\"outlinewidth\":0,\"ticks\":\"\"},\"colorscale\":[[0.0,\"#0d0887\"],[0.1111111111111111,\"#46039f\"],[0.2222222222222222,\"#7201a8\"],[0.3333333333333333,\"#9c179e\"],[0.4444444444444444,\"#bd3786\"],[0.5555555555555556,\"#d8576b\"],[0.6666666666666666,\"#ed7953\"],[0.7777777777777778,\"#fb9f3a\"],[0.8888888888888888,\"#fdca26\"],[1.0,\"#f0f921\"]]}],\"surface\":[{\"type\":\"surface\",\"colorbar\":{\"outlinewidth\":0,\"ticks\":\"\"},\"colorscale\":[[0.0,\"#0d0887\"],[0.1111111111111111,\"#46039f\"],[0.2222222222222222,\"#7201a8\"],[0.3333333333333333,\"#9c179e\"],[0.4444444444444444,\"#bd3786\"],[0.5555555555555556,\"#d8576b\"],[0.6666666666666666,\"#ed7953\"],[0.7777777777777778,\"#fb9f3a\"],[0.8888888888888888,\"#fdca26\"],[1.0,\"#f0f921\"]]}],\"mesh3d\":[{\"type\":\"mesh3d\",\"colorbar\":{\"outlinewidth\":0,\"ticks\":\"\"}}],\"scatter\":[{\"fillpattern\":{\"fillmode\":\"overlay\",\"size\":10,\"solidity\":0.2},\"type\":\"scatter\"}],\"parcoords\":[{\"type\":\"parcoords\",\"line\":{\"colorbar\":{\"outlinewidth\":0,\"ticks\":\"\"}}}],\"scatterpolargl\":[{\"type\":\"scatterpolargl\",\"marker\":{\"colorbar\":{\"outlinewidth\":0,\"ticks\":\"\"}}}],\"bar\":[{\"error_x\":{\"color\":\"#2a3f5f\"},\"error_y\":{\"color\":\"#2a3f5f\"},\"marker\":{\"line\":{\"color\":\"#E5ECF6\",\"width\":0.5},\"pattern\":{\"fillmode\":\"overlay\",\"size\":10,\"solidity\":0.2}},\"type\":\"bar\"}],\"scattergeo\":[{\"type\":\"scattergeo\",\"marker\":{\"colorbar\":{\"outlinewidth\":0,\"ticks\":\"\"}}}],\"scatterpolar\":[{\"type\":\"scatterpolar\",\"marker\":{\"colorbar\":{\"outlinewidth\":0,\"ticks\":\"\"}}}],\"histogram\":[{\"marker\":{\"pattern\":{\"fillmode\":\"overlay\",\"size\":10,\"solidity\":0.2}},\"type\":\"histogram\"}],\"scattergl\":[{\"type\":\"scattergl\",\"marker\":{\"colorbar\":{\"outlinewidth\":0,\"ticks\":\"\"}}}],\"scatter3d\":[{\"type\":\"scatter3d\",\"line\":{\"colorbar\":{\"outlinewidth\":0,\"ticks\":\"\"}},\"marker\":{\"colorbar\":{\"outlinewidth\":0,\"ticks\":\"\"}}}],\"scattermapbox\":[{\"type\":\"scattermapbox\",\"marker\":{\"colorbar\":{\"outlinewidth\":0,\"ticks\":\"\"}}}],\"scatterternary\":[{\"type\":\"scatterternary\",\"marker\":{\"colorbar\":{\"outlinewidth\":0,\"ticks\":\"\"}}}],\"scattercarpet\":[{\"type\":\"scattercarpet\",\"marker\":{\"colorbar\":{\"outlinewidth\":0,\"ticks\":\"\"}}}],\"carpet\":[{\"aaxis\":{\"endlinecolor\":\"#2a3f5f\",\"gridcolor\":\"white\",\"linecolor\":\"white\",\"minorgridcolor\":\"white\",\"startlinecolor\":\"#2a3f5f\"},\"baxis\":{\"endlinecolor\":\"#2a3f5f\",\"gridcolor\":\"white\",\"linecolor\":\"white\",\"minorgridcolor\":\"white\",\"startlinecolor\":\"#2a3f5f\"},\"type\":\"carpet\"}],\"table\":[{\"cells\":{\"fill\":{\"color\":\"#EBF0F8\"},\"line\":{\"color\":\"white\"}},\"header\":{\"fill\":{\"color\":\"#C8D4E3\"},\"line\":{\"color\":\"white\"}},\"type\":\"table\"}],\"barpolar\":[{\"marker\":{\"line\":{\"color\":\"#E5ECF6\",\"width\":0.5},\"pattern\":{\"fillmode\":\"overlay\",\"size\":10,\"solidity\":0.2}},\"type\":\"barpolar\"}],\"pie\":[{\"automargin\":true,\"type\":\"pie\"}]},\"layout\":{\"autotypenumbers\":\"strict\",\"colorway\":[\"#636efa\",\"#EF553B\",\"#00cc96\",\"#ab63fa\",\"#FFA15A\",\"#19d3f3\",\"#FF6692\",\"#B6E880\",\"#FF97FF\",\"#FECB52\"],\"font\":{\"color\":\"#2a3f5f\"},\"hovermode\":\"closest\",\"hoverlabel\":{\"align\":\"left\"},\"paper_bgcolor\":\"white\",\"plot_bgcolor\":\"#E5ECF6\",\"polar\":{\"bgcolor\":\"#E5ECF6\",\"angularaxis\":{\"gridcolor\":\"white\",\"linecolor\":\"white\",\"ticks\":\"\"},\"radialaxis\":{\"gridcolor\":\"white\",\"linecolor\":\"white\",\"ticks\":\"\"}},\"ternary\":{\"bgcolor\":\"#E5ECF6\",\"aaxis\":{\"gridcolor\":\"white\",\"linecolor\":\"white\",\"ticks\":\"\"},\"baxis\":{\"gridcolor\":\"white\",\"linecolor\":\"white\",\"ticks\":\"\"},\"caxis\":{\"gridcolor\":\"white\",\"linecolor\":\"white\",\"ticks\":\"\"}},\"coloraxis\":{\"colorbar\":{\"outlinewidth\":0,\"ticks\":\"\"}},\"colorscale\":{\"sequential\":[[0.0,\"#0d0887\"],[0.1111111111111111,\"#46039f\"],[0.2222222222222222,\"#7201a8\"],[0.3333333333333333,\"#9c179e\"],[0.4444444444444444,\"#bd3786\"],[0.5555555555555556,\"#d8576b\"],[0.6666666666666666,\"#ed7953\"],[0.7777777777777778,\"#fb9f3a\"],[0.8888888888888888,\"#fdca26\"],[1.0,\"#f0f921\"]],\"sequentialminus\":[[0.0,\"#0d0887\"],[0.1111111111111111,\"#46039f\"],[0.2222222222222222,\"#7201a8\"],[0.3333333333333333,\"#9c179e\"],[0.4444444444444444,\"#bd3786\"],[0.5555555555555556,\"#d8576b\"],[0.6666666666666666,\"#ed7953\"],[0.7777777777777778,\"#fb9f3a\"],[0.8888888888888888,\"#fdca26\"],[1.0,\"#f0f921\"]],\"diverging\":[[0,\"#8e0152\"],[0.1,\"#c51b7d\"],[0.2,\"#de77ae\"],[0.3,\"#f1b6da\"],[0.4,\"#fde0ef\"],[0.5,\"#f7f7f7\"],[0.6,\"#e6f5d0\"],[0.7,\"#b8e186\"],[0.8,\"#7fbc41\"],[0.9,\"#4d9221\"],[1,\"#276419\"]]},\"xaxis\":{\"gridcolor\":\"white\",\"linecolor\":\"white\",\"ticks\":\"\",\"title\":{\"standoff\":15},\"zerolinecolor\":\"white\",\"automargin\":true,\"zerolinewidth\":2},\"yaxis\":{\"gridcolor\":\"white\",\"linecolor\":\"white\",\"ticks\":\"\",\"title\":{\"standoff\":15},\"zerolinecolor\":\"white\",\"automargin\":true,\"zerolinewidth\":2},\"scene\":{\"xaxis\":{\"backgroundcolor\":\"#E5ECF6\",\"gridcolor\":\"white\",\"linecolor\":\"white\",\"showbackground\":true,\"ticks\":\"\",\"zerolinecolor\":\"white\",\"gridwidth\":2},\"yaxis\":{\"backgroundcolor\":\"#E5ECF6\",\"gridcolor\":\"white\",\"linecolor\":\"white\",\"showbackground\":true,\"ticks\":\"\",\"zerolinecolor\":\"white\",\"gridwidth\":2},\"zaxis\":{\"backgroundcolor\":\"#E5ECF6\",\"gridcolor\":\"white\",\"linecolor\":\"white\",\"showbackground\":true,\"ticks\":\"\",\"zerolinecolor\":\"white\",\"gridwidth\":2}},\"shapedefaults\":{\"line\":{\"color\":\"#2a3f5f\"}},\"annotationdefaults\":{\"arrowcolor\":\"#2a3f5f\",\"arrowhead\":0,\"arrowwidth\":1},\"geo\":{\"bgcolor\":\"white\",\"landcolor\":\"#E5ECF6\",\"subunitcolor\":\"white\",\"showland\":true,\"showlakes\":true,\"lakecolor\":\"white\"},\"title\":{\"x\":0.05},\"mapbox\":{\"style\":\"light\"}}},\"hovermode\":\"x\"},                        {\"responsive\": true}                    ).then(function(){\n",
              "                            \n",
              "var gd = document.getElementById('4bd20ea8-9799-495e-bc55-1b71fbb0b665');\n",
              "var x = new MutationObserver(function (mutations, observer) {{\n",
              "        var display = window.getComputedStyle(gd).display;\n",
              "        if (!display || display === 'none') {{\n",
              "            console.log([gd, 'removed!']);\n",
              "            Plotly.purge(gd);\n",
              "            observer.disconnect();\n",
              "        }}\n",
              "}});\n",
              "\n",
              "// Listen for the removal of the full notebook cells\n",
              "var notebookContainer = gd.closest('#notebook-container');\n",
              "if (notebookContainer) {{\n",
              "    x.observe(notebookContainer, {childList: true});\n",
              "}}\n",
              "\n",
              "// Listen for the clearing of the current output cell\n",
              "var outputEl = gd.closest('.output');\n",
              "if (outputEl) {{\n",
              "    x.observe(outputEl, {childList: true});\n",
              "}}\n",
              "\n",
              "                        })                };                            </script>        </div>\n",
              "</body>\n",
              "</html>"
            ]
          },
          "metadata": {}
        }
      ]
    },
    {
      "cell_type": "markdown",
      "source": [
        "#### Métricas"
      ],
      "metadata": {
        "id": "5DJZSDuM9zbv"
      }
    },
    {
      "cell_type": "code",
      "source": [
        "evaluate_model(model_2, [[train_prices, train_features], y_train], [[val_prices, val_features], y_val], [[test_prices, test_features], y_test])"
      ],
      "metadata": {
        "id": "FGkJ3j0k3vqp",
        "outputId": "7a846b82-4818-494d-aa42-2594f6d764ef",
        "colab": {
          "base_uri": "https://localhost:8080/"
        }
      },
      "execution_count": 58,
      "outputs": [
        {
          "output_type": "stream",
          "name": "stdout",
          "text": [
            "train cross_entropy =  0.9994933605194092\n",
            "  val cross_entropy =  1.0425559282302856\n",
            " test cross_entropy =  1.05935537815094\n"
          ]
        }
      ]
    },
    {
      "cell_type": "markdown",
      "source": [
        "## Guardando el mejor modelo"
      ],
      "metadata": {
        "id": "Bkzl6Rl3MpjA"
      }
    },
    {
      "cell_type": "code",
      "source": [
        "model_2.save('best_model.h5')"
      ],
      "metadata": {
        "id": "mt-RDfH5Mr-t"
      },
      "execution_count": 59,
      "outputs": []
    },
    {
      "cell_type": "markdown",
      "source": [
        "# Cargar el modelo guardado"
      ],
      "metadata": {
        "id": "NPGWlldUNYWg"
      }
    },
    {
      "cell_type": "code",
      "source": [
        "best_model = keras.models.load_model('best_model.h5')\n",
        "best_model.summary()"
      ],
      "metadata": {
        "id": "_yc7PIa7NahC",
        "outputId": "8fb891fc-845f-4abe-e4db-f790545f95a7",
        "colab": {
          "base_uri": "https://localhost:8080/"
        }
      },
      "execution_count": 62,
      "outputs": [
        {
          "output_type": "stream",
          "name": "stdout",
          "text": [
            "Model: \"model_1\"\n",
            "__________________________________________________________________________________________________\n",
            " Layer (type)                   Output Shape         Param #     Connected to                     \n",
            "==================================================================================================\n",
            " sentiment_input (InputLayer)   [(None, 48, 10)]     0           []                               \n",
            "                                                                                                  \n",
            " sentiment_normalization (Norma  (None, 48, 10)      97          ['sentiment_input[0][0]']        \n",
            " lization)                                                                                        \n",
            "                                                                                                  \n",
            " price_input (InputLayer)       [(None, 5)]          0           []                               \n",
            "                                                                                                  \n",
            " sentiment (LSTM)               (None, 8)            608         ['sentiment_normalization[0][0]']\n",
            "                                                                                                  \n",
            " price (Sequential)             (None, 8)            275         ['price_input[0][0]']            \n",
            "                                                                                                  \n",
            " hadamard_product (Multiply)    (None, 8)            0           ['sentiment[0][0]',              \n",
            "                                                                  'price[0][0]']                  \n",
            "                                                                                                  \n",
            " prediction (Sequential)        (None, 3)            243         ['hadamard_product[0][0]']       \n",
            "                                                                                                  \n",
            "==================================================================================================\n",
            "Total params: 1,223\n",
            "Trainable params: 1,115\n",
            "Non-trainable params: 108\n",
            "__________________________________________________________________________________________________\n"
          ]
        }
      ]
    },
    {
      "cell_type": "code",
      "source": [
        "evaluate_model(best_model, [[train_prices, train_features], y_train], [[val_prices, val_features], y_val], [[test_prices, test_features], y_test])"
      ],
      "metadata": {
        "id": "FcNI6n5gNjPt",
        "outputId": "6892c98a-c006-4904-f426-4e2be9e0b610",
        "colab": {
          "base_uri": "https://localhost:8080/"
        }
      },
      "execution_count": 63,
      "outputs": [
        {
          "output_type": "stream",
          "name": "stdout",
          "text": [
            "train cross_entropy =  0.9994933605194092\n",
            "  val cross_entropy =  1.0425559282302856\n",
            " test cross_entropy =  1.05935537815094\n"
          ]
        }
      ]
    },
    {
      "cell_type": "markdown",
      "source": [
        "# Resumen\n",
        "\n",
        "Respecto a la segunda arquitectura:\n",
        "\n",
        "1. Fue la que tuvo mejores resultados con entropía cruzada de $0.9843$, $1.0256$ y $1.0329$ para los conjuntos de entrenamiento, validación y prueba, respectivamente.\n",
        "2. Tardó menos épocas en entrenar\n",
        "\n"
      ],
      "metadata": {
        "id": "WIJI7v2IBK7t"
      }
    },
    {
      "cell_type": "markdown",
      "source": [
        "# Ejercicios"
      ],
      "metadata": {
        "id": "8mHRbHGAKjxO"
      }
    },
    {
      "cell_type": "markdown",
      "source": [
        "1. Crear un nuevo modelo ya sea haciendo modificaciones a alguna de las arquitecturas presentes, o comenzando desde cero. Escriba sus observaciones comparando el resultado con el mejor la Segunda Arquitectura. Como sugerencia, puede probar cambiando los datos de entrada, las capas de las redes secuenciales, la fusión de los datos, agregando regularización o dropout, callbacks, etc. \n",
        "2. ¿Cómo haría la predicción para nuevos valores?\n",
        "\n",
        "3. Cree las matrices de confusión para la última red neuronal, así como el classification report.\n"
      ],
      "metadata": {
        "id": "5Y73It2dKmdF"
      }
    }
  ]
}