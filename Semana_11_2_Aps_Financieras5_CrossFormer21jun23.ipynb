{
  "nbformat": 4,
  "nbformat_minor": 0,
  "metadata": {
    "colab": {
      "provenance": [],
      "include_colab_link": true
    },
    "kernelspec": {
      "name": "python3",
      "display_name": "Python 3"
    },
    "language_info": {
      "name": "python"
    }
  },
  "cells": [
    {
      "cell_type": "markdown",
      "metadata": {
        "id": "view-in-github",
        "colab_type": "text"
      },
      "source": [
        "<a href=\"https://colab.research.google.com/github/RYU-MCFLY/Aplicaciones-Financieras/blob/main/Semana_11_2_Aps_Financieras5_CrossFormer21jun23.ipynb\" target=\"_parent\"><img src=\"https://colab.research.google.com/assets/colab-badge.svg\" alt=\"Open In Colab\"/></a>"
      ]
    },
    {
      "cell_type": "markdown",
      "source": [
        "# Crossformers: Transformer para series de tiempo, en que la información tenga componentes seccionales (respecto al tiempo)\n",
        "\n",
        "\n",
        "Referencia: https://github.com/Thinklab-SJTU/Crossformer"
      ],
      "metadata": {
        "id": "10Bxp395Yuwd"
      }
    },
    {
      "cell_type": "code",
      "source": [
        "!git clone https://github.com/Thinklab-SJTU/Crossformer"
      ],
      "metadata": {
        "colab": {
          "base_uri": "https://localhost:8080/"
        },
        "id": "Shbi1YVO4i21",
        "outputId": "660712eb-45a0-452a-f89e-94ccbc52fc07"
      },
      "execution_count": null,
      "outputs": [
        {
          "output_type": "stream",
          "name": "stdout",
          "text": [
            "Cloning into 'Crossformer'...\n",
            "remote: Enumerating objects: 74, done.\u001b[K\n",
            "remote: Counting objects: 100% (74/74), done.\u001b[K\n",
            "remote: Compressing objects: 100% (61/61), done.\u001b[K\n",
            "remote: Total 74 (delta 15), reused 70 (delta 11), pack-reused 0\u001b[K\n",
            "Unpacking objects: 100% (74/74), 2.27 MiB | 4.55 MiB/s, done.\n"
          ]
        }
      ]
    },
    {
      "cell_type": "code",
      "source": [
        "%cd /content/Crossformer/"
      ],
      "metadata": {
        "colab": {
          "base_uri": "https://localhost:8080/"
        },
        "id": "ogMiRVl55bQr",
        "outputId": "38d1f236-d398-42dc-d2b9-5111a6102901"
      },
      "execution_count": null,
      "outputs": [
        {
          "output_type": "stream",
          "name": "stdout",
          "text": [
            "/content/Crossformer\n"
          ]
        }
      ]
    },
    {
      "cell_type": "code",
      "source": [
        "!ls"
      ],
      "metadata": {
        "colab": {
          "base_uri": "https://localhost:8080/"
        },
        "id": "0aHXW5Gp5cVY",
        "outputId": "46aa21e8-65a1-4eb3-f78f-57a40101b31d"
      },
      "execution_count": null,
      "outputs": [
        {
          "output_type": "stream",
          "name": "stdout",
          "text": [
            "cross_exp     data\teval_crossformer.py  pic\trequirements.txt  utils\n",
            "cross_models  datasets\tmain_crossformer.py  readme.md\tscripts\n"
          ]
        }
      ]
    },
    {
      "cell_type": "code",
      "source": [
        "# !pip install -r requirements.txt"
      ],
      "metadata": {
        "id": "YCTiGR9vNwcc"
      },
      "execution_count": null,
      "outputs": []
    },
    {
      "cell_type": "code",
      "source": [
        "!pip install einops==0.4.1"
      ],
      "metadata": {
        "colab": {
          "base_uri": "https://localhost:8080/"
        },
        "id": "APGlPEEq6AFu",
        "outputId": "13b3c2e5-e2db-460a-9796-099825bed5b1"
      },
      "execution_count": null,
      "outputs": [
        {
          "output_type": "stream",
          "name": "stdout",
          "text": [
            "Looking in indexes: https://pypi.org/simple, https://us-python.pkg.dev/colab-wheels/public/simple/\n",
            "Collecting einops==0.4.1\n",
            "  Using cached einops-0.4.1-py3-none-any.whl (28 kB)\n",
            "Installing collected packages: einops\n",
            "Successfully installed einops-0.4.1\n"
          ]
        }
      ]
    },
    {
      "cell_type": "markdown",
      "source": [
        "# Datos"
      ],
      "metadata": {
        "id": "tNj56kOkUMe0"
      }
    },
    {
      "cell_type": "code",
      "source": [
        "import numpy as np\n",
        "import pandas as pd"
      ],
      "metadata": {
        "id": "iWCFW2OZtTzm"
      },
      "execution_count": null,
      "outputs": []
    },
    {
      "cell_type": "code",
      "source": [
        "from google.colab import drive\n",
        "drive.mount('/content/drive')"
      ],
      "metadata": {
        "colab": {
          "base_uri": "https://localhost:8080/"
        },
        "id": "p4TPM1UNZUMX",
        "outputId": "db1dabf3-e576-40b1-aca7-90642c30ebf4"
      },
      "execution_count": null,
      "outputs": [
        {
          "output_type": "stream",
          "name": "stdout",
          "text": [
            "Mounted at /content/drive\n"
          ]
        }
      ]
    },
    {
      "cell_type": "code",
      "source": [
        "# Datos de gasto energético\n",
        "data = pd.read_csv('datasets/ETTh1.csv')\n",
        "data"
      ],
      "metadata": {
        "colab": {
          "base_uri": "https://localhost:8080/",
          "height": 424
        },
        "id": "t1n9FjpuUNqG",
        "outputId": "5a4b58c1-c7ec-445d-8e85-940ef3bbeb1b"
      },
      "execution_count": null,
      "outputs": [
        {
          "output_type": "execute_result",
          "data": {
            "text/plain": [
              "                      date    HUFL   HULL   MUFL   MULL   LUFL   LULL  \\\n",
              "0      2016-07-01 00:00:00   5.827  2.009  1.599  0.462  4.203  1.340   \n",
              "1      2016-07-01 01:00:00   5.693  2.076  1.492  0.426  4.142  1.371   \n",
              "2      2016-07-01 02:00:00   5.157  1.741  1.279  0.355  3.777  1.218   \n",
              "3      2016-07-01 03:00:00   5.090  1.942  1.279  0.391  3.807  1.279   \n",
              "4      2016-07-01 04:00:00   5.358  1.942  1.492  0.462  3.868  1.279   \n",
              "...                    ...     ...    ...    ...    ...    ...    ...   \n",
              "17415  2018-06-26 15:00:00  -1.674  3.550 -5.615  2.132  3.472  1.523   \n",
              "17416  2018-06-26 16:00:00  -5.492  4.287 -9.132  2.274  3.533  1.675   \n",
              "17417  2018-06-26 17:00:00   2.813  3.818 -0.817  2.097  3.716  1.523   \n",
              "17418  2018-06-26 18:00:00   9.243  3.818  5.472  2.097  3.655  1.432   \n",
              "17419  2018-06-26 19:00:00  10.114  3.550  6.183  1.564  3.716  1.462   \n",
              "\n",
              "              OT  \n",
              "0      30.531000  \n",
              "1      27.787001  \n",
              "2      27.787001  \n",
              "3      25.044001  \n",
              "4      21.948000  \n",
              "...          ...  \n",
              "17415  10.904000  \n",
              "17416  11.044000  \n",
              "17417  10.271000  \n",
              "17418   9.778000  \n",
              "17419   9.567000  \n",
              "\n",
              "[17420 rows x 8 columns]"
            ],
            "text/html": [
              "\n",
              "  <div id=\"df-8bab46cf-653c-472d-ba16-15e1c733d5b7\">\n",
              "    <div class=\"colab-df-container\">\n",
              "      <div>\n",
              "<style scoped>\n",
              "    .dataframe tbody tr th:only-of-type {\n",
              "        vertical-align: middle;\n",
              "    }\n",
              "\n",
              "    .dataframe tbody tr th {\n",
              "        vertical-align: top;\n",
              "    }\n",
              "\n",
              "    .dataframe thead th {\n",
              "        text-align: right;\n",
              "    }\n",
              "</style>\n",
              "<table border=\"1\" class=\"dataframe\">\n",
              "  <thead>\n",
              "    <tr style=\"text-align: right;\">\n",
              "      <th></th>\n",
              "      <th>date</th>\n",
              "      <th>HUFL</th>\n",
              "      <th>HULL</th>\n",
              "      <th>MUFL</th>\n",
              "      <th>MULL</th>\n",
              "      <th>LUFL</th>\n",
              "      <th>LULL</th>\n",
              "      <th>OT</th>\n",
              "    </tr>\n",
              "  </thead>\n",
              "  <tbody>\n",
              "    <tr>\n",
              "      <th>0</th>\n",
              "      <td>2016-07-01 00:00:00</td>\n",
              "      <td>5.827</td>\n",
              "      <td>2.009</td>\n",
              "      <td>1.599</td>\n",
              "      <td>0.462</td>\n",
              "      <td>4.203</td>\n",
              "      <td>1.340</td>\n",
              "      <td>30.531000</td>\n",
              "    </tr>\n",
              "    <tr>\n",
              "      <th>1</th>\n",
              "      <td>2016-07-01 01:00:00</td>\n",
              "      <td>5.693</td>\n",
              "      <td>2.076</td>\n",
              "      <td>1.492</td>\n",
              "      <td>0.426</td>\n",
              "      <td>4.142</td>\n",
              "      <td>1.371</td>\n",
              "      <td>27.787001</td>\n",
              "    </tr>\n",
              "    <tr>\n",
              "      <th>2</th>\n",
              "      <td>2016-07-01 02:00:00</td>\n",
              "      <td>5.157</td>\n",
              "      <td>1.741</td>\n",
              "      <td>1.279</td>\n",
              "      <td>0.355</td>\n",
              "      <td>3.777</td>\n",
              "      <td>1.218</td>\n",
              "      <td>27.787001</td>\n",
              "    </tr>\n",
              "    <tr>\n",
              "      <th>3</th>\n",
              "      <td>2016-07-01 03:00:00</td>\n",
              "      <td>5.090</td>\n",
              "      <td>1.942</td>\n",
              "      <td>1.279</td>\n",
              "      <td>0.391</td>\n",
              "      <td>3.807</td>\n",
              "      <td>1.279</td>\n",
              "      <td>25.044001</td>\n",
              "    </tr>\n",
              "    <tr>\n",
              "      <th>4</th>\n",
              "      <td>2016-07-01 04:00:00</td>\n",
              "      <td>5.358</td>\n",
              "      <td>1.942</td>\n",
              "      <td>1.492</td>\n",
              "      <td>0.462</td>\n",
              "      <td>3.868</td>\n",
              "      <td>1.279</td>\n",
              "      <td>21.948000</td>\n",
              "    </tr>\n",
              "    <tr>\n",
              "      <th>...</th>\n",
              "      <td>...</td>\n",
              "      <td>...</td>\n",
              "      <td>...</td>\n",
              "      <td>...</td>\n",
              "      <td>...</td>\n",
              "      <td>...</td>\n",
              "      <td>...</td>\n",
              "      <td>...</td>\n",
              "    </tr>\n",
              "    <tr>\n",
              "      <th>17415</th>\n",
              "      <td>2018-06-26 15:00:00</td>\n",
              "      <td>-1.674</td>\n",
              "      <td>3.550</td>\n",
              "      <td>-5.615</td>\n",
              "      <td>2.132</td>\n",
              "      <td>3.472</td>\n",
              "      <td>1.523</td>\n",
              "      <td>10.904000</td>\n",
              "    </tr>\n",
              "    <tr>\n",
              "      <th>17416</th>\n",
              "      <td>2018-06-26 16:00:00</td>\n",
              "      <td>-5.492</td>\n",
              "      <td>4.287</td>\n",
              "      <td>-9.132</td>\n",
              "      <td>2.274</td>\n",
              "      <td>3.533</td>\n",
              "      <td>1.675</td>\n",
              "      <td>11.044000</td>\n",
              "    </tr>\n",
              "    <tr>\n",
              "      <th>17417</th>\n",
              "      <td>2018-06-26 17:00:00</td>\n",
              "      <td>2.813</td>\n",
              "      <td>3.818</td>\n",
              "      <td>-0.817</td>\n",
              "      <td>2.097</td>\n",
              "      <td>3.716</td>\n",
              "      <td>1.523</td>\n",
              "      <td>10.271000</td>\n",
              "    </tr>\n",
              "    <tr>\n",
              "      <th>17418</th>\n",
              "      <td>2018-06-26 18:00:00</td>\n",
              "      <td>9.243</td>\n",
              "      <td>3.818</td>\n",
              "      <td>5.472</td>\n",
              "      <td>2.097</td>\n",
              "      <td>3.655</td>\n",
              "      <td>1.432</td>\n",
              "      <td>9.778000</td>\n",
              "    </tr>\n",
              "    <tr>\n",
              "      <th>17419</th>\n",
              "      <td>2018-06-26 19:00:00</td>\n",
              "      <td>10.114</td>\n",
              "      <td>3.550</td>\n",
              "      <td>6.183</td>\n",
              "      <td>1.564</td>\n",
              "      <td>3.716</td>\n",
              "      <td>1.462</td>\n",
              "      <td>9.567000</td>\n",
              "    </tr>\n",
              "  </tbody>\n",
              "</table>\n",
              "<p>17420 rows × 8 columns</p>\n",
              "</div>\n",
              "      <button class=\"colab-df-convert\" onclick=\"convertToInteractive('df-8bab46cf-653c-472d-ba16-15e1c733d5b7')\"\n",
              "              title=\"Convert this dataframe to an interactive table.\"\n",
              "              style=\"display:none;\">\n",
              "        \n",
              "  <svg xmlns=\"http://www.w3.org/2000/svg\" height=\"24px\"viewBox=\"0 0 24 24\"\n",
              "       width=\"24px\">\n",
              "    <path d=\"M0 0h24v24H0V0z\" fill=\"none\"/>\n",
              "    <path d=\"M18.56 5.44l.94 2.06.94-2.06 2.06-.94-2.06-.94-.94-2.06-.94 2.06-2.06.94zm-11 1L8.5 8.5l.94-2.06 2.06-.94-2.06-.94L8.5 2.5l-.94 2.06-2.06.94zm10 10l.94 2.06.94-2.06 2.06-.94-2.06-.94-.94-2.06-.94 2.06-2.06.94z\"/><path d=\"M17.41 7.96l-1.37-1.37c-.4-.4-.92-.59-1.43-.59-.52 0-1.04.2-1.43.59L10.3 9.45l-7.72 7.72c-.78.78-.78 2.05 0 2.83L4 21.41c.39.39.9.59 1.41.59.51 0 1.02-.2 1.41-.59l7.78-7.78 2.81-2.81c.8-.78.8-2.07 0-2.86zM5.41 20L4 18.59l7.72-7.72 1.47 1.35L5.41 20z\"/>\n",
              "  </svg>\n",
              "      </button>\n",
              "      \n",
              "  <style>\n",
              "    .colab-df-container {\n",
              "      display:flex;\n",
              "      flex-wrap:wrap;\n",
              "      gap: 12px;\n",
              "    }\n",
              "\n",
              "    .colab-df-convert {\n",
              "      background-color: #E8F0FE;\n",
              "      border: none;\n",
              "      border-radius: 50%;\n",
              "      cursor: pointer;\n",
              "      display: none;\n",
              "      fill: #1967D2;\n",
              "      height: 32px;\n",
              "      padding: 0 0 0 0;\n",
              "      width: 32px;\n",
              "    }\n",
              "\n",
              "    .colab-df-convert:hover {\n",
              "      background-color: #E2EBFA;\n",
              "      box-shadow: 0px 1px 2px rgba(60, 64, 67, 0.3), 0px 1px 3px 1px rgba(60, 64, 67, 0.15);\n",
              "      fill: #174EA6;\n",
              "    }\n",
              "\n",
              "    [theme=dark] .colab-df-convert {\n",
              "      background-color: #3B4455;\n",
              "      fill: #D2E3FC;\n",
              "    }\n",
              "\n",
              "    [theme=dark] .colab-df-convert:hover {\n",
              "      background-color: #434B5C;\n",
              "      box-shadow: 0px 1px 3px 1px rgba(0, 0, 0, 0.15);\n",
              "      filter: drop-shadow(0px 1px 2px rgba(0, 0, 0, 0.3));\n",
              "      fill: #FFFFFF;\n",
              "    }\n",
              "  </style>\n",
              "\n",
              "      <script>\n",
              "        const buttonEl =\n",
              "          document.querySelector('#df-8bab46cf-653c-472d-ba16-15e1c733d5b7 button.colab-df-convert');\n",
              "        buttonEl.style.display =\n",
              "          google.colab.kernel.accessAllowed ? 'block' : 'none';\n",
              "\n",
              "        async function convertToInteractive(key) {\n",
              "          const element = document.querySelector('#df-8bab46cf-653c-472d-ba16-15e1c733d5b7');\n",
              "          const dataTable =\n",
              "            await google.colab.kernel.invokeFunction('convertToInteractive',\n",
              "                                                     [key], {});\n",
              "          if (!dataTable) return;\n",
              "\n",
              "          const docLinkHtml = 'Like what you see? Visit the ' +\n",
              "            '<a target=\"_blank\" href=https://colab.research.google.com/notebooks/data_table.ipynb>data table notebook</a>'\n",
              "            + ' to learn more about interactive tables.';\n",
              "          element.innerHTML = '';\n",
              "          dataTable['output_type'] = 'display_data';\n",
              "          await google.colab.output.renderOutput(dataTable, element);\n",
              "          const docLink = document.createElement('div');\n",
              "          docLink.innerHTML = docLinkHtml;\n",
              "          element.appendChild(docLink);\n",
              "        }\n",
              "      </script>\n",
              "    </div>\n",
              "  </div>\n",
              "  "
            ]
          },
          "metadata": {},
          "execution_count": 24
        }
      ]
    },
    {
      "cell_type": "markdown",
      "source": [
        "Mas información sobre estos datos puede ser encontrada en el siguiente [enlace](https://github.com/zhouhaoyi/ETDataset)"
      ],
      "metadata": {
        "id": "Wpm-yR_PVPOM"
      }
    },
    {
      "cell_type": "markdown",
      "source": [
        "Las columnas de los datos representan:\n",
        "\n",
        "- HUFL: High Useful Load\n",
        "- HULL: High UseLess Load\n",
        "- MUFL: Middle UseFul Load\n",
        "- MULL: Middle UseLess Load\n",
        "- LUFL: Low UseFul Load\n",
        "- LULL: Low UseLess Load\n",
        "- OT: Oil Temperature"
      ],
      "metadata": {
        "id": "abNApRbMVes3"
      }
    },
    {
      "cell_type": "markdown",
      "source": [
        "# Archivo \" main_crossformer.py\" (no es necesario correr la siguiente celda)"
      ],
      "metadata": {
        "id": "xe4uBLCZTz1o"
      }
    },
    {
      "cell_type": "code",
      "source": [
        "# ARCHIVO:  main_crossformer.py\n",
        "import argparse\n",
        "import os\n",
        "import torch\n",
        "\n",
        "from cross_exp.exp_crossformer import Exp_crossformer\n",
        "from utils.tools import string_split\n",
        "\n",
        "parser = argparse.ArgumentParser(description='CrossFormer')\n",
        "\n",
        "parser.add_argument('--data', type=str, required=True, default='ETTh1', help='data')\n",
        "parser.add_argument('--root_path', type=str, default='./datasets/', help='root path of the data file')\n",
        "parser.add_argument('--data_path', type=str, default='ETTh1.csv', help='data file')\n",
        "parser.add_argument('--data_split', type=str, default='0.7,0.1,0.2',help='train/val/test split, can be ratio or number')\n",
        "parser.add_argument('--checkpoints', type=str, default='./checkpoints/', help='location to store model checkpoints')\n",
        "\n",
        "parser.add_argument('--in_len', type=int, default=96, help='input MTS length (T)')\n",
        "parser.add_argument('--out_len', type=int, default=24, help='output MTS length (\\tau)')\n",
        "parser.add_argument('--seg_len', type=int, default=6, help='segment length (L_seg)')\n",
        "parser.add_argument('--win_size', type=int, default=2, help='window size for segment merge')\n",
        "parser.add_argument('--factor', type=int, default=10, help='num of routers in Cross-Dimension Stage of TSA (c)')\n",
        "\n",
        "parser.add_argument('--data_dim', type=int, default=7, help='Number of dimensions of the MTS data (D)')\n",
        "parser.add_argument('--d_model', type=int, default=256, help='dimension of hidden states (d_model)')\n",
        "parser.add_argument('--d_ff', type=int, default=512, help='dimension of MLP in transformer')\n",
        "parser.add_argument('--n_heads', type=int, default=4, help='num of heads')\n",
        "parser.add_argument('--e_layers', type=int, default=3, help='num of encoder layers (N)')\n",
        "parser.add_argument('--dropout', type=float, default=0.2, help='dropout')\n",
        "\n",
        "parser.add_argument('--baseline', action='store_true', help='whether to use mean of past series as baseline for prediction', default=False)\n",
        "\n",
        "parser.add_argument('--num_workers', type=int, default=0, help='data loader num workers')\n",
        "parser.add_argument('--batch_size', type=int, default=32, help='batch size of train input data')\n",
        "parser.add_argument('--train_epochs', type=int, default=20, help='train epochs')\n",
        "parser.add_argument('--patience', type=int, default=3, help='early stopping patience')\n",
        "parser.add_argument('--learning_rate', type=float, default=1e-4, help='optimizer initial learning rate')\n",
        "parser.add_argument('--lradj', type=str, default='type1',help='adjust learning rate')\n",
        "parser.add_argument('--itr', type=int, default=1, help='experiments times')\n",
        "\n",
        "parser.add_argument('--save_pred', action='store_true', help='whether to save the predicted future MTS', default=False)\n",
        "\n",
        "parser.add_argument('--use_gpu', type=bool, default=True, help='use gpu')\n",
        "parser.add_argument('--gpu', type=int, default=0, help='gpu')\n",
        "parser.add_argument('--use_multi_gpu', action='store_true', help='use multiple gpus', default=False)\n",
        "parser.add_argument('--devices', type=str, default='0,1,2,3',help='device ids of multile gpus')\n",
        "\n",
        "args = parser.parse_args()\n",
        "\n",
        "args.use_gpu = True if torch.cuda.is_available() and args.use_gpu else False\n",
        "\n",
        "if args.use_gpu and args.use_multi_gpu:\n",
        "    args.devices = args.devices.replace(' ','')\n",
        "    device_ids = args.devices.split(',')\n",
        "    args.device_ids = [int(id_) for id_ in device_ids]\n",
        "    args.gpu = args.device_ids[0]\n",
        "    print(args.gpu)\n",
        "\n",
        "data_parser = {\n",
        "    'ETTh1':{'data':'ETTh1.csv', 'data_dim':7, 'split':[12*30*24, 4*30*24, 4*30*24]},\n",
        "    'ETTm1':{'data':'ETTm1.csv', 'data_dim':7, 'split':[4*12*30*24, 4*4*30*24, 4*4*30*24]},\n",
        "    'WTH':{'data':'WTH.csv', 'data_dim':12, 'split':[28*30*24, 10*30*24, 10*30*24]},\n",
        "    'ECL':{'data':'ECL.csv', 'data_dim':321, 'split':[15*30*24, 3*30*24, 4*30*24]},\n",
        "    'ILI':{'data':'national_illness.csv', 'data_dim':7, 'split':[0.7, 0.1, 0.2]},\n",
        "    'Traffic':{'data':'traffic.csv', 'data_dim':862, 'split':[0.7, 0.1, 0.2]},\n",
        "}\n",
        "if args.data in data_parser.keys():\n",
        "    data_info = data_parser[args.data]\n",
        "    args.data_path = data_info['data']\n",
        "    args.data_dim = data_info['data_dim']\n",
        "    args.data_split = data_info['split']\n",
        "else:\n",
        "    args.data_split = string_split(args.data_split)\n",
        "\n",
        "print('Args in experiment:')\n",
        "print(args)\n",
        "\n",
        "Exp = Exp_crossformer\n",
        "\n",
        "for ii in range(args.itr):\n",
        "    # setting record of experiments\n",
        "    setting = 'Crossformer_{}_il{}_ol{}_sl{}_win{}_fa{}_dm{}_nh{}_el{}_itr{}'.format(args.data,\n",
        "                args.in_len, args.out_len, args.seg_len, args.win_size, args.factor,\n",
        "                args.d_model, args.n_heads, args.e_layers, ii)\n",
        "\n",
        "    exp = Exp(args) # set experiments\n",
        "    print('>>>>>>>start training : {}>>>>>>>>>>>>>>>>>>>>>>>>>>'.format(setting))\n",
        "    exp.train(setting)\n",
        "\n",
        "    print('>>>>>>>testing : {}<<<<<<<<<<<<<<<<<<<<<<<<<<<<<<<<<'.format(setting))\n",
        "    exp.test(setting, args.save_pred)"
      ],
      "metadata": {
        "id": "0jLgWA2aDorw"
      },
      "execution_count": null,
      "outputs": []
    },
    {
      "cell_type": "markdown",
      "source": [
        "## Entrenamiento del crossformer con datos energéticos"
      ],
      "metadata": {
        "id": "gPm4Cx0VZEoj"
      }
    },
    {
      "cell_type": "code",
      "execution_count": null,
      "metadata": {
        "colab": {
          "base_uri": "https://localhost:8080/"
        },
        "id": "Bhy08Kbtt8Ha",
        "outputId": "878ac5d0-fd26-40d3-8b97-045c7224a679"
      },
      "outputs": [
        {
          "output_type": "stream",
          "name": "stdout",
          "text": [
            "Args in experiment:\n",
            "Namespace(data='ETTh1', root_path='./datasets/', data_path='ETTh1.csv', data_split=[8640, 2880, 2880], checkpoints='./checkpoints/', in_len=168, out_len=24, seg_len=6, win_size=2, factor=10, data_dim=7, d_model=256, d_ff=512, n_heads=4, e_layers=3, dropout=0.2, baseline=False, num_workers=0, batch_size=32, train_epochs=5, patience=3, learning_rate=0.0001, lradj='type1', itr=1, save_pred=False, use_gpu=False, gpu=0, use_multi_gpu=False, devices='0,1,2,3')\n",
            "Use CPU\n",
            ">>>>>>>start training : Crossformer_ETTh1_il168_ol24_sl6_win2_fa10_dm256_nh4_el3_itr0>>>>>>>>>>>>>>>>>>>>>>>>>>\n",
            "train 8449\n",
            "val 2857\n",
            "test 2857\n",
            "\titers: 100, epoch: 1 | loss: 0.3629456\n",
            "\tspeed: 3.7152s/iter; left time: 4554.8658s\n",
            "\titers: 200, epoch: 1 | loss: 0.3123556\n",
            "\tspeed: 3.7380s/iter; left time: 4208.9872s\n",
            "Epoch: 1 cost time: 985.327885389328\n",
            "Epoch: 1, Steps: 265 | Train Loss: 0.3948671 Vali Loss: 0.5027746 Test Loss: 0.3318853\n",
            "Validation loss decreased (inf --> 0.502775).  Saving model ...\n",
            "\titers: 100, epoch: 2 | loss: 0.3432262\n",
            "\tspeed: 3.5792s/iter; left time: 3439.6243s\n",
            "\titers: 200, epoch: 2 | loss: 0.2429754\n",
            "\tspeed: 3.6003s/iter; left time: 3099.8209s\n",
            "Epoch: 2 cost time: 952.1764407157898\n",
            "Epoch: 2, Steps: 265 | Train Loss: 0.2848539 Vali Loss: 0.4695747 Test Loss: 0.3143921\n",
            "Validation loss decreased (0.502775 --> 0.469575).  Saving model ...\n",
            "Updating learning rate to 5e-05\n",
            "\titers: 100, epoch: 3 | loss: 0.2759216\n",
            "\tspeed: 3.6033s/iter; left time: 2507.8954s\n",
            "\titers: 200, epoch: 3 | loss: 0.3065287\n",
            "\tspeed: 3.5942s/iter; left time: 2142.1350s\n",
            "Epoch: 3 cost time: 952.3451147079468\n",
            "Epoch: 3, Steps: 265 | Train Loss: 0.2571383 Vali Loss: 0.4359182 Test Loss: 0.2943732\n",
            "Validation loss decreased (0.469575 --> 0.435918).  Saving model ...\n",
            "\titers: 100, epoch: 4 | loss: 0.2380835\n",
            "\tspeed: 3.5774s/iter; left time: 1541.8732s\n",
            "\titers: 200, epoch: 4 | loss: 0.2623485\n",
            "\tspeed: 3.6055s/iter; left time: 1193.4252s\n",
            "Epoch: 4 cost time: 951.6064693927765\n"
          ]
        }
      ],
      "source": [
        "!python main_crossformer.py --data ETTh1 --in_len 168 --out_len 24 --seg_len 6 --itr 1 --train_epochs 5"
      ]
    },
    {
      "cell_type": "markdown",
      "source": [
        "# Archivo \"eval_crossformer.py\" (no es necesario correr la siguiente celda)"
      ],
      "metadata": {
        "id": "5I9bbaPvT4wk"
      }
    },
    {
      "cell_type": "code",
      "source": [
        "# ARCHIVO:  eval_crossformer.py\n",
        "import argparse\n",
        "import os\n",
        "import torch\n",
        "import pickle\n",
        "\n",
        "from cross_exp.exp_crossformer import Exp_crossformer\n",
        "from utils.tools import load_args, string_split\n",
        "\n",
        "parser = argparse.ArgumentParser(description='CrossFormer')\n",
        "\n",
        "parser.add_argument('--checkpoint_root', type=str, default='./checkpoints', help='location of the trained model')\n",
        "parser.add_argument('--setting_name', type=str, default='Crossformer_ETTh1_il168_ol24_sl6_win2_fa10_dm256_nh4_el3_itr0', help='name of the experiment')\n",
        "\n",
        "parser.add_argument('--num_workers', type=int, default=0, help='data loader num workers')\n",
        "parser.add_argument('--batch_size', type=int, default=32, help='batch size of train input data')\n",
        "\n",
        "parser.add_argument('--different_split', action='store_true', help='use data split different from training process', default=False)\n",
        "parser.add_argument('--data_split', type=str, default='0.7,0.1,0.2', help='data split of train, vali, test')\n",
        "\n",
        "parser.add_argument('--inverse', action='store_true', help='inverse output data into the original scale', default=False)\n",
        "parser.add_argument('--save_pred', action='store_true', help='whether to save the predicted future MTS', default=False)\n",
        "\n",
        "parser.add_argument('--use_gpu', type=bool, default=True, help='use gpu')\n",
        "parser.add_argument('--gpu', type=int, default=0, help='gpu')\n",
        "\n",
        "args = parser.parse_args()\n",
        "\n",
        "args.use_gpu = True if torch.cuda.is_available() and args.use_gpu else False\n",
        "args.use_multi_gpu = False\n",
        "\n",
        "args.checkpoint_dir = os.path.join(args.checkpoint_root, args.setting_name)\n",
        "hyper_parameters = load_args(os.path.join(args.checkpoint_dir, 'args.json'))\n",
        "\n",
        "#load the pre-trained model\n",
        "args.data_dim = hyper_parameters['data_dim']; args.in_len = hyper_parameters['in_len']; args.out_len = hyper_parameters['out_len'];\n",
        "args.seg_len = hyper_parameters['seg_len']; args.win_size = hyper_parameters['win_size']; args.factor = hyper_parameters['factor'];\n",
        "args.d_model = hyper_parameters['d_model']; args.d_ff = hyper_parameters['d_ff']; args.n_heads = hyper_parameters['n_heads'];\n",
        "args.e_layers = hyper_parameters['e_layers']; args.dropout = hyper_parameters['dropout']; args.baseline = hyper_parameters['baseline'];\n",
        "exp = Exp_crossformer(args)\n",
        "model_dict = torch.load(os.path.join(args.checkpoint_dir, 'checkpoint.pth'), map_location='cpu')\n",
        "exp.model.load_state_dict(model_dict)\n",
        "\n",
        "#load the data\n",
        "args.scale_statistic = pickle.load(open(os.path.join(args.checkpoint_dir, 'scale_statistic.pkl'), 'rb'))\n",
        "args.root_path = hyper_parameters['root_path']; args.data_path = hyper_parameters['data_path'];\n",
        "if args.different_split:\n",
        "    data_split = string_split(args.data_split)\n",
        "    args.data_split = data_split\n",
        "else:\n",
        "    args.data_split = hyper_parameters['data_split']\n",
        "\n",
        "mae, mse, rmse, mape, mspe = exp.eval(args.setting_name, args.save_pred, args.inverse)\n",
        "\n",
        "folder_path = './results/' + args.setting_name +'/'\n",
        "if not os.path.exists(folder_path):\n",
        "    os.makedirs(folder_path)\n",
        "log_file = open(folder_path+'metric.log', 'w')\n",
        "log_file.write('Data Path: {}\\n'.format(os.path.join(args.root_path, args.data_path)))\n",
        "log_file.write('Data Split: {}\\n'.format(args.data_split))\n",
        "log_file.write('Input Length:{}   Output Length:{}\\n'.format(args.in_len, args.out_len))\n",
        "log_file.write('Inverse to original scale: {}\\n\\n'.format(args.inverse))\n",
        "log_file.write('MAE:{}\\nMSE:{}\\nRMSE:{}\\nMAPE:{}\\nMSPE:{}\\n'.format(mae, mse, rmse, mape, mspe))\n",
        "log_file.close()\n",
        "\n"
      ],
      "metadata": {
        "id": "RNGTtgnwDdqA"
      },
      "execution_count": null,
      "outputs": []
    },
    {
      "cell_type": "markdown",
      "source": [
        "## Evaluación del crossformer para datos energéticos"
      ],
      "metadata": {
        "id": "0Mm2tehMZJgR"
      }
    },
    {
      "cell_type": "code",
      "source": [
        "!python eval_crossformer.py --checkpoint_root ./checkpoints --setting_name Crossformer_ETTh1_il168_ol24_sl6_win2_fa10_dm256_nh4_el3_itr0 --save_pred"
      ],
      "metadata": {
        "colab": {
          "base_uri": "https://localhost:8080/"
        },
        "id": "gRNFVaCSeSvT",
        "outputId": "8694199f-bfc9-473d-fd64-ca109dcafa0a"
      },
      "execution_count": null,
      "outputs": [
        {
          "output_type": "stream",
          "name": "stdout",
          "text": [
            "Use CPU\n",
            "mse:0.29987940192222595, mae:0.35912710428237915\n"
          ]
        }
      ]
    },
    {
      "cell_type": "code",
      "source": [
        "aaa = np.load('/content/Crossformer/results/Crossformer_ETTh1_il168_ol24_sl6_win2_fa10_dm256_nh4_el3_itr0/pred.npy')"
      ],
      "metadata": {
        "id": "TQL3GTVQEQ_5"
      },
      "execution_count": null,
      "outputs": []
    },
    {
      "cell_type": "code",
      "source": [
        "aaa[0][0][:,0] # de 24 x 7, dimensión de los datos de entrada"
      ],
      "metadata": {
        "colab": {
          "base_uri": "https://localhost:8080/"
        },
        "id": "Y3ZDqxxDPDGS",
        "outputId": "d6fc7397-b063-432b-c99b-411ba2adcd8f"
      },
      "execution_count": null,
      "outputs": [
        {
          "output_type": "execute_result",
          "data": {
            "text/plain": [
              "array([[ 0.3450942 ,  0.5370596 ,  0.5442071 ,  0.64566016, -0.24150851,\n",
              "         0.371054  , -1.0810331 ],\n",
              "       [ 0.430861  ,  0.76684034,  0.61297965,  0.79970473, -0.19564533,\n",
              "         0.46197665, -1.0745885 ],\n",
              "       [ 0.23844552,  0.5856557 ,  0.43291944,  0.61845124, -0.39271137,\n",
              "         0.47589853, -1.1143143 ],\n",
              "       [ 0.16875565,  0.471321  ,  0.39063758,  0.3897835 , -0.4809264 ,\n",
              "         0.41798633, -1.0809681 ],\n",
              "       [ 0.3168033 ,  0.4185969 ,  0.5040122 ,  0.27952838, -0.23551649,\n",
              "         0.43420127, -1.1073275 ],\n",
              "       [ 0.3901978 ,  0.4017012 ,  0.5295799 ,  0.3332271 ,  0.05901045,\n",
              "         0.44380873, -1.1288794 ],\n",
              "       [ 0.4157943 ,  0.3429999 ,  0.4361989 ,  0.27716795,  0.58986235,\n",
              "         0.4750986 , -1.1174113 ],\n",
              "       [ 0.2116422 ,  0.44530982,  0.20909429,  0.39127585,  0.6332527 ,\n",
              "         0.59296787, -1.0319574 ],\n",
              "       [-0.4205979 ,  0.30370104, -0.41266358,  0.27360332,  0.26581115,\n",
              "         0.55360454, -1.1007845 ],\n",
              "       [-1.1069531 ,  0.20802125, -1.0653214 ,  0.14862035, -0.05430755,\n",
              "         0.49089614, -1.0404859 ],\n",
              "       [-1.7073319 ,  0.29167596, -1.6704563 ,  0.21013069, -0.06325769,\n",
              "         0.5088483 , -1.0021826 ],\n",
              "       [-2.0704145 ,  0.376773  , -2.0653157 ,  0.31357074, -0.08861246,\n",
              "         0.4108945 , -0.92265975],\n",
              "       [-2.3674881 ,  0.15259853, -2.3515415 ,  0.21003121, -0.3853166 ,\n",
              "         0.43662792, -0.89724386],\n",
              "       [-2.3117778 ,  0.1944628 , -2.3207169 ,  0.29108402, -0.55492413,\n",
              "         0.5078894 , -0.8842775 ],\n",
              "       [-2.1221097 ,  0.04611936, -2.051315  ,  0.15847999, -0.7798123 ,\n",
              "         0.45525047, -0.94742787],\n",
              "       [-1.6013265 , -0.16570145, -1.5324152 , -0.09172541, -0.6680431 ,\n",
              "         0.4552753 , -0.93634963],\n",
              "       [-0.9537432 , -0.357166  , -0.8520107 , -0.24967971, -0.26219738,\n",
              "         0.4462679 , -0.8504969 ],\n",
              "       [-0.4108378 , -0.5873032 , -0.31512457, -0.541983  ,  0.0360729 ,\n",
              "         0.32757902, -0.86828625],\n",
              "       [-0.26083124, -0.76814175, -0.24621427, -0.722078  ,  0.14931661,\n",
              "         0.26036498, -0.9697126 ],\n",
              "       [-0.13101286, -0.720563  , -0.09939423, -0.65224195,  0.39918566,\n",
              "         0.45159048, -0.88756216],\n",
              "       [-0.3023222 , -0.62427205, -0.17632341, -0.62227374,  0.22283593,\n",
              "         0.55355424, -1.0048531 ],\n",
              "       [-0.26167732, -0.4952935 , -0.12709981, -0.54984003, -0.07204222,\n",
              "         0.5421705 , -1.0237852 ],\n",
              "       [ 0.0115096 , -0.04734606,  0.1371128 , -0.04725474, -0.08361828,\n",
              "         0.5415917 , -1.0499957 ],\n",
              "       [ 0.3061604 ,  0.32583112,  0.45915294,  0.38563302, -0.07912099,\n",
              "         0.52380824, -1.066576  ]], dtype=float32)"
            ]
          },
          "metadata": {},
          "execution_count": 51
        }
      ]
    },
    {
      "cell_type": "code",
      "source": [
        "bbb = np.load('/content/Crossformer/results/Crossformer_ETTh1_il168_ol24_sl6_win2_fa10_dm256_nh4_el3_itr0/true.npy')"
      ],
      "metadata": {
        "id": "e19e5G2otff1"
      },
      "execution_count": null,
      "outputs": []
    },
    {
      "cell_type": "code",
      "source": [
        "aaa[0][:,0]\n",
        "bbb[0][:,0]"
      ],
      "metadata": {
        "colab": {
          "base_uri": "https://localhost:8080/"
        },
        "id": "9G9yW3Ejt1C7",
        "outputId": "63318b4a-1f11-40fe-d1ae-46d58b739f45"
      },
      "execution_count": null,
      "outputs": [
        {
          "output_type": "execute_result",
          "data": {
            "text/plain": [
              "array([ 0.351341  ,  0.06335341,  0.14386615,  0.02877421,  0.08623421,\n",
              "        0.08623421,  0.29370925, -0.10954233, -1.5154175 , -2.8289094 ,\n",
              "       -3.4511623 , -3.647111  , -3.589479  , -3.1862276 , -3.3706496 ,\n",
              "       -2.6100802 , -1.3079425 , -0.06343684, -0.0058049 ,  0.05182712,\n",
              "        0.01724792, -0.1902271 ,  0.12081341,  0.5703425 ], dtype=float32)"
            ]
          },
          "metadata": {},
          "execution_count": 58
        }
      ]
    },
    {
      "cell_type": "code",
      "source": [
        "import matplotlib.pyplot as plt"
      ],
      "metadata": {
        "id": "WN8cJ4D4uQMG"
      },
      "execution_count": null,
      "outputs": []
    },
    {
      "cell_type": "markdown",
      "source": [
        "# Comparativo entre valores reales y predicciones, para datos de test\n",
        "\n",
        "OJO: Los datos están estandarizados, por lo que debemos regresarlos a su tamaño original si quisieramos no solo ver que tanto nos acercamos a los valores si no los valores reales tal cual."
      ],
      "metadata": {
        "id": "zTBGj8AODpq4"
      }
    },
    {
      "cell_type": "code",
      "source": [
        "plt.plot(aaa[0][:,0], label=\"Valor predicho\")\n",
        "plt.plot(bbb[0][:,0], label=\"Valor real\")"
      ],
      "metadata": {
        "colab": {
          "base_uri": "https://localhost:8080/",
          "height": 447
        },
        "id": "KjaIlCkYuSfv",
        "outputId": "d5509864-a530-4ac0-e74c-20be3c81b41a"
      },
      "execution_count": null,
      "outputs": [
        {
          "output_type": "execute_result",
          "data": {
            "text/plain": [
              "[<matplotlib.lines.Line2D at 0x7f9faf1a0130>]"
            ]
          },
          "metadata": {},
          "execution_count": 63
        },
        {
          "output_type": "display_data",
          "data": {
            "text/plain": [
              "<Figure size 640x480 with 1 Axes>"
            ],
            "image/png": "[encoded data removed]"
          },
          "metadata": {}
        }
      ]
    },
    {
      "cell_type": "markdown",
      "source": [
        "# Otros datos"
      ],
      "metadata": {
        "id": "1JOINBL7ZudN"
      }
    },
    {
      "cell_type": "code",
      "source": [
        "import yfinance as yf"
      ],
      "metadata": {
        "id": "MsLIWw9PZuXS"
      },
      "execution_count": null,
      "outputs": []
    },
    {
      "cell_type": "code",
      "source": [
        "datos = yf.download(  # or pdr.get_data_yahoo(...\n",
        "        # tickers list or string as well\n",
        "        tickers = \"PFE AAPL IBM MSFT XOM\",\n",
        "\n",
        "        # use \"period\" instead of start/end\n",
        "        # valid periods: 1d,5d,1mo,3mo,6mo,1y,2y,5y,10y,ytd,max\n",
        "        # (optional, default is '1mo')\n",
        "        period = \"2y\",\n",
        "\n",
        "        # fetch data by interval (including intraday if period < 60 days)\n",
        "        # valid intervals: 1m,2m,5m,15m,30m,60m,90m,1h,1d,5d,1wk,1mo,3mo\n",
        "        # (optional, default is '1d')\n",
        "        interval = \"1h\",\n",
        "\n",
        "        # group by ticker (to access via data['SPY'])\n",
        "        # (optional, default is 'column')\n",
        "        # group_by = 'ticker',\n",
        "    ).loc[:, 'Adj Close']\n",
        "datos"
      ],
      "metadata": {
        "colab": {
          "base_uri": "https://localhost:8080/",
          "height": 472
        },
        "id": "DLoyKXz-Z0Pu",
        "outputId": "5ebd949a-bcc2-4c93-b817-bbb54f5b4b19"
      },
      "execution_count": null,
      "outputs": [
        {
          "output_type": "stream",
          "name": "stdout",
          "text": [
            "[*********************100%***********************]  5 of 5 completed\n"
          ]
        },
        {
          "output_type": "execute_result",
          "data": {
            "text/plain": [
              "                                 AAPL         IBM        MSFT        PFE  \\\n",
              "Datetime                                                                   \n",
              "2021-06-22 09:30:00-04:00  132.119904  139.818359  264.214996  39.410000   \n",
              "2021-06-22 10:30:00-04:00  132.615005  139.978210  264.433014  39.540001   \n",
              "2021-06-22 11:30:00-04:00  132.917297  139.426392  264.725006  39.687199   \n",
              "2021-06-22 12:30:00-04:00  133.320099  139.713196  264.549286  39.662998   \n",
              "2021-06-22 13:30:00-04:00  133.335602  139.588913  264.522003  39.505001   \n",
              "...                               ...         ...         ...        ...   \n",
              "2023-06-21 11:30:00-04:00  184.065002  134.046005  333.690002  39.160000   \n",
              "2023-06-21 12:30:00-04:00  184.130005  133.970001  333.669891  39.100101   \n",
              "2023-06-21 13:30:00-04:00  185.100006  133.679993  335.209991  39.148201   \n",
              "2023-06-21 14:30:00-04:00  184.505005  133.800003  334.170013  39.052799   \n",
              "2023-06-21 15:30:00-04:00  183.960007  133.690002  333.559998  38.900002   \n",
              "\n",
              "                                  XOM  \n",
              "Datetime                               \n",
              "2021-06-22 09:30:00-04:00   63.236801  \n",
              "2021-06-22 10:30:00-04:00   63.669998  \n",
              "2021-06-22 11:30:00-04:00   63.570000  \n",
              "2021-06-22 12:30:00-04:00   63.645000  \n",
              "2021-06-22 13:30:00-04:00   63.770000  \n",
              "...                               ...  \n",
              "2023-06-21 11:30:00-04:00  104.489998  \n",
              "2023-06-21 12:30:00-04:00  104.349998  \n",
              "2023-06-21 13:30:00-04:00  104.269997  \n",
              "2023-06-21 14:30:00-04:00  104.153198  \n",
              "2023-06-21 15:30:00-04:00  103.870003  \n",
              "\n",
              "[3513 rows x 5 columns]"
            ],
            "text/html": [
              "\n",
              "  <div id=\"df-abce67eb-2922-4965-91e0-8434a7cc40d0\">\n",
              "    <div class=\"colab-df-container\">\n",
              "      <div>\n",
              "<style scoped>\n",
              "    .dataframe tbody tr th:only-of-type {\n",
              "        vertical-align: middle;\n",
              "    }\n",
              "\n",
              "    .dataframe tbody tr th {\n",
              "        vertical-align: top;\n",
              "    }\n",
              "\n",
              "    .dataframe thead th {\n",
              "        text-align: right;\n",
              "    }\n",
              "</style>\n",
              "<table border=\"1\" class=\"dataframe\">\n",
              "  <thead>\n",
              "    <tr style=\"text-align: right;\">\n",
              "      <th></th>\n",
              "      <th>AAPL</th>\n",
              "      <th>IBM</th>\n",
              "      <th>MSFT</th>\n",
              "      <th>PFE</th>\n",
              "      <th>XOM</th>\n",
              "    </tr>\n",
              "    <tr>\n",
              "      <th>Datetime</th>\n",
              "      <th></th>\n",
              "      <th></th>\n",
              "      <th></th>\n",
              "      <th></th>\n",
              "      <th></th>\n",
              "    </tr>\n",
              "  </thead>\n",
              "  <tbody>\n",
              "    <tr>\n",
              "      <th>2021-06-22 09:30:00-04:00</th>\n",
              "      <td>132.119904</td>\n",
              "      <td>139.818359</td>\n",
              "      <td>264.214996</td>\n",
              "      <td>39.410000</td>\n",
              "      <td>63.236801</td>\n",
              "    </tr>\n",
              "    <tr>\n",
              "      <th>2021-06-22 10:30:00-04:00</th>\n",
              "      <td>132.615005</td>\n",
              "      <td>139.978210</td>\n",
              "      <td>264.433014</td>\n",
              "      <td>39.540001</td>\n",
              "      <td>63.669998</td>\n",
              "    </tr>\n",
              "    <tr>\n",
              "      <th>2021-06-22 11:30:00-04:00</th>\n",
              "      <td>132.917297</td>\n",
              "      <td>139.426392</td>\n",
              "      <td>264.725006</td>\n",
              "      <td>39.687199</td>\n",
              "      <td>63.570000</td>\n",
              "    </tr>\n",
              "    <tr>\n",
              "      <th>2021-06-22 12:30:00-04:00</th>\n",
              "      <td>133.320099</td>\n",
              "      <td>139.713196</td>\n",
              "      <td>264.549286</td>\n",
              "      <td>39.662998</td>\n",
              "      <td>63.645000</td>\n",
              "    </tr>\n",
              "    <tr>\n",
              "      <th>2021-06-22 13:30:00-04:00</th>\n",
              "      <td>133.335602</td>\n",
              "      <td>139.588913</td>\n",
              "      <td>264.522003</td>\n",
              "      <td>39.505001</td>\n",
              "      <td>63.770000</td>\n",
              "    </tr>\n",
              "    <tr>\n",
              "      <th>...</th>\n",
              "      <td>...</td>\n",
              "      <td>...</td>\n",
              "      <td>...</td>\n",
              "      <td>...</td>\n",
              "      <td>...</td>\n",
              "    </tr>\n",
              "    <tr>\n",
              "      <th>2023-06-21 11:30:00-04:00</th>\n",
              "      <td>184.065002</td>\n",
              "      <td>134.046005</td>\n",
              "      <td>333.690002</td>\n",
              "      <td>39.160000</td>\n",
              "      <td>104.489998</td>\n",
              "    </tr>\n",
              "    <tr>\n",
              "      <th>2023-06-21 12:30:00-04:00</th>\n",
              "      <td>184.130005</td>\n",
              "      <td>133.970001</td>\n",
              "      <td>333.669891</td>\n",
              "      <td>39.100101</td>\n",
              "      <td>104.349998</td>\n",
              "    </tr>\n",
              "    <tr>\n",
              "      <th>2023-06-21 13:30:00-04:00</th>\n",
              "      <td>185.100006</td>\n",
              "      <td>133.679993</td>\n",
              "      <td>335.209991</td>\n",
              "      <td>39.148201</td>\n",
              "      <td>104.269997</td>\n",
              "    </tr>\n",
              "    <tr>\n",
              "      <th>2023-06-21 14:30:00-04:00</th>\n",
              "      <td>184.505005</td>\n",
              "      <td>133.800003</td>\n",
              "      <td>334.170013</td>\n",
              "      <td>39.052799</td>\n",
              "      <td>104.153198</td>\n",
              "    </tr>\n",
              "    <tr>\n",
              "      <th>2023-06-21 15:30:00-04:00</th>\n",
              "      <td>183.960007</td>\n",
              "      <td>133.690002</td>\n",
              "      <td>333.559998</td>\n",
              "      <td>38.900002</td>\n",
              "      <td>103.870003</td>\n",
              "    </tr>\n",
              "  </tbody>\n",
              "</table>\n",
              "<p>3513 rows × 5 columns</p>\n",
              "</div>\n",
              "      <button class=\"colab-df-convert\" onclick=\"convertToInteractive('df-abce67eb-2922-4965-91e0-8434a7cc40d0')\"\n",
              "              title=\"Convert this dataframe to an interactive table.\"\n",
              "              style=\"display:none;\">\n",
              "        \n",
              "  <svg xmlns=\"http://www.w3.org/2000/svg\" height=\"24px\"viewBox=\"0 0 24 24\"\n",
              "       width=\"24px\">\n",
              "    <path d=\"M0 0h24v24H0V0z\" fill=\"none\"/>\n",
              "    <path d=\"M18.56 5.44l.94 2.06.94-2.06 2.06-.94-2.06-.94-.94-2.06-.94 2.06-2.06.94zm-11 1L8.5 8.5l.94-2.06 2.06-.94-2.06-.94L8.5 2.5l-.94 2.06-2.06.94zm10 10l.94 2.06.94-2.06 2.06-.94-2.06-.94-.94-2.06-.94 2.06-2.06.94z\"/><path d=\"M17.41 7.96l-1.37-1.37c-.4-.4-.92-.59-1.43-.59-.52 0-1.04.2-1.43.59L10.3 9.45l-7.72 7.72c-.78.78-.78 2.05 0 2.83L4 21.41c.39.39.9.59 1.41.59.51 0 1.02-.2 1.41-.59l7.78-7.78 2.81-2.81c.8-.78.8-2.07 0-2.86zM5.41 20L4 18.59l7.72-7.72 1.47 1.35L5.41 20z\"/>\n",
              "  </svg>\n",
              "      </button>\n",
              "      \n",
              "  <style>\n",
              "    .colab-df-container {\n",
              "      display:flex;\n",
              "      flex-wrap:wrap;\n",
              "      gap: 12px;\n",
              "    }\n",
              "\n",
              "    .colab-df-convert {\n",
              "      background-color: #E8F0FE;\n",
              "      border: none;\n",
              "      border-radius: 50%;\n",
              "      cursor: pointer;\n",
              "      display: none;\n",
              "      fill: #1967D2;\n",
              "      height: 32px;\n",
              "      padding: 0 0 0 0;\n",
              "      width: 32px;\n",
              "    }\n",
              "\n",
              "    .colab-df-convert:hover {\n",
              "      background-color: #E2EBFA;\n",
              "      box-shadow: 0px 1px 2px rgba(60, 64, 67, 0.3), 0px 1px 3px 1px rgba(60, 64, 67, 0.15);\n",
              "      fill: #174EA6;\n",
              "    }\n",
              "\n",
              "    [theme=dark] .colab-df-convert {\n",
              "      background-color: #3B4455;\n",
              "      fill: #D2E3FC;\n",
              "    }\n",
              "\n",
              "    [theme=dark] .colab-df-convert:hover {\n",
              "      background-color: #434B5C;\n",
              "      box-shadow: 0px 1px 3px 1px rgba(0, 0, 0, 0.15);\n",
              "      filter: drop-shadow(0px 1px 2px rgba(0, 0, 0, 0.3));\n",
              "      fill: #FFFFFF;\n",
              "    }\n",
              "  </style>\n",
              "\n",
              "      <script>\n",
              "        const buttonEl =\n",
              "          document.querySelector('#df-abce67eb-2922-4965-91e0-8434a7cc40d0 button.colab-df-convert');\n",
              "        buttonEl.style.display =\n",
              "          google.colab.kernel.accessAllowed ? 'block' : 'none';\n",
              "\n",
              "        async function convertToInteractive(key) {\n",
              "          const element = document.querySelector('#df-abce67eb-2922-4965-91e0-8434a7cc40d0');\n",
              "          const dataTable =\n",
              "            await google.colab.kernel.invokeFunction('convertToInteractive',\n",
              "                                                     [key], {});\n",
              "          if (!dataTable) return;\n",
              "\n",
              "          const docLinkHtml = 'Like what you see? Visit the ' +\n",
              "            '<a target=\"_blank\" href=https://colab.research.google.com/notebooks/data_table.ipynb>data table notebook</a>'\n",
              "            + ' to learn more about interactive tables.';\n",
              "          element.innerHTML = '';\n",
              "          dataTable['output_type'] = 'display_data';\n",
              "          await google.colab.output.renderOutput(dataTable, element);\n",
              "          const docLink = document.createElement('div');\n",
              "          docLink.innerHTML = docLinkHtml;\n",
              "          element.appendChild(docLink);\n",
              "        }\n",
              "      </script>\n",
              "    </div>\n",
              "  </div>\n",
              "  "
            ]
          },
          "metadata": {},
          "execution_count": 90
        }
      ]
    },
    {
      "cell_type": "code",
      "source": [
        "datos.reset_index(inplace=True)\n",
        "datos.rename(columns={'Datetime': 'date'}, inplace=True)\n",
        "datos"
      ],
      "metadata": {
        "colab": {
          "base_uri": "https://localhost:8080/",
          "height": 424
        },
        "id": "zsSmYDrkaH4C",
        "outputId": "f3f96ee8-8676-4aa5-f683-cc4a6aceb711"
      },
      "execution_count": null,
      "outputs": [
        {
          "output_type": "execute_result",
          "data": {
            "text/plain": [
              "                          date        AAPL         IBM        MSFT        PFE  \\\n",
              "0    2021-06-22 09:30:00-04:00  132.119904  139.818359  264.214996  39.410000   \n",
              "1    2021-06-22 10:30:00-04:00  132.615005  139.978210  264.433014  39.540001   \n",
              "2    2021-06-22 11:30:00-04:00  132.917297  139.426392  264.725006  39.687199   \n",
              "3    2021-06-22 12:30:00-04:00  133.320099  139.713196  264.549286  39.662998   \n",
              "4    2021-06-22 13:30:00-04:00  133.335602  139.588913  264.522003  39.505001   \n",
              "...                        ...         ...         ...         ...        ...   \n",
              "3508 2023-06-21 11:30:00-04:00  184.065002  134.046005  333.690002  39.160000   \n",
              "3509 2023-06-21 12:30:00-04:00  184.130005  133.970001  333.669891  39.100101   \n",
              "3510 2023-06-21 13:30:00-04:00  185.100006  133.679993  335.209991  39.148201   \n",
              "3511 2023-06-21 14:30:00-04:00  184.505005  133.800003  334.170013  39.052799   \n",
              "3512 2023-06-21 15:30:00-04:00  183.960007  133.690002  333.559998  38.900002   \n",
              "\n",
              "             XOM  \n",
              "0      63.236801  \n",
              "1      63.669998  \n",
              "2      63.570000  \n",
              "3      63.645000  \n",
              "4      63.770000  \n",
              "...          ...  \n",
              "3508  104.489998  \n",
              "3509  104.349998  \n",
              "3510  104.269997  \n",
              "3511  104.153198  \n",
              "3512  103.870003  \n",
              "\n",
              "[3513 rows x 6 columns]"
            ],
            "text/html": [
              "\n",
              "  <div id=\"df-b4c822d1-5ac7-4893-9989-9393e2c06e72\">\n",
              "    <div class=\"colab-df-container\">\n",
              "      <div>\n",
              "<style scoped>\n",
              "    .dataframe tbody tr th:only-of-type {\n",
              "        vertical-align: middle;\n",
              "    }\n",
              "\n",
              "    .dataframe tbody tr th {\n",
              "        vertical-align: top;\n",
              "    }\n",
              "\n",
              "    .dataframe thead th {\n",
              "        text-align: right;\n",
              "    }\n",
              "</style>\n",
              "<table border=\"1\" class=\"dataframe\">\n",
              "  <thead>\n",
              "    <tr style=\"text-align: right;\">\n",
              "      <th></th>\n",
              "      <th>date</th>\n",
              "      <th>AAPL</th>\n",
              "      <th>IBM</th>\n",
              "      <th>MSFT</th>\n",
              "      <th>PFE</th>\n",
              "      <th>XOM</th>\n",
              "    </tr>\n",
              "  </thead>\n",
              "  <tbody>\n",
              "    <tr>\n",
              "      <th>0</th>\n",
              "      <td>2021-06-22 09:30:00-04:00</td>\n",
              "      <td>132.119904</td>\n",
              "      <td>139.818359</td>\n",
              "      <td>264.214996</td>\n",
              "      <td>39.410000</td>\n",
              "      <td>63.236801</td>\n",
              "    </tr>\n",
              "    <tr>\n",
              "      <th>1</th>\n",
              "      <td>2021-06-22 10:30:00-04:00</td>\n",
              "      <td>132.615005</td>\n",
              "      <td>139.978210</td>\n",
              "      <td>264.433014</td>\n",
              "      <td>39.540001</td>\n",
              "      <td>63.669998</td>\n",
              "    </tr>\n",
              "    <tr>\n",
              "      <th>2</th>\n",
              "      <td>2021-06-22 11:30:00-04:00</td>\n",
              "      <td>132.917297</td>\n",
              "      <td>139.426392</td>\n",
              "      <td>264.725006</td>\n",
              "      <td>39.687199</td>\n",
              "      <td>63.570000</td>\n",
              "    </tr>\n",
              "    <tr>\n",
              "      <th>3</th>\n",
              "      <td>2021-06-22 12:30:00-04:00</td>\n",
              "      <td>133.320099</td>\n",
              "      <td>139.713196</td>\n",
              "      <td>264.549286</td>\n",
              "      <td>39.662998</td>\n",
              "      <td>63.645000</td>\n",
              "    </tr>\n",
              "    <tr>\n",
              "      <th>4</th>\n",
              "      <td>2021-06-22 13:30:00-04:00</td>\n",
              "      <td>133.335602</td>\n",
              "      <td>139.588913</td>\n",
              "      <td>264.522003</td>\n",
              "      <td>39.505001</td>\n",
              "      <td>63.770000</td>\n",
              "    </tr>\n",
              "    <tr>\n",
              "      <th>...</th>\n",
              "      <td>...</td>\n",
              "      <td>...</td>\n",
              "      <td>...</td>\n",
              "      <td>...</td>\n",
              "      <td>...</td>\n",
              "      <td>...</td>\n",
              "    </tr>\n",
              "    <tr>\n",
              "      <th>3508</th>\n",
              "      <td>2023-06-21 11:30:00-04:00</td>\n",
              "      <td>184.065002</td>\n",
              "      <td>134.046005</td>\n",
              "      <td>333.690002</td>\n",
              "      <td>39.160000</td>\n",
              "      <td>104.489998</td>\n",
              "    </tr>\n",
              "    <tr>\n",
              "      <th>3509</th>\n",
              "      <td>2023-06-21 12:30:00-04:00</td>\n",
              "      <td>184.130005</td>\n",
              "      <td>133.970001</td>\n",
              "      <td>333.669891</td>\n",
              "      <td>39.100101</td>\n",
              "      <td>104.349998</td>\n",
              "    </tr>\n",
              "    <tr>\n",
              "      <th>3510</th>\n",
              "      <td>2023-06-21 13:30:00-04:00</td>\n",
              "      <td>185.100006</td>\n",
              "      <td>133.679993</td>\n",
              "      <td>335.209991</td>\n",
              "      <td>39.148201</td>\n",
              "      <td>104.269997</td>\n",
              "    </tr>\n",
              "    <tr>\n",
              "      <th>3511</th>\n",
              "      <td>2023-06-21 14:30:00-04:00</td>\n",
              "      <td>184.505005</td>\n",
              "      <td>133.800003</td>\n",
              "      <td>334.170013</td>\n",
              "      <td>39.052799</td>\n",
              "      <td>104.153198</td>\n",
              "    </tr>\n",
              "    <tr>\n",
              "      <th>3512</th>\n",
              "      <td>2023-06-21 15:30:00-04:00</td>\n",
              "      <td>183.960007</td>\n",
              "      <td>133.690002</td>\n",
              "      <td>333.559998</td>\n",
              "      <td>38.900002</td>\n",
              "      <td>103.870003</td>\n",
              "    </tr>\n",
              "  </tbody>\n",
              "</table>\n",
              "<p>3513 rows × 6 columns</p>\n",
              "</div>\n",
              "      <button class=\"colab-df-convert\" onclick=\"convertToInteractive('df-b4c822d1-5ac7-4893-9989-9393e2c06e72')\"\n",
              "              title=\"Convert this dataframe to an interactive table.\"\n",
              "              style=\"display:none;\">\n",
              "        \n",
              "  <svg xmlns=\"http://www.w3.org/2000/svg\" height=\"24px\"viewBox=\"0 0 24 24\"\n",
              "       width=\"24px\">\n",
              "    <path d=\"M0 0h24v24H0V0z\" fill=\"none\"/>\n",
              "    <path d=\"M18.56 5.44l.94 2.06.94-2.06 2.06-.94-2.06-.94-.94-2.06-.94 2.06-2.06.94zm-11 1L8.5 8.5l.94-2.06 2.06-.94-2.06-.94L8.5 2.5l-.94 2.06-2.06.94zm10 10l.94 2.06.94-2.06 2.06-.94-2.06-.94-.94-2.06-.94 2.06-2.06.94z\"/><path d=\"M17.41 7.96l-1.37-1.37c-.4-.4-.92-.59-1.43-.59-.52 0-1.04.2-1.43.59L10.3 9.45l-7.72 7.72c-.78.78-.78 2.05 0 2.83L4 21.41c.39.39.9.59 1.41.59.51 0 1.02-.2 1.41-.59l7.78-7.78 2.81-2.81c.8-.78.8-2.07 0-2.86zM5.41 20L4 18.59l7.72-7.72 1.47 1.35L5.41 20z\"/>\n",
              "  </svg>\n",
              "      </button>\n",
              "      \n",
              "  <style>\n",
              "    .colab-df-container {\n",
              "      display:flex;\n",
              "      flex-wrap:wrap;\n",
              "      gap: 12px;\n",
              "    }\n",
              "\n",
              "    .colab-df-convert {\n",
              "      background-color: #E8F0FE;\n",
              "      border: none;\n",
              "      border-radius: 50%;\n",
              "      cursor: pointer;\n",
              "      display: none;\n",
              "      fill: #1967D2;\n",
              "      height: 32px;\n",
              "      padding: 0 0 0 0;\n",
              "      width: 32px;\n",
              "    }\n",
              "\n",
              "    .colab-df-convert:hover {\n",
              "      background-color: #E2EBFA;\n",
              "      box-shadow: 0px 1px 2px rgba(60, 64, 67, 0.3), 0px 1px 3px 1px rgba(60, 64, 67, 0.15);\n",
              "      fill: #174EA6;\n",
              "    }\n",
              "\n",
              "    [theme=dark] .colab-df-convert {\n",
              "      background-color: #3B4455;\n",
              "      fill: #D2E3FC;\n",
              "    }\n",
              "\n",
              "    [theme=dark] .colab-df-convert:hover {\n",
              "      background-color: #434B5C;\n",
              "      box-shadow: 0px 1px 3px 1px rgba(0, 0, 0, 0.15);\n",
              "      filter: drop-shadow(0px 1px 2px rgba(0, 0, 0, 0.3));\n",
              "      fill: #FFFFFF;\n",
              "    }\n",
              "  </style>\n",
              "\n",
              "      <script>\n",
              "        const buttonEl =\n",
              "          document.querySelector('#df-b4c822d1-5ac7-4893-9989-9393e2c06e72 button.colab-df-convert');\n",
              "        buttonEl.style.display =\n",
              "          google.colab.kernel.accessAllowed ? 'block' : 'none';\n",
              "\n",
              "        async function convertToInteractive(key) {\n",
              "          const element = document.querySelector('#df-b4c822d1-5ac7-4893-9989-9393e2c06e72');\n",
              "          const dataTable =\n",
              "            await google.colab.kernel.invokeFunction('convertToInteractive',\n",
              "                                                     [key], {});\n",
              "          if (!dataTable) return;\n",
              "\n",
              "          const docLinkHtml = 'Like what you see? Visit the ' +\n",
              "            '<a target=\"_blank\" href=https://colab.research.google.com/notebooks/data_table.ipynb>data table notebook</a>'\n",
              "            + ' to learn more about interactive tables.';\n",
              "          element.innerHTML = '';\n",
              "          dataTable['output_type'] = 'display_data';\n",
              "          await google.colab.output.renderOutput(dataTable, element);\n",
              "          const docLink = document.createElement('div');\n",
              "          docLink.innerHTML = docLinkHtml;\n",
              "          element.appendChild(docLink);\n",
              "        }\n",
              "      </script>\n",
              "    </div>\n",
              "  </div>\n",
              "  "
            ]
          },
          "metadata": {},
          "execution_count": 91
        }
      ]
    },
    {
      "cell_type": "code",
      "source": [
        "datos.to_csv('datasets/yf_datos.csv', encoding='utf-8-sig', index=False)\n",
        "datos.to_csv('/content/drive/MyDrive/Cruso-ApsFinancieras/semana11/yf_datos.csv', encoding='utf-8-sig', index=False)"
      ],
      "metadata": {
        "id": "D-IkJ4w2a2-u"
      },
      "execution_count": null,
      "outputs": []
    },
    {
      "cell_type": "code",
      "source": [
        "!python main_crossformer.py --data yf_datos --in_len 168 --out_len 24 --seg_len 6 --itr 1 --data_path yf_datos.csv --data_dim 5 --train_epochs 5"
      ],
      "metadata": {
        "colab": {
          "base_uri": "https://localhost:8080/"
        },
        "id": "Q0N5v7cZZuVS",
        "outputId": "2540c3b2-f705-4455-be01-129bf98af157"
      },
      "execution_count": null,
      "outputs": [
        {
          "output_type": "stream",
          "name": "stdout",
          "text": [
            "Args in experiment:\n",
            "Namespace(data='yf_datos', root_path='./datasets/', data_path='yf_datos.csv', data_split=[0.7, 0.1, 0.2], checkpoints='./checkpoints/', in_len=168, out_len=24, seg_len=6, win_size=2, factor=10, data_dim=5, d_model=256, d_ff=512, n_heads=4, e_layers=3, dropout=0.2, baseline=False, num_workers=0, batch_size=32, train_epochs=2, patience=3, learning_rate=0.0001, lradj='type1', itr=1, save_pred=False, use_gpu=False, gpu=0, use_multi_gpu=False, devices='0,1,2,3')\n",
            "Use CPU\n",
            ">>>>>>>start training : Crossformer_yf_datos_il168_ol24_sl6_win2_fa10_dm256_nh4_el3_itr0>>>>>>>>>>>>>>>>>>>>>>>>>>\n",
            "train 2268\n",
            "val 329\n",
            "test 679\n",
            "Epoch: 1 cost time: 205.83442521095276\n",
            "Epoch: 1, Steps: 71 | Train Loss: 0.4131781 Vali Loss: 0.2146662 Test Loss: 0.0939211\n",
            "Validation loss decreased (inf --> 0.214666).  Saving model ...\n",
            "Epoch: 2 cost time: 204.26034426689148\n",
            "Epoch: 2, Steps: 71 | Train Loss: 0.1611887 Vali Loss: 0.1733536 Test Loss: 0.0850371\n",
            "Validation loss decreased (0.214666 --> 0.173354).  Saving model ...\n",
            "Updating learning rate to 5e-05\n",
            ">>>>>>>testing : Crossformer_yf_datos_il168_ol24_sl6_win2_fa10_dm256_nh4_el3_itr0<<<<<<<<<<<<<<<<<<<<<<<<<<<<<<<<<\n",
            "test 679\n",
            "mse:0.08400412648916245, mae:0.22389203310012817\n"
          ]
        }
      ]
    },
    {
      "cell_type": "code",
      "source": [
        "!python eval_crossformer.py --checkpoint_root ./checkpoints --setting_name Crossformer_yf_datos_il168_ol24_sl6_win2_fa10_dm256_nh4_el3_itr0 --save_pred"
      ],
      "metadata": {
        "colab": {
          "base_uri": "https://localhost:8080/"
        },
        "id": "6SLTtYJvZuQs",
        "outputId": "ee1689ba-12de-4554-e7fe-d49b7e5977ab"
      },
      "execution_count": null,
      "outputs": [
        {
          "output_type": "stream",
          "name": "stdout",
          "text": [
            "Use CPU\n",
            "mse:0.08400412648916245, mae:0.22389203310012817\n"
          ]
        }
      ]
    },
    {
      "cell_type": "code",
      "source": [
        "aaa = np.load('/content/Crossformer/results/Crossformer_yf_datos_il168_ol24_sl6_win2_fa10_dm256_nh4_el3_itr0/pred.npy')"
      ],
      "metadata": {
        "id": "bAeNWn42ZuOh"
      },
      "execution_count": null,
      "outputs": []
    },
    {
      "cell_type": "code",
      "source": [
        "bbb = np.load('/content/Crossformer/results/Crossformer_yf_datos_il168_ol24_sl6_win2_fa10_dm256_nh4_el3_itr0/true.npy')"
      ],
      "metadata": {
        "id": "DUSjJtR2ZuMc"
      },
      "execution_count": null,
      "outputs": []
    },
    {
      "cell_type": "code",
      "source": [
        "token = 2\n",
        "plt.plot(aaa[1][:,token], label=\"Valor predicho\")\n",
        "plt.plot(bbb[1][:,token], label=\"Valor real\")"
      ],
      "metadata": {
        "colab": {
          "base_uri": "https://localhost:8080/",
          "height": 447
        },
        "id": "QdZsKG8yZuKE",
        "outputId": "0ac860fb-8b72-49c4-c23b-7a63f8927659"
      },
      "execution_count": null,
      "outputs": [
        {
          "output_type": "execute_result",
          "data": {
            "text/plain": [
              "[<matplotlib.lines.Line2D at 0x7f5eb192cf10>]"
            ]
          },
          "metadata": {},
          "execution_count": 119
        },
        {
          "output_type": "display_data",
          "data": {
            "text/plain": [
              "<Figure size 640x480 with 1 Axes>"
            ],
            "image/png": "[encoded data removed]"
          },
          "metadata": {}
        }
      ]
    },
    {
      "cell_type": "code",
      "source": [
        "token = 3\n",
        "plt.plot(aaa[1][:,token])\n",
        "plt.plot(bbb[1][:,token])"
      ],
      "metadata": {
        "id": "qEbh8MmE9h7e"
      },
      "execution_count": null,
      "outputs": []
    },
    {
      "cell_type": "code",
      "source": [
        "token = 4\n",
        "plt.plot(aaa[1][:,token])\n",
        "plt.plot(bbb[1][:,token])"
      ],
      "metadata": {
        "id": "AjZNPkCp9h1p"
      },
      "execution_count": null,
      "outputs": []
    }
  ]
}